{
 "cells": [
  {
   "cell_type": "code",
   "execution_count": 31,
   "id": "e25c2823",
   "metadata": {},
   "outputs": [],
   "source": [
    "import numpy as np\n",
    "from numpy import random\n",
    "\n",
    "rng = random.default_rng(seed=42)\n",
    "\n",
    "def is_positive(v):\n",
    "    return v > 0\n",
    "\n",
    "def random_case(string):\n",
    "    new_str = \"\"\n",
    "    for i in range(len(string)):\n",
    "        if rng.integers(0, 2):\n",
    "            new_str += string[i].capitalize()\n",
    "        else:\n",
    "            new_str += string[i]\n",
    "    return new_str\n",
    "\n",
    "def marginal(n):\n",
    "    a = rng.random(n)\n",
    "    a /= a.sum()\n",
    "    return a"
   ]
  },
  {
   "cell_type": "code",
   "execution_count": 32,
   "id": "739f7890",
   "metadata": {},
   "outputs": [
    {
     "name": "stdout",
     "output_type": "stream",
     "text": [
      "[ True False False  True]\n"
     ]
    }
   ],
   "source": [
    "print(is_positive(np.array([2, -4, 0, 3])))"
   ]
  },
  {
   "cell_type": "code",
   "execution_count": 33,
   "id": "eac100d6",
   "metadata": {},
   "outputs": [
    {
     "name": "stdout",
     "output_type": "stream",
     "text": [
      "sPOngEbOb\n"
     ]
    }
   ],
   "source": [
    "print(random_case(\"spongebob\"))"
   ]
  },
  {
   "cell_type": "code",
   "execution_count": 34,
   "id": "4e981334",
   "metadata": {},
   "outputs": [
    {
     "name": "stdout",
     "output_type": "stream",
     "text": [
      "[0.31458233 0.24542396 0.25346072 0.04130931 0.14522367]\n",
      "1.0\n"
     ]
    }
   ],
   "source": [
    "dist = marginal(5)\n",
    "print(dist)\n",
    "print(dist.sum())"
   ]
  },
  {
   "cell_type": "code",
   "execution_count": null,
   "id": "de4a2138",
   "metadata": {},
   "outputs": [],
   "source": []
  }
 ],
 "metadata": {
  "kernelspec": {
   "display_name": "base",
   "language": "python",
   "name": "python3"
  },
  "language_info": {
   "codemirror_mode": {
    "name": "ipython",
    "version": 3
   },
   "file_extension": ".py",
   "mimetype": "text/x-python",
   "name": "python",
   "nbconvert_exporter": "python",
   "pygments_lexer": "ipython3",
   "version": "3.13.5"
  }
 },
 "nbformat": 4,
 "nbformat_minor": 5
}
