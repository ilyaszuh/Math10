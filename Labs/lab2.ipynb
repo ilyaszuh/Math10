{
 "cells": [
  {
   "cell_type": "markdown",
   "id": "ddcfbe6f",
   "metadata": {},
   "source": [
    "1) Make a 5x5 matrix filled with random integers between [0, 10)"
   ]
  },
  {
   "cell_type": "code",
   "execution_count": 52,
   "id": "bc54edf4",
   "metadata": {},
   "outputs": [],
   "source": [
    "import numpy as np\n",
    "from numpy import random\n",
    "rng = random.default_rng(42)"
   ]
  },
  {
   "cell_type": "code",
   "execution_count": 53,
   "id": "555be5c2",
   "metadata": {},
   "outputs": [
    {
     "name": "stdout",
     "output_type": "stream",
     "text": [
      "[[0 7 6 4 4]\n",
      " [8 0 6 2 0]\n",
      " [5 9 7 7 7]\n",
      " [7 5 1 8 4]\n",
      " [5 3 1 9 7]]\n"
     ]
    }
   ],
   "source": [
    "M = rng.integers(0, 10, (5, 5))\n",
    "print(M)"
   ]
  },
  {
   "cell_type": "code",
   "execution_count": 54,
   "id": "2bbd4cb7",
   "metadata": {},
   "outputs": [
    {
     "name": "stdout",
     "output_type": "stream",
     "text": [
      "['A' '2' '3']\n"
     ]
    }
   ],
   "source": [
    "a = [\"A\", 2, 3]\n",
    "a = np.array(a)\n",
    "print(a)"
   ]
  },
  {
   "cell_type": "markdown",
   "id": "64a55c0b",
   "metadata": {},
   "source": [
    "2) Print the last two rows"
   ]
  },
  {
   "cell_type": "code",
   "execution_count": 55,
   "id": "c0041c10",
   "metadata": {},
   "outputs": [
    {
     "name": "stdout",
     "output_type": "stream",
     "text": [
      "[[7 5 1 8 4]\n",
      " [5 3 1 9 7]]\n"
     ]
    }
   ],
   "source": [
    "print(M[3:][:])"
   ]
  },
  {
   "cell_type": "markdown",
   "id": "10aa415c",
   "metadata": {},
   "source": [
    "3) Print the middle column only"
   ]
  },
  {
   "cell_type": "code",
   "execution_count": 56,
   "id": "bc023b11",
   "metadata": {},
   "outputs": [
    {
     "name": "stdout",
     "output_type": "stream",
     "text": [
      "[6 6 7 1 1]\n"
     ]
    }
   ],
   "source": [
    "print(M[:,2])"
   ]
  },
  {
   "cell_type": "markdown",
   "id": "1443c5ea",
   "metadata": {},
   "source": [
    "4) Print the bottom left 2x2 minor"
   ]
  },
  {
   "cell_type": "code",
   "execution_count": 57,
   "id": "add48a87",
   "metadata": {},
   "outputs": [
    {
     "name": "stdout",
     "output_type": "stream",
     "text": [
      "[[7 5]\n",
      " [5 3]]\n"
     ]
    }
   ],
   "source": [
    "print(M[-2:, 0:2])"
   ]
  },
  {
   "cell_type": "code",
   "execution_count": null,
   "id": "43817c37",
   "metadata": {},
   "outputs": [],
   "source": [
    " "
   ]
  }
 ],
 "metadata": {
  "kernelspec": {
   "display_name": "base",
   "language": "python",
   "name": "python3"
  },
  "language_info": {
   "codemirror_mode": {
    "name": "ipython",
    "version": 3
   },
   "file_extension": ".py",
   "mimetype": "text/x-python",
   "name": "python",
   "nbconvert_exporter": "python",
   "pygments_lexer": "ipython3",
   "version": "3.13.5"
  }
 },
 "nbformat": 4,
 "nbformat_minor": 5
}
