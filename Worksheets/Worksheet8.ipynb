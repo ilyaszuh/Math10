{
 "cells": [
  {
   "cell_type": "markdown",
   "metadata": {
    "cell_id": "712126327c1a4aa595e28a04661757e8",
    "deepnote_cell_type": "markdown",
    "tags": []
   },
   "source": [
    "# Worksheet 8\n",
    "\n",
    "You are encouraged to work in groups of up to 3 total students, but each student should make their own submission on Canvas.  (It's fine for everyone in the group to have the same upload.)"
   ]
  },
  {
   "cell_type": "markdown",
   "metadata": {
    "cell_id": "1a5fd8dac79d45fa900e97f024f14a2d",
    "deepnote_cell_type": "markdown",
    "tags": []
   },
   "source": [
    "## Overview\n",
    "\n",
    "This project includes a csv file `unemployment.csv` which includes US unemployment rates for various industries between 2000 and 2010.\n",
    "\n",
    "* Load that csv file using `pd.read_csv` and save the resulting DataFrame as `df`.\n",
    "\n",
    "The background question for this homework is,\n",
    "> How does the time of year affect unemployment in different industries?"
   ]
  },
  {
   "cell_type": "markdown",
   "metadata": {
    "cell_id": "7630942101064c93a00508dcd5f518c0",
    "deepnote_cell_type": "markdown"
   },
   "source": [
    "## Cleaning the data"
   ]
  },
  {
   "cell_type": "markdown",
   "metadata": {
    "cell_id": "06b27f3863e94721b9d8e6a983fa863f",
    "deepnote_cell_type": "markdown"
   },
   "source": [
    "* Evaluate `df.dtypes`.  Notice that this \"date\" column is not being recognized as containing datetime values."
   ]
  },
  {
   "cell_type": "markdown",
   "metadata": {
    "cell_id": "580fca7dcd18492a87f30719ed060da1",
    "deepnote_cell_type": "markdown"
   },
   "source": [
    "* Convert this column to datetime format using `pd.to_datetime`."
   ]
  },
  {
   "cell_type": "markdown",
   "metadata": {
    "cell_id": "1e672125fe6a438e9b9b97df7e6d7edd",
    "deepnote_cell_type": "markdown"
   },
   "source": [
    "* Evaluate `df.dtypes` and `df.dtypes[\"date\"]` to make sure the change has actually occurred within `df`."
   ]
  },
  {
   "cell_type": "markdown",
   "metadata": {
    "cell_id": "9695c067199944eba2b73c35d5bb5b7c",
    "deepnote_cell_type": "markdown"
   },
   "source": [
    "Less good strategy, just for practice with `map` and lambda functions.\n",
    "\n",
    "* Using the pandas Series method `map` and a lambda function, make a new column `\"month0\"` which contains the numerical month for each date.  (For example, `4` if the date is in April.)\n",
    "\n",
    "Side question: why don't you need to use the `dt` accessor here?"
   ]
  },
  {
   "cell_type": "markdown",
   "metadata": {
    "cell_id": "68f7737ddb2b4746b2ed2ed48550cf97",
    "deepnote_cell_type": "markdown"
   },
   "source": [
    "Better strategy.\n",
    "\n",
    "* Make a new column `\"month\"` in the DataFrame which contains the numerical month for each date.  Use the `dt` accessor but not `map`."
   ]
  },
  {
   "cell_type": "markdown",
   "metadata": {
    "cell_id": "a0ce750c782342abb11825d6040e2ef7",
    "deepnote_cell_type": "markdown"
   },
   "source": [
    "* Verify that the \"month\" and \"month0\" columns contain the same values.  First create a Boolean Series, then call the `all` method."
   ]
  },
  {
   "cell_type": "markdown",
   "metadata": {
    "cell_id": "bc19ba6a35604e9e8486ff31e7826e73",
    "deepnote_cell_type": "markdown"
   },
   "source": [
    "* Evaluate the following.  What is it telling us about the presence of missing values in `df`?\n",
    "```\n",
    "df.isna().any(axis=1).any()\n",
    "```"
   ]
  },
  {
   "cell_type": "markdown",
   "metadata": {
    "cell_id": "42bb6fc54b5d42aaaaa464bd223582e0",
    "deepnote_cell_type": "markdown"
   },
   "source": [
    "## Normalizing the data"
   ]
  },
  {
   "cell_type": "markdown",
   "metadata": {
    "cell_id": "f617eca0769a4ef19ccad5544f868114",
    "deepnote_cell_type": "markdown"
   },
   "source": [
    "* Make a pandas Series `mean_ser` containing the average unemployment rate for each industry, using the following code.\n",
    "```\n",
    "mean_ser = df.groupby(\"industry\")[\"rate\"].mean()\n",
    "```"
   ]
  },
  {
   "cell_type": "markdown",
   "metadata": {
    "cell_id": "13d2e2d8f438489ab25a47093e85708c",
    "deepnote_cell_type": "markdown"
   },
   "source": [
    "* Make the analogous pandas Series for standard deviation, and name it `std_ser`."
   ]
  },
  {
   "cell_type": "markdown",
   "metadata": {
    "cell_id": "e57e496f74f6438d9b46921822260f65",
    "deepnote_cell_type": "markdown"
   },
   "source": [
    "* Write a function `make_norm` which takes as input a row of `df` (not a row label but the whole row as a pandas Series) and as output returns the normalized unemployment rate, where by \"normalized\", mean that you should subtract the mean for that industry and divide by the standard deviation for that industry.  \n",
    "\n",
    "For example, if `rate` is `7`, the `mean` for the industry is `1.2` and the standard deviation for the industry is `4.3`, then the function should return `(7 - 1.2)/4.3`."
   ]
  },
  {
   "cell_type": "markdown",
   "metadata": {
    "cell_id": "beebc6646409414fbd9c478afb0d2d93",
    "deepnote_cell_type": "markdown"
   },
   "source": [
    "* Using `apply`, the above function `make_norm`, and a suitable `axis` argument, for each row in `df`, normalize the unemployment rate (so that the mean becomes 1 and the standard deviation becomes 1).  We need to use `apply` and not `map` here, because we need to know the industry.  Put the result in a new column in `df` called `\"norm_rate\"`."
   ]
  },
  {
   "cell_type": "markdown",
   "metadata": {
    "cell_id": "705434f6b43a42d6995e13739928b13d",
    "deepnote_cell_type": "markdown"
   },
   "source": [
    "* Using `groupby`, check that the means for the various industries of this new `\"norm_rate\"` column are all very close to 0, and the standard deviations are all close to 1."
   ]
  },
  {
   "cell_type": "markdown",
   "metadata": {
    "cell_id": "4b532fad6f664f9cb94e8dde6bb907d3",
    "deepnote_cell_type": "markdown"
   },
   "source": [
    "## Plotting the data"
   ]
  },
  {
   "cell_type": "markdown",
   "metadata": {
    "cell_id": "90a598c2b91a4677bb0535872e2fb6a2",
    "deepnote_cell_type": "markdown"
   },
   "source": [
    "* Make an Altair chart of this data, using `mark_line`, using \"date\" for the x-channel, using \"norm_rate\" for the y-channel, and using \"industry\" for the color.\n",
    "\n",
    "Side question: can you recognize the impact of the 2008 financial crisis?"
   ]
  },
  {
   "cell_type": "markdown",
   "metadata": {
    "cell_id": "c307449ad158422785280aebaa7feeb4",
    "deepnote_cell_type": "markdown"
   },
   "source": [
    "* Make the same Altair chart, but change from \"date\" to \"month\" for the x-channel.\n",
    "\n",
    "(It will look like a mess because each industry has the same month repeated many times, corresponding to different years.)"
   ]
  },
  {
   "cell_type": "markdown",
   "metadata": {
    "cell_id": "6aaccc1bbd3242c89c4bb45600cfc41e",
    "deepnote_cell_type": "markdown"
   },
   "source": [
    "* Make the same chart as in the previous cell, but change from `y=\"norm_rate\"` to `y=\"mean(norm_rate)\"`.  This will replace the many-points-per-industry with a single point per industry.  Store the chart with the variable name `c`, and display this chart."
   ]
  },
  {
   "cell_type": "markdown",
   "metadata": {
    "cell_id": "d86f90a6bb2d41a587d86fc037e95c3f",
    "deepnote_cell_type": "markdown"
   },
   "source": [
    "* Notice that \"Government\" appears to have the highest average normalized unemployment in July.  Using Boolean indexing and `mean`, compute this average directly using pandas, and make sure it matches the value you see in Altair.  (It should be approximately 1.3.)"
   ]
  },
  {
   "cell_type": "markdown",
   "metadata": {
    "cell_id": "5761aeee37c0468789dc625198b4b1d8",
    "deepnote_cell_type": "markdown"
   },
   "source": [
    "## Submission\n",
    "\n",
    "* Save the chart as a json file using the following code and upload that json file to Canvas.\n",
    "```\n",
    "with open(\"chart.json\", \"w\") as f:\n",
    "    f.write(c.to_json())\n",
    "```"
   ]
  }
 ],
 "metadata": {
  "deepnote": {
   "is_reactive": false
  },
  "deepnote_execution_queue": [],
  "deepnote_notebook_id": "cc685e0bfbd840ee8c71d1e7c214ad6a",
  "deepnote_persisted_session": {
   "createdAt": "2023-04-25T21:15:46.672Z"
  },
  "kernelspec": {
   "display_name": "Python 3 (ipykernel)",
   "language": "python",
   "name": "python3"
  },
  "language_info": {
   "codemirror_mode": {
    "name": "ipython",
    "version": 3
   },
   "file_extension": ".py",
   "mimetype": "text/x-python",
   "name": "python",
   "nbconvert_exporter": "python",
   "pygments_lexer": "ipython3",
   "version": "3.9.16"
  }
 },
 "nbformat": 4,
 "nbformat_minor": 4
}
