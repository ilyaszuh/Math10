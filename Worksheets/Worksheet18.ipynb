{
 "cells": [
  {
   "cell_type": "markdown",
   "metadata": {
    "cell_id": "610618b68d924400af0c474aff4d71fe",
    "deepnote_cell_type": "markdown",
    "tags": []
   },
   "source": [
    "# Worksheet 18\n",
    "\n",
    "Names (3 maximum; use your full names): **BLANK**\n",
    "\n",
    "The main part of this worksheet is based on an example from Jake VanderPlas's book, [Python Data Science Handbook](https://jakevdp.github.io/PythonDataScienceHandbook/)."
   ]
  },
  {
   "cell_type": "markdown",
   "metadata": {
    "cell_id": "688313f8d567403d9e4f3ca7ca544e0d",
    "deepnote_cell_type": "markdown"
   },
   "source": [
    "## Gathering the data"
   ]
  },
  {
   "cell_type": "markdown",
   "metadata": {
    "cell_id": "fcfa8f1436d0480ea9369c4091e509bc",
    "deepnote_cell_type": "markdown",
    "tags": []
   },
   "source": [
    "* Go to [https://data.seattle.gov/](https://data.seattle.gov/) and find the \"Fremont Bridge Bicycle Counter\" dataset (**not** the one called \"Timeline\", the plain one).  Download the csv file for that dataset (click the \"Export\" button at the top right), and upload that csv file to this Deepnote project.  Rename the csv file to \"Fremont.csv\".  (You can click the three dots to the right of the file name, to reach the option to rename it.  Or just rename it on your computer before you upload the file.)"
   ]
  },
  {
   "cell_type": "markdown",
   "metadata": {
    "cell_id": "5ee094c5696c4c1f96c46ffb2b295c21",
    "deepnote_cell_type": "markdown"
   },
   "source": [
    "* Read in the Fremont.csv file from Part 0 using pandas.  Use the `parse_dates` keyword argument of `read_csv` to tell pandas to convert the values in the \"Date\" column to dates.  (You will probably need to look up the documentation for `read_csv`.  I originally tried using `parse_dates=True`, but that didn't work.)\n",
    "* Drop the rows which contain missing values.\n",
    "* Keep only the first two columns and name the resulting DataFrame `df_pre`."
   ]
  },
  {
   "cell_type": "markdown",
   "metadata": {
    "cell_id": "afb1accffa684d0b9023d0973ea9876a",
    "deepnote_cell_type": "markdown",
    "tags": []
   },
   "source": [
    "* Rename the \"Fremont Bridge Sidewalks, south of N 34th St\" column to \"Bikes\", using a command of the form \n",
    "```\n",
    "df_pre.rename({???: ???}, axis=???, inplace=???)\n",
    "```\n",
    "* Using the `dt` accessor and two Boolean Series, define a new pandas DataFrame `df_pre2` from `df_pre` which contains only the rows in `df_pre` from the year 2022 and from the hour 8:00am in the morning.  Use `.copy()` to ensure that `df_pre2` is a new DataFrame.\n",
    "* Round the \"Date\" column of `df_pre2` to the nearest date (i.e., lose the 8:00am part) by using `dt`, `round` ([documentation](https://pandas.pydata.org/docs/reference/api/pandas.Series.dt.round.html)), and the nearest calendar day [offset](https://pandas.pydata.org/docs/user_guide/timeseries.html#timeseries-offset-aliases).\n",
    "\n",
    "Check: the resulting DataFrame should have 365 rows and 2 columns.\n",
    "\n",
    "Comment: At least in my dataset, the rows appear in a strange order, with August appearing at the beginning.  This won't affect us."
   ]
  },
  {
   "cell_type": "markdown",
   "metadata": {
    "cell_id": "808b2b34f4a7466388cdc21ff55e6d48",
    "deepnote_cell_type": "markdown",
    "tags": []
   },
   "source": [
    "The weather data in the attached `SeattleWeather.csv` file was downloaded from [this website](https://www.ncdc.noaa.gov/cdo-web/search?datasetid=GHCND).  (You don't need to re-download it; just use the provided csv file in this Deepnote project.)  You can find definitions for the columns in this csv file in the attached `WeatherDoc.pdf` file.\n",
    "\n",
    "* Read in the contents of the SeattleWeather.csv file, again use `parse_dates` to convert the \"DATE\" column to a datetime data type, and name the resulting DataFrame `df_weather`."
   ]
  },
  {
   "cell_type": "markdown",
   "metadata": {
    "cell_id": "69f9fa0cab9e4aacb5e6dd1c600dfec5",
    "deepnote_cell_type": "markdown",
    "tags": []
   },
   "source": [
    "* Use the pandas DataFrame method `merge` ([documentation](https://pandas.pydata.org/docs/reference/api/pandas.DataFrame.merge.html)) with `how=\"inner\"` to merge together `df_pre2` and `df_weather` on their columns containing dates.  Use the keyword arguments `left_on` and `right_on` because the date columns are spelled differently in these two datasets.  Name the resulting DataFrame `df`."
   ]
  },
  {
   "cell_type": "markdown",
   "metadata": {
    "cell_id": "c1bbd8d804c9443eae5333cc36932e17",
    "deepnote_cell_type": "markdown"
   },
   "source": [
    "* Using list comprehension, make a list `wt_list` of all the column names in `df` which begin with the letters `\"WT\"`."
   ]
  },
  {
   "cell_type": "markdown",
   "metadata": {
    "cell_id": "b39ab2f0779843b193d3f3d32773f2fa",
    "deepnote_cell_type": "markdown"
   },
   "source": [
    "* Add a column \"IsWeekend\" which contains `True` if the date is \"Saturday\" or \"Sunday\" and is `False` otherwise.  (Hint.  Use `dt` and the `day_name` method, together with `isin`.)"
   ]
  },
  {
   "cell_type": "markdown",
   "metadata": {
    "cell_id": "52896720ebff4e0dab9b8af47b71cd1d",
    "deepnote_cell_type": "markdown"
   },
   "source": [
    "* Add a column \"Month\" which contains the numeric month value."
   ]
  },
  {
   "cell_type": "markdown",
   "metadata": {
    "cell_id": "0a4837903f764b48845fb55cccdd3e77",
    "deepnote_cell_type": "markdown"
   },
   "source": [
    "* Using `df[wt_list] = df[wt_list]...` and the `fillna` method, replace all the missing values in these columns with `0`.\n",
    "* Remove the \"PGTM\" column from `df`, by using the `drop` method.\n",
    "* Drop the rows with missing values.\n",
    "\n",
    "Check: the resulting DataFrame should have 364 rows and 25 columns.\n",
    "\n"
   ]
  },
  {
   "cell_type": "markdown",
   "metadata": {
    "cell_id": "525f45c26be04b95bed9e907b271c5d0",
    "deepnote_cell_type": "markdown"
   },
   "source": [
    "## Machine Learning"
   ]
  },
  {
   "cell_type": "markdown",
   "metadata": {
    "cell_id": "6a9e020ae612440a9fc1d7b7042c5776",
    "deepnote_cell_type": "markdown"
   },
   "source": [
    "* Define a list `features` containing all the numeric columns from `df` except the \"Bikes\" column.  Use `is_numeric_dtype` from `pandas.api.types`."
   ]
  },
  {
   "cell_type": "markdown",
   "metadata": {
    "cell_id": "529000f1354847a2b3dce46823791d11",
    "deepnote_cell_type": "markdown"
   },
   "source": [
    "### Decision tree"
   ]
  },
  {
   "cell_type": "markdown",
   "metadata": {
    "cell_id": "4ba2ead2a3ef4f57b98f114fc5e0094a",
    "deepnote_cell_type": "markdown"
   },
   "source": [
    "* Fit a Decision Tree regressor `reg` with a maximum of `6` leaf nodes to the data, using the columns in `features` as the input variables and using the \"Bikes\" column as the target. "
   ]
  },
  {
   "cell_type": "markdown",
   "metadata": {
    "cell_id": "b1acc79ddf374a5aa7278cde422b290c",
    "deepnote_cell_type": "markdown"
   },
   "source": [
    "* Visualize this decision tree using the following code.  (Feel free to change the `figsize` part if it helps.)\n",
    "\n",
    "```\n",
    "import matplotlib.pyplot as plt\n",
    "from sklearn.tree import plot_tree\n",
    "\n",
    "fig = plt.figure(figsize=(20,10))\n",
    "_ = plot_tree(reg, feature_names=reg.feature_names_in_, filled=True)\n",
    "```"
   ]
  },
  {
   "cell_type": "markdown",
   "metadata": {
    "cell_id": "dee56cf772fd4ebc80a3ffa8e1f249c7",
    "deepnote_cell_type": "markdown"
   },
   "source": [
    "Using the above tree diagram, answer the following in a markdown cell.\n",
    "\n",
    "* List all the columns which are referenced in this decision tree.\n",
    "* Imagine a 55 degree Tuesday in August.  What value would be predicted by our decision tree?\n",
    "* What about a 60 degree Tuesday in August?"
   ]
  },
  {
   "cell_type": "markdown",
   "metadata": {
    "cell_id": "7dfa9c813773498690959eeb9e4dfd4c",
    "deepnote_cell_type": "markdown"
   },
   "source": [
    "* Check the reported feature importances using the following code.\n",
    "```\n",
    "pd.Series(reg.feature_importances_, index=reg.feature_names_in_).sort_values(ascending=False)\n",
    "```"
   ]
  },
  {
   "cell_type": "markdown",
   "metadata": {
    "cell_id": "f1542d687dc34ac6982b09cb20e81a24",
    "deepnote_cell_type": "markdown"
   },
   "source": [
    "* Add a column \"DT_Pred\" (for \"Decision Tree Prediction\") to `df` corresponding to the predicted values from `reg` for each row in `df`."
   ]
  },
  {
   "cell_type": "markdown",
   "metadata": {
    "cell_id": "fc5247db4b7746558108ca2da57a4397",
    "deepnote_cell_type": "markdown"
   },
   "source": [
    "* Plot the data together (in red) with the true data (in black) using the following code.\n",
    "\n",
    "```\n",
    "c1 = alt.Chart(df).mark_line(color=\"black\").encode(\n",
    "    x=\"Date\",\n",
    "    y=\"Bikes\"\n",
    ").properties(\n",
    "    width=1000\n",
    ")\n",
    "\n",
    "c2 = alt.Chart(df).mark_line(color=\"red\").encode(\n",
    "    x=\"Date\",\n",
    "    y=\"DT_Pred\"\n",
    ")\n",
    "\n",
    "c1+c2\n",
    "```"
   ]
  },
  {
   "cell_type": "markdown",
   "metadata": {
    "cell_id": "d9c2432db87648dbbb3e22a089fc6481",
    "deepnote_cell_type": "markdown"
   },
   "source": [
    "* Recall that we required our decision tree regressor to have at most 6 leaf nodes.  How is that number 6 reflected in the above chart?"
   ]
  },
  {
   "cell_type": "markdown",
   "metadata": {
    "cell_id": "9e427bb237664c209dd89ac16daacfd8",
    "deepnote_cell_type": "markdown"
   },
   "source": [
    "### Random forest"
   ]
  },
  {
   "cell_type": "markdown",
   "metadata": {
    "cell_id": "3809c12a1fba46eb9853eed958c793c5",
    "deepnote_cell_type": "markdown"
   },
   "source": [
    "* Fit a Random Forest regressor `rfr` to the data, using 200 estimators, each with a maximum of `6` leaf nodes. "
   ]
  },
  {
   "cell_type": "markdown",
   "metadata": {
    "cell_id": "471d720cee30450781e9577844480036",
    "deepnote_cell_type": "markdown"
   },
   "source": [
    "* Check the reported feature importances, by adapting the code from the Decision Tree portion."
   ]
  },
  {
   "cell_type": "markdown",
   "metadata": {
    "cell_id": "750457f610fc44b9bdc688b87245da8b",
    "deepnote_cell_type": "markdown"
   },
   "source": [
    "* What do you think is the most noteworthy difference between these values and the values we found above for a single decision tree?"
   ]
  },
  {
   "cell_type": "markdown",
   "metadata": {
    "cell_id": "de138c02def74060b03549c8c676ed3a",
    "deepnote_cell_type": "markdown"
   },
   "source": [
    "* Add a column \"RF_Pred\" to `df` containing the predicted values from `rfr`."
   ]
  },
  {
   "cell_type": "markdown",
   "metadata": {
    "cell_id": "af0bbea4e4a940859d0eb564e45c9ff5",
    "deepnote_cell_type": "markdown"
   },
   "source": [
    "* Make an Altair chart as above, but using the \"RF_Pred\" column instead of the \"DT_Pred\" column."
   ]
  },
  {
   "cell_type": "markdown",
   "metadata": {
    "cell_id": "afc9ffa667914db2bb8d2f01fdcec804",
    "deepnote_cell_type": "markdown"
   },
   "source": [
    "* What do you think is the most extreme difference between this chart and the above chart made using the decision tree?"
   ]
  },
  {
   "cell_type": "markdown",
   "metadata": {
    "cell_id": "789ce60aefb0491e9dad44eed22851db",
    "deepnote_cell_type": "markdown"
   },
   "source": [
    "### Linear regression"
   ]
  },
  {
   "cell_type": "markdown",
   "metadata": {
    "cell_id": "d0c03a1014c640a98b75a029d3b1dd0e",
    "deepnote_cell_type": "markdown"
   },
   "source": [
    "* Fit a `LinearRegression` object `lin` to the data."
   ]
  },
  {
   "cell_type": "markdown",
   "metadata": {
    "cell_id": "7c9f2e2e1d0c4c078a0f76989ff06e83",
    "deepnote_cell_type": "markdown"
   },
   "source": [
    "* We don't have a `feature_importances_` attribute for a `LinearRegression` object, but we can at least check the signs of the coefficients.  (The relative sizes of the numbers I think are not that meaningful.  To meaninfully compare the sizes of the coefficients, we should first rescale the data.)\n",
    "```\n",
    "pd.Series(lin.coef_, index=lin.feature_names_in_)\n",
    "```"
   ]
  },
  {
   "cell_type": "markdown",
   "metadata": {
    "cell_id": "f6c64702102f4aebbedc3ebcd33752eb",
    "deepnote_cell_type": "markdown"
   },
   "source": [
    "Answer the following questions in a markdown cell.\n",
    "* What is the sign of the \"PRCP\" coefficient?  Does it make sense?  Why?\n",
    "* What is the sign of the \"TMAX\" coefficient?  Does it make sense?  Why?\n",
    "* Does the sign of the \"IsWeekend\" coefficient suggest people are biking more often to go to work/school, or for recreation?  Briefly explain."
   ]
  },
  {
   "cell_type": "markdown",
   "metadata": {
    "cell_id": "7227773063bd4ada8f4e55a3bfc4a23a",
    "deepnote_cell_type": "markdown"
   },
   "source": [
    "* Add a column \"Lin_Pred\" to `df` containing the predicted values from `lin`."
   ]
  },
  {
   "cell_type": "markdown",
   "metadata": {
    "cell_id": "3198c09bbda84f24beadae57b85d9070",
    "deepnote_cell_type": "markdown"
   },
   "source": [
    "* Make an Altair chart as above, but using the \"Lin_Pred\" column for the predictions"
   ]
  },
  {
   "cell_type": "markdown",
   "metadata": {
    "cell_id": "141f7c368f004f8f92425df888b38572",
    "deepnote_cell_type": "markdown"
   },
   "source": [
    "* Why does the above linear regression function look so different from a straight line?  The graph certainly doesn't look \"linear\".  How is that possible?  Explain in a markdown cell."
   ]
  },
  {
   "cell_type": "code",
   "execution_count": null,
   "metadata": {
    "cell_id": "27bdedfd22c04a789653721665bb588b",
    "deepnote_cell_type": "code"
   },
   "outputs": [],
   "source": [
    "* Imagine we have some Machine Learning model (not linear regression, just some model) whose predictions exactly match the true bike data.  Why is that more likely to be a bad sign than a good sign?"
   ]
  },
  {
   "cell_type": "markdown",
   "metadata": {
    "cell_id": "9314de81debf483f86ea4f982668529d",
    "deepnote_cell_type": "markdown",
    "owner_user_id": "02be19f8-8497-4212-b8d0-46ca9f1d48b9",
    "tags": []
   },
   "source": [
    "## Submission\n",
    "\n",
    "* Reminder: everyone needs to make a submission on Canvas.\n",
    "* Reminder: include everyone's full name at the top, after **Names**.\n",
    "* Using the `Share` button at the top right, enable public sharing, and enable Comment privileges. Then submit the created link on Canvas."
   ]
  },
  {
   "cell_type": "markdown",
   "metadata": {
    "created_in_deepnote_cell": true,
    "deepnote_cell_type": "markdown"
   },
   "source": [
    "<a style='text-decoration:none;line-height:16px;display:flex;color:#5B5B62;padding:10px;justify-content:end;' href='https://deepnote.com?utm_source=created-in-deepnote-cell&projectId=ec757e78-98b0-4a18-b858-a41850e652e0' target=\"_blank\">\n",
    "<img alt='Created in deepnote.com' style='display:inline;max-height:16px;margin:0px;margin-right:7.5px;' src='data:image/svg+xml;base64,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' > </img>\n",
    "Created in <span style='font-weight:600;margin-left:4px;'>Deepnote</span></a>"
   ]
  }
 ],
 "metadata": {
  "deepnote": {},
  "deepnote_execution_queue": [],
  "deepnote_notebook_id": "c0db296d1c634d8c90f0599a9317961d",
  "kernelspec": {
   "display_name": "Python 3 (ipykernel)",
   "language": "python",
   "name": "python3"
  },
  "language_info": {
   "codemirror_mode": {
    "name": "ipython",
    "version": 3
   },
   "file_extension": ".py",
   "mimetype": "text/x-python",
   "name": "python",
   "nbconvert_exporter": "python",
   "pygments_lexer": "ipython3",
   "version": "3.9.16"
  }
 },
 "nbformat": 4,
 "nbformat_minor": 4
}
