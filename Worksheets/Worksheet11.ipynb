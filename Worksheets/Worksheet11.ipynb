{
 "cells": [
  {
   "cell_type": "markdown",
   "metadata": {
    "cell_id": "bd47c5b137ad4d2c81ef6aecffe377c1",
    "deepnote_cell_type": "markdown",
    "tags": []
   },
   "source": [
    "# Worksheet 11\n",
    "\n",
    "You are encouraged to work in groups of up to 3 total students, but each student should make their own submission on Canvas.  (It's fine for everyone in the group to have the same upload.)"
   ]
  },
  {
   "cell_type": "markdown",
   "metadata": {
    "cell_id": "b2e5217dd6d3415bb3cb2e688c23e21b",
    "deepnote_cell_type": "markdown"
   },
   "source": [
    "Put the **full names** of everyone in your group (even if you're working alone) here.  (This makes grading easier.)\n",
    "\n",
    "* **Names**: "
   ]
  },
  {
   "cell_type": "markdown",
   "metadata": {
    "cell_id": "908a9ce8e94444a296508272f428485c",
    "deepnote_cell_type": "markdown"
   },
   "source": [
    "## Generating linear data with an outlier"
   ]
  },
  {
   "cell_type": "markdown",
   "metadata": {
    "cell_id": "4fed0072009d41cdb36a5534c0ca1911",
    "deepnote_cell_type": "markdown"
   },
   "source": [
    "Generate artificial data for linear regression using the `make_regression` function from `sklearn.datasets`.  Name the returned input values `X` and the returned target values `y`, like usual.\n",
    "\n",
    "Specify the following parameters.\n",
    "\n",
    "* Use `20` data points.\n",
    "* Use an intercept of `-5`.\n",
    "* Use `15` for the standard deviation of the random noise.\n",
    "* Use only one input variable. \n",
    "* Use a `random_state` keyword argument so that you have reproducible results.\n",
    "* Do not return the true underlying coefficient."
   ]
  },
  {
   "cell_type": "markdown",
   "metadata": {
    "cell_id": "e25f7a8d7a6244c5b937b657fe9ac345",
    "deepnote_cell_type": "markdown"
   },
   "source": [
    "* Put this data into a pandas DataFrame with columns named `\"x\"` and `\"y\"`, and plot the data using an Altair scatter plot.  It should look clearly linear.  (If it doesn't look clearly linear, then try a different `random_state` value.)"
   ]
  },
  {
   "cell_type": "markdown",
   "metadata": {
    "cell_id": "7445575b01dc43b0a8479a2ba4256316",
    "deepnote_cell_type": "markdown"
   },
   "source": [
    "In this part we will add a row to the DataFrame corresponding to an \"outlier\".  Here are the details.\n",
    "\n",
    "* Add a row to the bottom of the pandas DataFrame corresponding to the point $(-1, 450)$.  (Notice how this point is approximately 30 standard deviations above the \"true\" line.)  One option for how to add this row is to execute `df.loc[len(df)] = ???`, where `???` gets replaced by the point you want to add.  Another option is to make a pandas Series `new_pt` corresponding to the point you want to add, and then use `df = df.append(new_pt, ignore_index=True)`.  (The argument `ignore_index` enables us to append a pandas Series without first converting it to a DataFrame.)\n",
    "\n",
    "**Warning**.  Don't append the point multiple times; just append it once.  You can call `df.tail()` to see the last 5 rows of `df` and make sure it doesn't have repetitions."
   ]
  },
  {
   "cell_type": "markdown",
   "metadata": {
    "cell_id": "328d88e969c6492b95858175d762d503",
    "deepnote_cell_type": "markdown"
   },
   "source": [
    "* Plot the data again using Altair.  The new \"outlier\" point should be very visible.  Name the resulting Altair Chart `c1`."
   ]
  },
  {
   "cell_type": "markdown",
   "metadata": {
    "cell_id": "a3abc9bcb30848dda4e308c4158fc307",
    "deepnote_cell_type": "markdown"
   },
   "source": [
    "## The line of best fit using Mean Squared Error"
   ]
  },
  {
   "cell_type": "markdown",
   "metadata": {
    "cell_id": "05f70eaa3ac74356ac93971296cc3700",
    "deepnote_cell_type": "markdown"
   },
   "source": [
    "* Using the `LinearRegression` class in scikit-learn, find the line of \"best\" fit for the data.  (We put \"best\" in quotation marks because we will find another \"best\" line later.)"
   ]
  },
  {
   "cell_type": "markdown",
   "metadata": {
    "cell_id": "a257b860fe954698bc1ec74906e47a01",
    "deepnote_cell_type": "markdown"
   },
   "source": [
    "* Add a new column to the DataFrame named `\"pred_mse\"`, which contains the result of calling the `predict` method of the `LinearRegression` class on the `\"x\"` column in `df`.  The letters \"mse\" here stand for \"Mean Squared Error\", which is the loss function used by the `LinearRegression` class."
   ]
  },
  {
   "cell_type": "markdown",
   "metadata": {
    "cell_id": "4635e5e9465040158b1cd5b7bc2b29e9",
    "deepnote_cell_type": "markdown"
   },
   "source": [
    "* Make a new Altair chart `c2` containing the same `x` values as above but with `pred_mse` for the `y`-values.  Use `mark_line` instead of `mark_circle`.  Make the color of this line red, either by using `color=alt.value(\"red\")` or by using `mark_line(color=\"red\")`."
   ]
  },
  {
   "cell_type": "markdown",
   "metadata": {
    "cell_id": "f6f164d3ee2a465ea77c1a18f2842138",
    "deepnote_cell_type": "markdown"
   },
   "source": [
    "## The line of best fit using Mean Absolute Error\n",
    "\n",
    "Here we find another line of \"best\" fit, this time using Mean Absolute Error instead of Mean Squared Error."
   ]
  },
  {
   "cell_type": "markdown",
   "metadata": {
    "cell_id": "37e4db65d7f045418243f03825e63ba6",
    "deepnote_cell_type": "markdown"
   },
   "source": [
    "* Import the `SGDRegressor` class from `sklearn.linear_model` (the same place we import `LinearRegression from)."
   ]
  },
  {
   "cell_type": "markdown",
   "metadata": {
    "cell_id": "dfa30b7337624e57a83e8fe84a43ed46",
    "deepnote_cell_type": "markdown"
   },
   "source": [
    "Instantiate an instance of this class.  We have not had to change any parameters when creating a `LinearRegression` index, so we have just used `LinearRegression()` with nothing inside the parentheses.  For `SGDRegressor`, on the other hand, use the following keyword arguments.\n",
    "\n",
    "* `loss=\"epsilon_insensitive\"`\n",
    "* `epsilon=0`\n",
    "\n",
    "You may find later that you also need to increase the `max_iter` value, for example, `max_iter=5000` or even higher.\n",
    "\n",
    "Don't worry about what these specific arguments mean, just know that the resulting object will seek to minimize Mean Absolute Error instead of Mean Squared Error."
   ]
  },
  {
   "cell_type": "markdown",
   "metadata": {
    "cell_id": "f11864c0467b4862bcfbf55fb9ca6138",
    "deepnote_cell_type": "markdown"
   },
   "source": [
    "* Fit this `SGDRegressor` object using the `\"x\"` column from `df` as the input (as a one-column DataFrame, not as a pandas Series) and using the `\"y\"` column as the target.\n",
    "\n",
    "If you get a `ConvergenceWarning`, then increase `max_iter` above.  Keep increasing it until you do not get a warning.  (If something else goes wrong, try changing the `random_state` value at the very beginning.)"
   ]
  },
  {
   "cell_type": "markdown",
   "metadata": {
    "cell_id": "6260a568a381451c81bfe47d31d4a64c",
    "deepnote_cell_type": "markdown"
   },
   "source": [
    "* Add a new column to the DataFrame named `\"pred_mae\"`, which contains the result of calling the `predict` method of the `SGDRegressor` class on the `\"x\"` column in `df`.  The letters \"mae\" stand for \"Mean Absolute Error\", which is the loss function used here."
   ]
  },
  {
   "cell_type": "markdown",
   "metadata": {
    "cell_id": "cb7693e92c0a4d2e84dad31da9559f53",
    "deepnote_cell_type": "markdown"
   },
   "source": [
    "* Make a new Altair chart `c3` containing the same `x` values as above but with `pred_mse` for the `y`-values.  Use `mark_line` again.  Make the color of this line black."
   ]
  },
  {
   "cell_type": "markdown",
   "metadata": {
    "cell_id": "0bfa560c8edd46c7967d261ff33ebd15",
    "deepnote_cell_type": "markdown"
   },
   "source": [
    "## Comparing the lines"
   ]
  },
  {
   "cell_type": "markdown",
   "metadata": {
    "cell_id": "f68a705f8ebc4ce5b4426a1669b44912",
    "deepnote_cell_type": "markdown"
   },
   "source": [
    "* Plot the three Altair charts layered together, by evaluating `c1+c2+c3`."
   ]
  },
  {
   "cell_type": "markdown",
   "metadata": {
    "cell_id": "1bbdff035f7b4c6f9abb426aa98006dc",
    "deepnote_cell_type": "markdown"
   },
   "source": [
    "* Which of the two lines seems to be more heavily influenced by the outlier point?  Answer in a markdown cell (not in a Python comment)."
   ]
  },
  {
   "cell_type": "markdown",
   "metadata": {
    "cell_id": "866333fdfad24684af38831c7086bd7b",
    "deepnote_cell_type": "markdown"
   },
   "source": [
    "## Evaluating the results"
   ]
  },
  {
   "cell_type": "markdown",
   "metadata": {
    "cell_id": "429b5b5c7411485caff69ee2d2241dbc",
    "deepnote_cell_type": "markdown"
   },
   "source": [
    "* Import the functions `mean_squared_error` and `mean_absolute_error` from `sklearn.metrics`."
   ]
  },
  {
   "cell_type": "markdown",
   "metadata": {
    "cell_id": "8a0e2217b4474e8799e318f17b94fc9b",
    "deepnote_cell_type": "markdown"
   },
   "source": [
    "* Using the `mean_squared_error` function, evaluate the mean squared error between `df[\"y\"]` and `df[\"pred_mse\"]`.  Do the same thing for `df[\"y\"]` and `df[\"pred_mae\"]`."
   ]
  },
  {
   "cell_type": "markdown",
   "metadata": {
    "cell_id": "a4b05653d653447d809a86b8a9c53497",
    "deepnote_cell_type": "markdown"
   },
   "source": [
    "* Compute one of these same two numbers \"by hand\", i.e., without using `mean_squared_error`.  (Hint.  Make a pandas Series containing the squares of the differences, then call the `mean()` method.)"
   ]
  },
  {
   "cell_type": "markdown",
   "metadata": {
    "cell_id": "19484783301341c2a492833ac50a1735",
    "deepnote_cell_type": "markdown"
   },
   "source": [
    "* Which of the two predictions is better according to the `mean_squared_error` metric?  Answer in a markdown cell."
   ]
  },
  {
   "cell_type": "markdown",
   "metadata": {
    "cell_id": "fb084d710ee04b4e808f5b3cd669b6e6",
    "deepnote_cell_type": "markdown"
   },
   "source": [
    "* Using the `mean_absolute_error` function, evaluate the mean absolute error between `df[\"y\"]` and `df[\"pred_mse\"]`.  Do the same thing for `df[\"y\"]` and `df[\"pred_mae\"]`."
   ]
  },
  {
   "cell_type": "markdown",
   "metadata": {
    "cell_id": "7ceb3793a1bd4ad9b7b9912b486c580a",
    "deepnote_cell_type": "markdown"
   },
   "source": [
    "* Compute one of these same two numbers \"by hand\", i.e., without using `mean_absolute_error`.  (Hint.  A pandas Series has an `abs` method.)"
   ]
  },
  {
   "cell_type": "markdown",
   "metadata": {
    "cell_id": "d4e1ee3ce23b4b048618b0523a308950",
    "deepnote_cell_type": "markdown"
   },
   "source": [
    "* Which of the two predictions is better according to the `mean_absolute_error` metric?  Answer in a markdown cell."
   ]
  },
  {
   "cell_type": "markdown",
   "metadata": {
    "cell_id": "5a3b12fc1ace488e92cf34706f48b4ed",
    "deepnote_cell_type": "markdown"
   },
   "source": [
    "## Submission\n",
    "\n",
    "* Reminder: everyone needs to make a submission on Canvas.\n",
    "* Reminder: include everyone's full name at the top, after **Names**.\n",
    "* Using the `Share` button at the top right, enable public sharing, and enable Comment privileges. Then submit the created link on Canvas."
   ]
  },
  {
   "cell_type": "markdown",
   "metadata": {
    "created_in_deepnote_cell": true,
    "deepnote_cell_type": "markdown"
   },
   "source": [
    "<a style='text-decoration:none;line-height:16px;display:flex;color:#5B5B62;padding:10px;justify-content:end;' href='https://deepnote.com?utm_source=created-in-deepnote-cell&projectId=e7d8ed94-ce6f-4eb8-a0c1-ff256dc502fd' target=\"_blank\">\n",
    "<img alt='Created in deepnote.com' style='display:inline;max-height:16px;margin:0px;margin-right:7.5px;' src='data:image/svg+xml;base64,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' > </img>\n",
    "Created in <span style='font-weight:600;margin-left:4px;'>Deepnote</span></a>"
   ]
  }
 ],
 "metadata": {
  "deepnote": {},
  "deepnote_execution_queue": [],
  "deepnote_notebook_id": "d3fa457bb97140f990280f9c82959aa7",
  "deepnote_persisted_session": {
   "createdAt": "2023-05-08T00:02:34.267Z"
  },
  "kernelspec": {
   "display_name": "Python 3 (ipykernel)",
   "language": "python",
   "name": "python3"
  },
  "language_info": {
   "codemirror_mode": {
    "name": "ipython",
    "version": 3
   },
   "file_extension": ".py",
   "mimetype": "text/x-python",
   "name": "python",
   "nbconvert_exporter": "python",
   "pygments_lexer": "ipython3",
   "version": "3.9.16"
  }
 },
 "nbformat": 4,
 "nbformat_minor": 4
}
