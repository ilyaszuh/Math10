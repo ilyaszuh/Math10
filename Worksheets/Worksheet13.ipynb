{
 "cells": [
  {
   "cell_type": "markdown",
   "metadata": {
    "cell_id": "38c12bf972f046cdbad7f739598bf83f",
    "deepnote_cell_type": "markdown",
    "tags": []
   },
   "source": [
    "# Worksheet 13\n",
    "\n",
    "You are encouraged to work in groups of up to 3 total students, but each student should make their own submission on Canvas.  (It's fine for everyone in the group to have the same upload.)"
   ]
  },
  {
   "cell_type": "markdown",
   "metadata": {
    "cell_id": "4dfead2f0ff2411497d653590e57339c",
    "deepnote_cell_type": "markdown"
   },
   "source": [
    "Put the **full names** of everyone in your group (even if you're working alone) here.  (This makes grading easier.)\n",
    "\n",
    "* **Names**: "
   ]
  },
  {
   "cell_type": "markdown",
   "metadata": {
    "cell_id": "3d1b9cd14cb6480aa12e069ee50cfa80",
    "deepnote_cell_type": "markdown"
   },
   "source": [
    "## Introduction\n",
    "\n",
    "Our goal in this worksheet is to predict whether the species of a penguin is Adelie using its bill length as our only input feature."
   ]
  },
  {
   "cell_type": "markdown",
   "metadata": {
    "cell_id": "03fdb0676dc548ca93425ecb1911f468",
    "deepnote_cell_type": "markdown"
   },
   "source": [
    "* Import the *penguins* dataset from Seaborn, drop the rows in which the \"bill_length_mm\" column contains missing data, and save the resulting it in the variable name `df`.  (Hint.  I don't see a way to do this using `dropna`.  I recommend using Boolean indexing together with the `isna` method and negation `~` or else with the `notna` method.  Call the `copy` method when you perform the Boolean indexing, to prevent warnings below.)\n",
    "\n",
    "* Check your answer.  The DataFrame should have `342` rows."
   ]
  },
  {
   "cell_type": "markdown",
   "metadata": {
    "cell_id": "e93b75ca2a0e4e3c9d2d82d0f40ed5d8",
    "deepnote_cell_type": "markdown"
   },
   "source": [
    "* Add a new column to `df` called \"isAdelie_bool\" which contains `True` if the species is \"Adelie\" and which contains `False` otherwise."
   ]
  },
  {
   "cell_type": "markdown",
   "metadata": {
    "cell_id": "87ee0fda89074bfba02833a58b968250",
    "deepnote_cell_type": "markdown"
   },
   "source": [
    "* Add a new column to `df` called \"isAdelie\" which contains `1` if the species is \"Adelie\" and which contains `0` otherwise.  (Suggestion.  Call the `astype` method on the \"isAdelie_bool\" column and specify that the values should be converted to integers.)"
   ]
  },
  {
   "cell_type": "markdown",
   "metadata": {
    "cell_id": "2c569256521040a9b2d692605da45c68",
    "deepnote_cell_type": "markdown"
   },
   "source": [
    "* Using Altair, draw a scatter plot encoding the \"bill_length_mm\" column in the x-axis channel and encoding \"isAdelie\" in the y-axis channel.  Store the resulting chart with the variable name `c`."
   ]
  },
  {
   "cell_type": "markdown",
   "metadata": {
    "cell_id": "6b8d84b0bac142d6812f3a68f06a391a",
    "deepnote_cell_type": "markdown"
   },
   "source": [
    "## Why not use linear regression?"
   ]
  },
  {
   "cell_type": "markdown",
   "metadata": {
    "cell_id": "d8b1e8410cf34a21a9c99eb01e89cc61",
    "deepnote_cell_type": "markdown"
   },
   "source": [
    "* Fit a `LinearRegression` object to this data, using \"bill_length_mm\" as the only input feature, and using \"isAdelie\" as the target."
   ]
  },
  {
   "cell_type": "markdown",
   "metadata": {
    "cell_id": "1904bc3735cb48328e0e23f27bfea56b",
    "deepnote_cell_type": "markdown"
   },
   "source": [
    "* Add a column \"pred_lin\" to the DataFrame containing the predicted outputs from this linear regression model (the inputs should still be the \"bill_length_mm\" column)."
   ]
  },
  {
   "cell_type": "markdown",
   "metadata": {
    "cell_id": "42143ad1ae8e4c33b3af64afb06b5ee1",
    "deepnote_cell_type": "markdown"
   },
   "source": [
    "* Make a new Altair chart `c2`, this time a line chart, using \"bill_length_mm\" for the x-axis channel and using \"pred_lin\" for the y-axis channel.  Draw the line in the color \"red\"."
   ]
  },
  {
   "cell_type": "markdown",
   "metadata": {
    "cell_id": "4a493f95dd0b488999ccce872dead7fe",
    "deepnote_cell_type": "markdown"
   },
   "source": [
    "* Display `c2` layered on top of `c` from above."
   ]
  },
  {
   "cell_type": "markdown",
   "metadata": {
    "cell_id": "f9d6cb1aeb5a40b6abd940496a2ebeec",
    "deepnote_cell_type": "markdown"
   },
   "source": [
    "## Using logistic regression"
   ]
  },
  {
   "cell_type": "markdown",
   "metadata": {
    "cell_id": "391d8f69a92b4618a25fdb0dc0e92791",
    "deepnote_cell_type": "markdown"
   },
   "source": [
    "* Fit a `LogisticRegression` object to this same data.  (Don't name the object `reg`.  Name it `clf` instead, for \"classifier\".)"
   ]
  },
  {
   "cell_type": "markdown",
   "metadata": {
    "cell_id": "518daccf30cb40a6bf39d8c82b78d2c9",
    "deepnote_cell_type": "markdown"
   },
   "source": [
    "* Add a new column to `df` named \"pred_log\" which contains the predictions corresponding to `clf`."
   ]
  },
  {
   "cell_type": "markdown",
   "metadata": {
    "cell_id": "f0b25b6756d64042809564ce326b2be7",
    "deepnote_cell_type": "markdown"
   },
   "source": [
    "* Make a new Altair chart `c3`, this time back to being a scatter plot, using \"bill_length_mm\" for the x-axis channel and using \"pred_log\" for the y-axis channel.  Draw the points in the color \"red\"."
   ]
  },
  {
   "cell_type": "markdown",
   "metadata": {
    "cell_id": "633c9ce1b2844b75a74f27eb30449b3b",
    "deepnote_cell_type": "markdown"
   },
   "source": [
    "* Display `c3` layered on top of `c` from above."
   ]
  },
  {
   "cell_type": "markdown",
   "metadata": {
    "cell_id": "952beaabcaed4cd79f1354be91aca431",
    "deepnote_cell_type": "markdown"
   },
   "source": [
    "## Assessing the accuracy"
   ]
  },
  {
   "cell_type": "markdown",
   "metadata": {
    "cell_id": "202fdd2fd0a64a43bcfaf1f94d139df1",
    "deepnote_cell_type": "markdown"
   },
   "source": [
    "What proportion of these predicted values are correct?  We will check this two different ways."
   ]
  },
  {
   "cell_type": "markdown",
   "metadata": {
    "cell_id": "89ebcbe782774680923446fed9d5baec",
    "deepnote_cell_type": "markdown"
   },
   "source": [
    "* What proportion (as a float between 0 and 1) of the values predicted by logistic regression are correct?  You should not use `clf` to answer this question, just compare the \"isAdelie\" column to the \"pred_log\" column.\n",
    "\n",
    "**Caution**.  If you find yourself using a for-loop or list comprehension or anything like that, you should look for a more succinct approach.  Make a Boolean Series and call the `mean` method."
   ]
  },
  {
   "cell_type": "markdown",
   "metadata": {
    "cell_id": "72005672405d43f9bc2f8f5da873a813",
    "deepnote_cell_type": "markdown"
   },
   "source": [
    "* Now call the `score` method of `clf`, and input the input features along with the true outputs.  You should get the same number as above (up to maybe some small numerical precision issues)."
   ]
  },
  {
   "cell_type": "markdown",
   "metadata": {
    "cell_id": "c1e3b573b8904eefb52d4fb2e6770a3f",
    "deepnote_cell_type": "markdown"
   },
   "source": [
    "## Probabilities"
   ]
  },
  {
   "cell_type": "markdown",
   "metadata": {
    "cell_id": "c05e344a20794751beaea6fb4dd613cd",
    "deepnote_cell_type": "markdown"
   },
   "source": [
    "* Call the `predict_proba` method of `clf`, using the same input features as above.  This will report the predicted probabilities.  Name the result `arr`."
   ]
  },
  {
   "cell_type": "markdown",
   "metadata": {
    "cell_id": "c59f5cdd09814524a2e12de070d72359",
    "deepnote_cell_type": "markdown"
   },
   "source": [
    "* What is the type of the output of `predict_proba`?  What is the shape of the output?"
   ]
  },
  {
   "cell_type": "markdown",
   "metadata": {
    "cell_id": "24dd9b4a0358484bbd5a52efcccc8c8e",
    "deepnote_cell_type": "markdown"
   },
   "source": [
    "* What is the row at index `8` of `arr`?"
   ]
  },
  {
   "cell_type": "markdown",
   "metadata": {
    "cell_id": "9d11a3fb125b46968326becd6f9593a2",
    "deepnote_cell_type": "markdown"
   },
   "source": [
    "* This means our model predicts there is about a 26% chance the penguin is something, and about a 74% chance it is not.  But which number corresponds to which?  Use the `classes_` attribute of `clf` to decide which is which."
   ]
  },
  {
   "cell_type": "markdown",
   "metadata": {
    "cell_id": "d05a07c6136345f2895282b10ffc5e2e",
    "deepnote_cell_type": "markdown"
   },
   "source": [
    "* Can you calculate one of these values explicitly using the sigmoid function $1/(1+e^{-x})$?  You will need to use the fit coefficient and intercept from `clf` along with the input value corresponding to the row and integer location `8` in `df`."
   ]
  },
  {
   "cell_type": "markdown",
   "metadata": {
    "cell_id": "092380e5f2b64597956c6a2bd86e6ccf",
    "deepnote_cell_type": "markdown"
   },
   "source": [
    "* Extract the column of `arr` corresponding to the probability that the penguin is an Adelie species.  Store this in a new column of `df` named \"pred_proba\"."
   ]
  },
  {
   "cell_type": "markdown",
   "metadata": {
    "cell_id": "ef95231d45044ec4a39ff49adb32cfc7",
    "deepnote_cell_type": "markdown"
   },
   "source": [
    "* Make a new Altair line chart `c4`, using the color red, and with \"bill_length_mm\" for the x-axis and with \"pred_proba\" for the y-axis."
   ]
  },
  {
   "cell_type": "markdown",
   "metadata": {
    "cell_id": "a317a42e98594e26a955b57911825af8",
    "deepnote_cell_type": "markdown"
   },
   "source": [
    "* Layer this chart on top of `c` from above."
   ]
  },
  {
   "cell_type": "markdown",
   "metadata": {
    "cell_id": "3222106d0741489bbd33aba717e23871",
    "deepnote_cell_type": "markdown"
   },
   "source": [
    "* If you wanted to locate the penguin from the row at integer location `8` in the above plot, how would you try to do that?  Briefly answer in a markdown cell (not in a Python comment)."
   ]
  },
  {
   "cell_type": "markdown",
   "metadata": {
    "cell_id": "d51f33bae04f41ca9a10839114c4193b",
    "deepnote_cell_type": "markdown"
   },
   "source": [
    "* Briefly explain in your own words, in terms of the above plots, why does logistic regression seem more natural to use for this task than linear regression?  (Your answer should make reference to something about how these charts look.  Using 1-2 sentences is enough.)"
   ]
  },
  {
   "cell_type": "markdown",
   "metadata": {
    "cell_id": "256fc1c8f6f34bf4a690b5a3e33838b7",
    "deepnote_cell_type": "markdown"
   },
   "source": [
    "## Submission\n",
    "\n",
    "* Reminder: everyone needs to make a submission on Canvas.\n",
    "* Reminder: include everyone's full name at the top, after **Names**.\n",
    "* Using the `Share` button at the top right, enable public sharing, and enable Comment privileges. Then submit the created link on Canvas."
   ]
  }
 ],
 "metadata": {
  "deepnote": {},
  "deepnote_execution_queue": [],
  "deepnote_notebook_id": "c47279c865874a60bb63327f1ce7394f",
  "kernelspec": {
   "display_name": "Python 3 (ipykernel)",
   "language": "python",
   "name": "python3"
  },
  "language_info": {
   "codemirror_mode": {
    "name": "ipython",
    "version": 3
   },
   "file_extension": ".py",
   "mimetype": "text/x-python",
   "name": "python",
   "nbconvert_exporter": "python",
   "pygments_lexer": "ipython3",
   "version": "3.9.16"
  }
 },
 "nbformat": 4,
 "nbformat_minor": 4
}
