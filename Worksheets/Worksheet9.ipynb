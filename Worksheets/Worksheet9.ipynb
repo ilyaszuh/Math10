{
 "cells": [
  {
   "cell_type": "markdown",
   "metadata": {
    "cell_id": "bb1fb10cebd64b7bac117477f027cdd7",
    "deepnote_cell_type": "markdown"
   },
   "source": [
    "# Worksheet 9\n",
    "\n",
    "You are encouraged to work in groups of up to 3 total students, but each student should make their own submission on Canvas.  (It's fine for everyone in the group to have the same upload.)"
   ]
  },
  {
   "cell_type": "markdown",
   "metadata": {
    "cell_id": "04b9579811b544dea7d3ca48df7969ef",
    "deepnote_cell_type": "markdown"
   },
   "source": [
    "## Part 1: Generating the data"
   ]
  },
  {
   "cell_type": "markdown",
   "metadata": {
    "cell_id": "a5203836929c473c8fc6bafc8ad1778a",
    "deepnote_cell_type": "markdown"
   },
   "source": [
    "Using the `make_regression` function from `sklearn.datasets`, generate data for linear regression with the following properties.  Reminder: once you have imported this function, you can use `help(make_regression)` to get more information.\n",
    "\n",
    "* There should be 150 instances (also called observations).\n",
    "* There should be 2 input features (also called predictors).  We will think of these input features as `x0` and `x1`.\n",
    "* Use the default value of one target dimension.  (Meaning you don't need to type anything for this part.)\n",
    "* Choose a positive integer and store it as the variable `rs`.\n",
    "* Use the `random_state` keyword argument, and set it to the value `rs`, so that you get reproducible data.  (Be sure to type `rs`, not the number itself.)\n",
    "* Choose a value of `noise` so that the data looks close to linear, but not perfectly linear.  (We will plot it below.  If the data looks like it lies perfectly on a plane, then you need to make `noise` bigger.  If the data looks totally random, then you need to make `noise` smaller.)"
   ]
  },
  {
   "cell_type": "markdown",
   "metadata": {
    "cell_id": "b088bd41d7f048f1af3f63f9b80d6661",
    "deepnote_cell_type": "markdown"
   },
   "source": [
    "## Part 2: Putting the data in a pandas DataFrame"
   ]
  },
  {
   "cell_type": "markdown",
   "metadata": {
    "cell_id": "142595ce9ea9423596cdc110df5d0aaa",
    "deepnote_cell_type": "markdown"
   },
   "source": [
    "Make a pandas DataFrame `df` containing both the input data and the output data together.  Name the input data columns `\"x0\"` and `\"x1\"`, and name the target data column `\"z\"`.  Your DataFrame should have 150 rows and 3 columns.\n",
    "\n",
    "Here are two different strategies you can use to make `df`.\n",
    "\n",
    "* Use `df = pd.DataFrame({\"x0\": ???, \"x1\": ???, \"z\": ???})`.  Here we are creating the DataFrame from a dictionary specifying the three columns.  You can use slicing with `X` to get the two columns (don't use `loc` or `iloc`, because `X` is a NumPy array not a pandas DataFrame).\n",
    "* Use `df = pd.DataFrame(X, columns = [???, ???])`, where `X` is the first output from `make_regression`, and where you specify the names of the two columns in the `columns` list.  Then you can add a new column `\"z\"` to `df` just like you usually would: `df[\"z\"] = ???`."
   ]
  },
  {
   "cell_type": "markdown",
   "metadata": {
    "cell_id": "2fbfb6d2e5b24a3fa7c697fc52cf3d8b",
    "deepnote_cell_type": "markdown"
   },
   "source": [
    "## Part 3: Plotting the data using Plotly\n",
    "\n",
    "Altair is not able to make 3d plots (and I don't know of anything in Python that makes as nice of 3d plots as Mathematica or Matlab), so we will use Plotly instead."
   ]
  },
  {
   "cell_type": "markdown",
   "metadata": {
    "cell_id": "c97322949301426f8afd7df6ca2062a4",
    "deepnote_cell_type": "markdown"
   },
   "source": [
    "* Adapt [this first example](https://plotly.com/python/3d-scatter-plots/) (be sure to remove the `df = px.data.iris()` line) and plot our linear regression data from `df`.\n",
    "* Rotate the resulting plot so that it is clear this data lies approximately but not perfectly on a plane.  (It's possible this will never be clear.  If that's the case, try changing `random_state` above, or try decreasing the amount of random Gaussian `noise` that you are using.)\n",
    "* Include `title=f\"random_state=???\"` among the Plotly keyword arguments so that I know what `random_state` value you used.  Don't type the number directly; instead use the `rs` variable you defined above.  (Notice that we are using an f-string here.)"
   ]
  },
  {
   "cell_type": "markdown",
   "metadata": {
    "cell_id": "08717e2a14a44c489efd685c6a2b5177",
    "deepnote_cell_type": "markdown"
   },
   "source": [
    "## Submission\n",
    "\n",
    "* Save the resulting Plotly image as a png file by clicking the camera icon at the top right of the plot.  (Make sure the title appears in the downloaded image, and make sure the data looks approximately, but not perfectly, linear.)\n",
    "* Submit that png file on Canvas."
   ]
  }
 ],
 "metadata": {
  "deepnote": {},
  "deepnote_execution_queue": [],
  "deepnote_notebook_id": "b6b4e4430af942cb9cb5c756db14265e",
  "deepnote_persisted_session": {
   "createdAt": "2023-04-30T03:42:50.810Z"
  },
  "kernelspec": {
   "display_name": "Python 3 (ipykernel)",
   "language": "python",
   "name": "python3"
  },
  "language_info": {
   "codemirror_mode": {
    "name": "ipython",
    "version": 3
   },
   "file_extension": ".py",
   "mimetype": "text/x-python",
   "name": "python",
   "nbconvert_exporter": "python",
   "pygments_lexer": "ipython3",
   "version": "3.9.16"
  }
 },
 "nbformat": 4,
 "nbformat_minor": 4
}
