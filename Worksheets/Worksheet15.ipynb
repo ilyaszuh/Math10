{
 "cells": [
  {
   "cell_type": "markdown",
   "metadata": {
    "cell_id": "94fe533c5f1d456f8bd76708a8e811c3",
    "deepnote_cell_type": "markdown",
    "tags": []
   },
   "source": [
    "# Worksheet 15\n",
    "\n",
    "Due Tuesday night (instead of the usual Monday due date), because of the Memorial Day holiday.\n",
    "\n",
    "The goal of this worksheet is to use a Decision Tree classifier to predict whether or not a passenger of the Titanic survived.\n",
    "\n",
    "Many of the ideas in this worksheet come from [this notebook](https://www.kaggle.com/code/zlatankr/titanic-random-forest-82-78) on Kaggle by [ZlatanKremonic](https://www.kaggle.com/zlatankr).  The dataset we use comes from a [Kaggle competition](https://www.kaggle.com/competitions/titanic)."
   ]
  },
  {
   "cell_type": "markdown",
   "metadata": {
    "cell_id": "cee12e3218094cd58d480225d79a1ee1",
    "deepnote_cell_type": "markdown",
    "tags": []
   },
   "source": [
    "## Feature Engineering\n",
    "\n",
    "A few useful columns in this DataFrame are not directly useable as they are, for example because they include missing values or because they are non-numeric.  By \"Feature Engineering\", we mean adding new columns (or adjusting existing columns) that can be used by our Machine Learning model.\n",
    "\n",
    "* Load the attached Titanic dataset.\n",
    "* Using Boolean indexing, remove the rows where the \"Embarked\" column value is missing.\n",
    "* Drop the \"PassengerId\" column using the `drop` method, with `drop(\"PassengerId\", axis=???)`.  You should probably use the `copy` method to prevent warnings in the next step.\n",
    "* Check: at this stage, the DataFrame should have `889` rows and `11` columns."
   ]
  },
  {
   "cell_type": "markdown",
   "metadata": {
    "cell_id": "e6504ed84c384e57a7451c3fa2f6a7e2",
    "deepnote_cell_type": "markdown"
   },
   "source": [
    "* Add a column \"AgeNull\" which contains `True` if the value in the \"Age\" column is missing and contains `False` otherwise.  The code to do this is shorter than you might expect: `df[\"AgeNull\"] = df[\"Age\"].isna()`."
   ]
  },
  {
   "cell_type": "markdown",
   "metadata": {
    "cell_id": "654965d899494a749eb9bb77c1f46038",
    "deepnote_cell_type": "markdown"
   },
   "source": [
    "* Fill in the missing values in the \"Age\" column with the median value from that column. Use the pandas Series method `fillna`.  (Replace the \"Age\" column with this new column that does not have any missing values.)"
   ]
  },
  {
   "cell_type": "markdown",
   "metadata": {
    "cell_id": "abfdc8451ad94cd8bcf1a46f902b8885",
    "deepnote_cell_type": "markdown"
   },
   "source": [
    "* Add a column \"IsFemale\" which contains `True` if the value in the \"Sex\" column is `\"female\"`.  (As with the \"AgeNull\" column above, you shouldn't need to use `map` or a for loop or anything like that.)"
   ]
  },
  {
   "cell_type": "markdown",
   "metadata": {
    "cell_id": "5726e44a47c74a59bd29ccfbcc5b3aa2",
    "deepnote_cell_type": "markdown",
    "tags": []
   },
   "source": [
    "## Splitting the data with `train_test_split`"
   ]
  },
  {
   "cell_type": "markdown",
   "metadata": {
    "cell_id": "c31de3c3763a4e9ca586ab5fb7d7c9cc",
    "deepnote_cell_type": "markdown",
    "tags": []
   },
   "source": [
    "* Make a list `features` containing the names of all the numeric columns in the DataFrame except for the \"Survived\" column.  (Use the function `is_numeric_dtype` from `pandas.api.types`.  To take the \"Survived\" column out of the list, you might want to use the Python list method `remove`.  Notice that `remove` changes this list *in place*.)"
   ]
  },
  {
   "cell_type": "markdown",
   "metadata": {
    "cell_id": "dd63de47ff094cc9bf2684e1211302cb",
    "deepnote_cell_type": "markdown"
   },
   "source": [
    "* Check: there should be 7 column names in the `features` list."
   ]
  },
  {
   "cell_type": "markdown",
   "metadata": {
    "cell_id": "1d629d4c82624cdea8517092c66dc9c8",
    "deepnote_cell_type": "markdown"
   },
   "source": [
    "* Divide the data into a training set and a test set using `train_test_split`.  Use the columns named in `features` for the input features.  For the target, use the \"Survived\" column.  For the size, use `train_size` to specify that we should use 60% of the rows for the training set.  Name the resulting objects `X_train, X_test, y_train, y_test`."
   ]
  },
  {
   "cell_type": "markdown",
   "metadata": {
    "cell_id": "76ae3138d4804cd7a0fabeaad0d6a217",
    "deepnote_cell_type": "markdown",
    "tags": []
   },
   "source": [
    "## Predicting survival using a decision tree\n",
    "\n",
    "* Instantiate a `DecisionTreeClassifier` object `clf`.  Include restrictions on the complexity of the tree using the keyword arguments `max_leaf_nodes` and/or `max_depth` when you instantiate the classifier.\n",
    "* Fit the classifier using `X_train` and `y_train`.\n",
    "* Try to experiment with different values of `max_leaf_nodes` and/or `max_depth` until you have a tree which seems to be performing well (say, over 80% accuracy on the test set, as calculated using `clf.score`) and which does not seem to be drastically overfitting the data (say, the accuracy on the training set should be within 5% of the accuracy on the test set).\n",
    "\n",
    "**Warning**.  Be sure you are never calling the `fit` method with the test set; you should only use the `predict` method or the `score` method with the test set."
   ]
  },
  {
   "cell_type": "markdown",
   "metadata": {
    "cell_id": "38dd55ea1d104aecada45fe102d6d7c2",
    "deepnote_cell_type": "markdown"
   },
   "source": [
    "## Illustrating the decision tree\n",
    "\n",
    "* Use the following code to visualize how your decision tree is working.  (I don't totally understand how the `figsize=(20,10)` code works... feel free to adjust it if other values work better for your particular tree.)\n",
    "\n",
    "```\n",
    "import matplotlib.pyplot as plt\n",
    "from sklearn.tree import plot_tree\n",
    "\n",
    "fig = plt.figure(figsize=(20,10))\n",
    "_ = plot_tree(clf, feature_names=clf.feature_names_in_, filled=True)\n",
    "```"
   ]
  },
  {
   "cell_type": "markdown",
   "metadata": {
    "cell_id": "f01499a3fe1d46428b5881be76f54457",
    "deepnote_cell_type": "markdown"
   },
   "source": [
    "## The U-shaped test error curve\n",
    "\n",
    "Our last goal in this worksheet is to reproduce a curve like the following, taken from a [Twitter post](https://twitter.com/daniela_witten/status/1292293102103748609?s=20) by Daniela Witten.  The flexibility axis will correspond to the number of tree leaves.  To make this chart using Altair, we will use a DataFrame with rows for training errors and with additional rows for test errors.\n",
    "\n",
    "![Test error curve](../images/u-shape-dw.jpeg)"
   ]
  },
  {
   "cell_type": "markdown",
   "metadata": {
    "cell_id": "c0cdfbcf0b914cffb54866cfe74f9ec4",
    "deepnote_cell_type": "markdown"
   },
   "source": [
    "* Make an empty pandas DataFrame `df_err` with three columns named `leaves`, `error` and `set`."
   ]
  },
  {
   "cell_type": "markdown",
   "metadata": {
    "cell_id": "6dc635cd9d2844099e3563b39346de04",
    "deepnote_cell_type": "markdown"
   },
   "source": [
    "For each integer value `i` from `2` to `40`, inclusive, do the following.  (Use a for loop.  Our overall goal is to have a row for training error and another row for test error.)\n",
    "* Fit a `DecisionTreeClassifier` with `max_leaf_nodes=i` to the training data.  (Don't put a restriction on the depth of the decision tree.)\n",
    "* Add a new row to `df_err` containing `i` for the value in the \"leaves\" column, containing the string `\"train\"` for the value in the \"set\" column, and containing the error rate for the value in the \"error\" column.  (For example, if the `score` on the training data is `0.82`, then you would put `0.18` for the \"error\" value.)  Suggestion: add this new row by executing `df_err.loc[len(df_err)] = d`, where `d` is an appropriate Python dictionary. \n",
    "* Again do the same thing, this time using the error rate on the test set, and using the string `\"test\"` for the \"set\" column.\n",
    "\n",
    "**Warning**.  Be sure you are never fitting a classifier on the test set."
   ]
  },
  {
   "cell_type": "markdown",
   "metadata": {
    "cell_id": "e50514fbc6a442ce92e72e6048a08864",
    "deepnote_cell_type": "markdown"
   },
   "source": [
    "* Make an Altair line chart `c` using \"leaves\" for the x-axis, using \"error\" for the y-axis, and using \"set\" for the color.  (The result should look approximately like the image above.  The image above is an idealized version of how we would expect the training error and test error curves to look.  Most \"real-world\" error curves, including yours, will display more randomness and less regularity than the image above.)"
   ]
  },
  {
   "cell_type": "markdown",
   "metadata": {
    "cell_id": "7200bc8754ec407c93049eb39c50e2f1",
    "deepnote_cell_type": "markdown"
   },
   "source": [
    "* Can you recognize the approximate \"U-shape\" in the test error curve?"
   ]
  },
  {
   "cell_type": "markdown",
   "metadata": {
    "cell_id": "cbe91385d9cb43fc8924bd890e7e2947",
    "deepnote_cell_type": "markdown"
   },
   "source": [
    "* What would you estimate is the \"sweet spot\" for the ideal level of flexibility for this data?  How does it compare to what you chose in the \"Predicting survival\" section above?"
   ]
  },
  {
   "cell_type": "markdown",
   "metadata": {
    "cell_id": "a98ddd6ad16241c6b217fd792bd4c359",
    "deepnote_cell_type": "markdown",
    "deepnote_to_be_reexecuted": false,
    "execution_millis": 1,
    "execution_start": 1668277351655,
    "source_hash": "733d6982",
    "tags": []
   },
   "source": [
    "## Reminder\n",
    "\n",
    "Every group member needs to submit this on Canvas (even if you all submit the same file)."
   ]
  },
  {
   "cell_type": "markdown",
   "metadata": {
    "cell_id": "0f7ff19330ab436baa7259bec70e515f",
    "deepnote_cell_type": "markdown",
    "tags": []
   },
   "source": [
    "## Submission\n",
    "\n",
    "* Save the resulting Altair chart as a png file (click the three dots at the upper right of the Altair chart) and submit that png file on Canvas."
   ]
  }
 ],
 "metadata": {
  "deepnote": {},
  "deepnote_execution_queue": [],
  "deepnote_notebook_id": "eabb70761c1e4a468bd91f23ffd9a223",
  "kernelspec": {
   "display_name": "Python 3 (ipykernel)",
   "language": "python",
   "name": "python3"
  },
  "language_info": {
   "codemirror_mode": {
    "name": "ipython",
    "version": 3
   },
   "file_extension": ".py",
   "mimetype": "text/x-python",
   "name": "python",
   "nbconvert_exporter": "python",
   "pygments_lexer": "ipython3",
   "version": "3.9.16"
  }
 },
 "nbformat": 4,
 "nbformat_minor": 4
}
