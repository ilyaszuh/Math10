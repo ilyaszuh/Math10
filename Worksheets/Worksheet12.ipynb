{
 "cells": [
  {
   "cell_type": "markdown",
   "metadata": {
    "cell_id": "d4dc58b0fb894a7e873cd11194ec1b14",
    "deepnote_cell_type": "markdown"
   },
   "source": [
    "# Worksheet 12\n",
    "\n",
    "You are encouraged to work in groups of up to 3 total students, but each student should make their own submission on Canvas.  (It's fine for everyone in the group to have the same upload.)"
   ]
  },
  {
   "cell_type": "markdown",
   "metadata": {
    "cell_id": "4d56b00b023945b88dd3421aa67d0071",
    "deepnote_cell_type": "markdown"
   },
   "source": [
    "## Preliminary part"
   ]
  },
  {
   "cell_type": "markdown",
   "metadata": {
    "cell_id": "38be826a7e9a4743b26d87929b806317",
    "deepnote_cell_type": "markdown"
   },
   "source": [
    "* Load the attached \"sim_data.csv\" file as a DataFrame and save the result with the variable name `df`."
   ]
  },
  {
   "cell_type": "markdown",
   "metadata": {
    "cell_id": "e73d379e82c24297b78fee43a0d05f62",
    "deepnote_cell_type": "markdown"
   },
   "source": [
    "* Plot the data in a scatter plot using Altair.  Name the resulting chart `c`.  Use \n",
    "```\n",
    "y=alt.Y(\"y\", scale=alt.Scale(domain=(-150,200)))\n",
    "```\n",
    "for the y-axis encoding.  This will help keep the chart looking consistent below.  (We will be plotting some high-degree polynomials, which can completely change the plot range because they have such big y-values.)"
   ]
  },
  {
   "cell_type": "markdown",
   "metadata": {
    "cell_id": "a5fca00d5fbf453fbece7a9074c05b1d",
    "deepnote_cell_type": "markdown"
   },
   "source": [
    "## Main part\n",
    "\n",
    "Write a function `poly_fit(df, d, n, rs, color)` which takes as input our DataFrame `df`, a degree `d`, a number of samples `n`, a random state value `rs`, and a color `color`, and returns an Altair chart created as follows.\n",
    "\n",
    "* Make a copy of `df` using the `copy` method and name it `df_copy`.\n",
    "* Using the `sample` method of a pandas DataFrame, create a pandas DataFrame `df_sub` containing `n` random rows from `df_copy` and using `rs` for the random state.\n",
    "* Using `PolynomialFeatures` and `Pipeline` as in lecture on Wednesday, perform degree `d` polynomial regression on the data in `df_sub`.  (Important: be sure you are not using the full DataFrame `df_copy`.)\n",
    "* Add a new column to `df_copy` (not to `df_sub`) containing the predicted values corresponding to `df_copy[[\"x\"]]`.  (In other words, call the `predict` method of the `Pipeline` object.  We fit the regression using only `n` sample values, but we are calling predict on all the values from `df_copy`.  In Machine Learning, it is common to call `fit` and `predict` on two different datasets.)\n",
    "* Using an f-string, name this new column `\"predRS\"`, where `RS` gets replaced by the random state value.  (For example, if `rs=10`, then the column should be named `\"pred10\"`.)\n",
    "* Make a line chart in Altair from `df_copy` using the color `color`, the `\"x\"` column for the x-axis, and this `\"predRS\"` column you just made for the y-axis (you will need to use f-strings again... or maybe it would be nicer to store this string as a variable and then refer to that variable).\n",
    "* When calling `mark_line`, pass the keyword argument `clip=True`.  (This will keep extreme values from being plotted.)\n",
    "* Your function should return that line chart.\n",
    "\n",
    "Comments:\n",
    "* Be sure you are calling `fit` on `df_sub` and calling `predict` on `df_copy`.\n",
    "* I believe it is better style to have your imports, like `from sklearn.preprocessing ...`, happen outside of the function, in a separate cell.\n",
    "* You might be able to accomplish this without using `Pipeline`, `PolynomialFeatures`, etc., but you should be able to use these on a quiz or exam."
   ]
  },
  {
   "cell_type": "markdown",
   "metadata": {
    "cell_id": "c1ee73307e4e459ba2dc90f09d8aec83",
    "deepnote_cell_type": "markdown"
   },
   "source": [
    "## Applications"
   ]
  },
  {
   "cell_type": "markdown",
   "metadata": {
    "cell_id": "0801aff97bc74b88b846cf69b7160df5",
    "deepnote_cell_type": "markdown"
   },
   "source": [
    "* Find a few outputs of your function that look quite different, using our DataFrame `df`, using degree 12 polynomial regression, 50 sample points.  (In other words, try different values of `rs` and look for examples where the outputs look different.)  Also give the charts different colors.\n",
    "* Layer these Altair charts on top of each other, using for example `c + c1 + c2`.\n",
    "\n",
    "Random comment (most should ignore this):\n",
    "* If you're feeling pretty comfortable with Python, and want to try some material we haven't discussed, try to make the layer charts using something like the following:\n",
    "\n",
    "```\n",
    "state_colors = [(state1, color1), (state2, color2), ...]\n",
    "chart_list = [??? for rs, color in state_colors]\n",
    "alt.layer(c, *chart_list)\n",
    "```\n",
    "* If you want to be even more fancy, you can make the suggested `state_colors` list in some automatic way.  You should be able to use any valid html color name, like [these](https://www.w3schools.com/colors/colors_names.asp)."
   ]
  },
  {
   "cell_type": "markdown",
   "metadata": {
    "cell_id": "2506b784166f49489abc9e6a3b411fb7",
    "deepnote_cell_type": "markdown"
   },
   "source": [
    "### Sample quiz and midterm questions\n",
    "\n",
    "(You will not be turning these in as part of this worksheet.)\n",
    "\n",
    "* What if you try the same thing (still degree 12) with 400 sample points instead of 50 sample points, how do things change?  What if you use 20 sample points?\n",
    "* What if you use degree 2 and 50 sample points, how do things change?\n",
    "* Do the polynomials seem to look more consistent as we use more sample points?  What about as we use higher degrees?"
   ]
  },
  {
   "cell_type": "markdown",
   "metadata": {
    "cell_id": "76a3e81eda5c4dd09435d5c22389ce99",
    "deepnote_cell_type": "markdown"
   },
   "source": [
    "## Submission\n",
    "\n",
    "* Save the resulting Altair layer chart as a png file (click the three dots at the upper right of the Altair chart) and submit that png file on Canvas.\n",
    "* Double-check that you are submitting your own png file, not the sample png file I attached.\n",
    "* Your submission should look something like the following, but you are encouraged to use more than just two line charts.  I have cut off the y-axis label from the png, but yours should show something like `y, pred??, pred??`.\n",
    "\n",
    "![Data and two polynomial fits](../images/polyreg.png)"
   ]
  }
 ],
 "metadata": {
  "deepnote": {},
  "deepnote_execution_queue": [],
  "deepnote_notebook_id": "dd3c9ab6fa8b46f09fded131699d7b9c",
  "deepnote_persisted_session": {
   "createdAt": "2023-05-09T20:45:17.887Z"
  },
  "kernelspec": {
   "display_name": "Python 3 (ipykernel)",
   "language": "python",
   "name": "python3"
  },
  "language_info": {
   "codemirror_mode": {
    "name": "ipython",
    "version": 3
   },
   "file_extension": ".py",
   "mimetype": "text/x-python",
   "name": "python",
   "nbconvert_exporter": "python",
   "pygments_lexer": "ipython3",
   "version": "3.9.16"
  }
 },
 "nbformat": 4,
 "nbformat_minor": 4
}
