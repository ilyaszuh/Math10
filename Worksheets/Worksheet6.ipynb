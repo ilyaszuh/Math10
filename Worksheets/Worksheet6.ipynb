{
 "cells": [
  {
   "cell_type": "markdown",
   "metadata": {
    "cell_id": "a5055dc4add848d68945d8bd9f0fb021",
    "deepnote_cell_type": "markdown",
    "tags": []
   },
   "source": [
    "# Worksheet 6\n",
    "\n",
    "This worksheet is due Monday of next week.  You are encouraged to work in groups of up to 3 total students, but each student should make their own submission on Canvas.  (It's fine for everyone in the group to have the same submission.)"
   ]
  },
  {
   "cell_type": "markdown",
   "metadata": {
    "cell_id": "2798258cab344a5fa924b134f5475ec7",
    "deepnote_cell_type": "markdown"
   },
   "source": [
    "Put the **full names** of everyone in your group (even if you're working alone) here.  (This makes grading easier.)\n",
    "\n",
    "* **Names**: Ilyas"
   ]
  },
  {
   "cell_type": "code",
   "execution_count": 1,
   "metadata": {},
   "outputs": [],
   "source": [
    "import pandas as pd\n",
    "import altair as alt\n",
    "import numpy as np"
   ]
  },
  {
   "cell_type": "markdown",
   "metadata": {
    "cell_id": "409227f2da8048b58cd95bc28cc3854e",
    "deepnote_cell_type": "markdown",
    "tags": []
   },
   "source": [
    "* Import the attached \"Math2B_grades_clean.csv\" file, and name the DataFrame `df`."
   ]
  },
  {
   "cell_type": "code",
   "execution_count": 2,
   "metadata": {},
   "outputs": [
    {
     "data": {
      "text/html": [
       "<div>\n",
       "<style scoped>\n",
       "    .dataframe tbody tr th:only-of-type {\n",
       "        vertical-align: middle;\n",
       "    }\n",
       "\n",
       "    .dataframe tbody tr th {\n",
       "        vertical-align: top;\n",
       "    }\n",
       "\n",
       "    .dataframe thead th {\n",
       "        text-align: right;\n",
       "    }\n",
       "</style>\n",
       "<table border=\"1\" class=\"dataframe\">\n",
       "  <thead>\n",
       "    <tr style=\"text-align: right;\">\n",
       "      <th></th>\n",
       "      <th>Student_id</th>\n",
       "      <th>Quiz 1</th>\n",
       "      <th>Quiz 2</th>\n",
       "      <th>Midterm 1</th>\n",
       "      <th>Quiz 3</th>\n",
       "      <th>Quiz 4</th>\n",
       "      <th>Midterm 2</th>\n",
       "      <th>Quiz 5</th>\n",
       "      <th>Final exam</th>\n",
       "      <th>Webwork</th>\n",
       "      <th>Total</th>\n",
       "    </tr>\n",
       "  </thead>\n",
       "  <tbody>\n",
       "    <tr>\n",
       "      <th>0</th>\n",
       "      <td>38649</td>\n",
       "      <td>70</td>\n",
       "      <td>30</td>\n",
       "      <td>58</td>\n",
       "      <td>50</td>\n",
       "      <td>70</td>\n",
       "      <td>44</td>\n",
       "      <td>60</td>\n",
       "      <td>26</td>\n",
       "      <td>39</td>\n",
       "      <td>F</td>\n",
       "    </tr>\n",
       "    <tr>\n",
       "      <th>1</th>\n",
       "      <td>10732</td>\n",
       "      <td>70</td>\n",
       "      <td>100</td>\n",
       "      <td>86</td>\n",
       "      <td>100</td>\n",
       "      <td>100</td>\n",
       "      <td>82</td>\n",
       "      <td>90</td>\n",
       "      <td>68</td>\n",
       "      <td>97</td>\n",
       "      <td>B</td>\n",
       "    </tr>\n",
       "    <tr>\n",
       "      <th>2</th>\n",
       "      <td>91531</td>\n",
       "      <td>80</td>\n",
       "      <td>70</td>\n",
       "      <td>64</td>\n",
       "      <td>90</td>\n",
       "      <td>90</td>\n",
       "      <td>84</td>\n",
       "      <td>80</td>\n",
       "      <td>63</td>\n",
       "      <td>89</td>\n",
       "      <td>C</td>\n",
       "    </tr>\n",
       "    <tr>\n",
       "      <th>3</th>\n",
       "      <td>61384</td>\n",
       "      <td>100</td>\n",
       "      <td>100</td>\n",
       "      <td>94</td>\n",
       "      <td>100</td>\n",
       "      <td>100</td>\n",
       "      <td>94</td>\n",
       "      <td>90</td>\n",
       "      <td>90</td>\n",
       "      <td>100</td>\n",
       "      <td>A</td>\n",
       "    </tr>\n",
       "    <tr>\n",
       "      <th>4</th>\n",
       "      <td>23583</td>\n",
       "      <td>80</td>\n",
       "      <td>80</td>\n",
       "      <td>84</td>\n",
       "      <td>100</td>\n",
       "      <td>90</td>\n",
       "      <td>92</td>\n",
       "      <td>70</td>\n",
       "      <td>73</td>\n",
       "      <td>99</td>\n",
       "      <td>B</td>\n",
       "    </tr>\n",
       "  </tbody>\n",
       "</table>\n",
       "</div>"
      ],
      "text/plain": [
       "   Student_id  Quiz 1  Quiz 2  Midterm 1  Quiz 3  Quiz 4  Midterm 2  Quiz 5  \\\n",
       "0       38649      70      30         58      50      70         44      60   \n",
       "1       10732      70     100         86     100     100         82      90   \n",
       "2       91531      80      70         64      90      90         84      80   \n",
       "3       61384     100     100         94     100     100         94      90   \n",
       "4       23583      80      80         84     100      90         92      70   \n",
       "\n",
       "   Final exam  Webwork Total  \n",
       "0          26       39     F  \n",
       "1          68       97     B  \n",
       "2          63       89     C  \n",
       "3          90      100     A  \n",
       "4          73       99     B  "
      ]
     },
     "execution_count": 2,
     "metadata": {},
     "output_type": "execute_result"
    }
   ],
   "source": [
    "df = pd.read_csv(\"../Data/Math2B_grades_clean.csv\")\n",
    "df.head()"
   ]
  },
  {
   "cell_type": "markdown",
   "metadata": {
    "cell_id": "5ffd9d8a31af4c68b80eb162ffb862ab",
    "deepnote_cell_type": "markdown"
   },
   "source": [
    "* Using Boolean indexing, find the sub-DataFrame where the course grade (\"Total\") is \"F\" and where the Midterm 2 score is strictly greater than 72.  Name this sub-DataFrame `df_sub`."
   ]
  },
  {
   "cell_type": "code",
   "execution_count": 3,
   "metadata": {},
   "outputs": [
    {
     "data": {
      "text/html": [
       "<div>\n",
       "<style scoped>\n",
       "    .dataframe tbody tr th:only-of-type {\n",
       "        vertical-align: middle;\n",
       "    }\n",
       "\n",
       "    .dataframe tbody tr th {\n",
       "        vertical-align: top;\n",
       "    }\n",
       "\n",
       "    .dataframe thead th {\n",
       "        text-align: right;\n",
       "    }\n",
       "</style>\n",
       "<table border=\"1\" class=\"dataframe\">\n",
       "  <thead>\n",
       "    <tr style=\"text-align: right;\">\n",
       "      <th></th>\n",
       "      <th>Student_id</th>\n",
       "      <th>Quiz 1</th>\n",
       "      <th>Quiz 2</th>\n",
       "      <th>Midterm 1</th>\n",
       "      <th>Quiz 3</th>\n",
       "      <th>Quiz 4</th>\n",
       "      <th>Midterm 2</th>\n",
       "      <th>Quiz 5</th>\n",
       "      <th>Final exam</th>\n",
       "      <th>Webwork</th>\n",
       "      <th>Total</th>\n",
       "    </tr>\n",
       "  </thead>\n",
       "  <tbody>\n",
       "    <tr>\n",
       "      <th>63</th>\n",
       "      <td>93619</td>\n",
       "      <td>0</td>\n",
       "      <td>40</td>\n",
       "      <td>68</td>\n",
       "      <td>100</td>\n",
       "      <td>80</td>\n",
       "      <td>88</td>\n",
       "      <td>80</td>\n",
       "      <td>39</td>\n",
       "      <td>43</td>\n",
       "      <td>F</td>\n",
       "    </tr>\n",
       "    <tr>\n",
       "      <th>122</th>\n",
       "      <td>63723</td>\n",
       "      <td>0</td>\n",
       "      <td>70</td>\n",
       "      <td>60</td>\n",
       "      <td>0</td>\n",
       "      <td>90</td>\n",
       "      <td>76</td>\n",
       "      <td>60</td>\n",
       "      <td>46</td>\n",
       "      <td>32</td>\n",
       "      <td>F</td>\n",
       "    </tr>\n",
       "    <tr>\n",
       "      <th>150</th>\n",
       "      <td>70693</td>\n",
       "      <td>80</td>\n",
       "      <td>70</td>\n",
       "      <td>64</td>\n",
       "      <td>100</td>\n",
       "      <td>80</td>\n",
       "      <td>76</td>\n",
       "      <td>30</td>\n",
       "      <td>37</td>\n",
       "      <td>46</td>\n",
       "      <td>F</td>\n",
       "    </tr>\n",
       "    <tr>\n",
       "      <th>154</th>\n",
       "      <td>93643</td>\n",
       "      <td>60</td>\n",
       "      <td>40</td>\n",
       "      <td>50</td>\n",
       "      <td>60</td>\n",
       "      <td>50</td>\n",
       "      <td>78</td>\n",
       "      <td>70</td>\n",
       "      <td>31</td>\n",
       "      <td>91</td>\n",
       "      <td>F</td>\n",
       "    </tr>\n",
       "    <tr>\n",
       "      <th>200</th>\n",
       "      <td>81308</td>\n",
       "      <td>80</td>\n",
       "      <td>50</td>\n",
       "      <td>52</td>\n",
       "      <td>80</td>\n",
       "      <td>70</td>\n",
       "      <td>78</td>\n",
       "      <td>0</td>\n",
       "      <td>40</td>\n",
       "      <td>74</td>\n",
       "      <td>F</td>\n",
       "    </tr>\n",
       "  </tbody>\n",
       "</table>\n",
       "</div>"
      ],
      "text/plain": [
       "     Student_id  Quiz 1  Quiz 2  Midterm 1  Quiz 3  Quiz 4  Midterm 2  Quiz 5  \\\n",
       "63        93619       0      40         68     100      80         88      80   \n",
       "122       63723       0      70         60       0      90         76      60   \n",
       "150       70693      80      70         64     100      80         76      30   \n",
       "154       93643      60      40         50      60      50         78      70   \n",
       "200       81308      80      50         52      80      70         78       0   \n",
       "\n",
       "     Final exam  Webwork Total  \n",
       "63           39       43     F  \n",
       "122          46       32     F  \n",
       "150          37       46     F  \n",
       "154          31       91     F  \n",
       "200          40       74     F  "
      ]
     },
     "execution_count": 3,
     "metadata": {},
     "output_type": "execute_result"
    }
   ],
   "source": [
    "df_sub = df[(df[\"Total\"] == \"F\") & (df[\"Midterm 2\"] > 72)]\n",
    "df_sub.head()"
   ]
  },
  {
   "cell_type": "markdown",
   "metadata": {
    "cell_id": "73eca2dbf3814d78938103a9fc8e6133",
    "deepnote_cell_type": "markdown",
    "tags": []
   },
   "source": [
    "* Using Altair, make a scatter plot using the data from `df_sub` for which the x-coordinate is \"Midterm 2\" and the y-coordinate is \"Final exam\"."
   ]
  },
  {
   "cell_type": "code",
   "execution_count": 4,
   "metadata": {},
   "outputs": [
    {
     "data": {
      "text/html": [
       "\n",
       "<style>\n",
       "  #altair-viz-6d8aad5b977b4824a7dd306c091c1a5e.vega-embed {\n",
       "    width: 100%;\n",
       "    display: flex;\n",
       "  }\n",
       "\n",
       "  #altair-viz-6d8aad5b977b4824a7dd306c091c1a5e.vega-embed details,\n",
       "  #altair-viz-6d8aad5b977b4824a7dd306c091c1a5e.vega-embed details summary {\n",
       "    position: relative;\n",
       "  }\n",
       "</style>\n",
       "<div id=\"altair-viz-6d8aad5b977b4824a7dd306c091c1a5e\"></div>\n",
       "<script type=\"text/javascript\">\n",
       "  var VEGA_DEBUG = (typeof VEGA_DEBUG == \"undefined\") ? {} : VEGA_DEBUG;\n",
       "  (function(spec, embedOpt){\n",
       "    let outputDiv = document.currentScript.previousElementSibling;\n",
       "    if (outputDiv.id !== \"altair-viz-6d8aad5b977b4824a7dd306c091c1a5e\") {\n",
       "      outputDiv = document.getElementById(\"altair-viz-6d8aad5b977b4824a7dd306c091c1a5e\");\n",
       "    }\n",
       "\n",
       "    const paths = {\n",
       "      \"vega\": \"https://cdn.jsdelivr.net/npm/vega@5?noext\",\n",
       "      \"vega-lib\": \"https://cdn.jsdelivr.net/npm/vega-lib?noext\",\n",
       "      \"vega-lite\": \"https://cdn.jsdelivr.net/npm/vega-lite@5.20.1?noext\",\n",
       "      \"vega-embed\": \"https://cdn.jsdelivr.net/npm/vega-embed@6?noext\",\n",
       "    };\n",
       "\n",
       "    function maybeLoadScript(lib, version) {\n",
       "      var key = `${lib.replace(\"-\", \"\")}_version`;\n",
       "      return (VEGA_DEBUG[key] == version) ?\n",
       "        Promise.resolve(paths[lib]) :\n",
       "        new Promise(function(resolve, reject) {\n",
       "          var s = document.createElement('script');\n",
       "          document.getElementsByTagName(\"head\")[0].appendChild(s);\n",
       "          s.async = true;\n",
       "          s.onload = () => {\n",
       "            VEGA_DEBUG[key] = version;\n",
       "            return resolve(paths[lib]);\n",
       "          };\n",
       "          s.onerror = () => reject(`Error loading script: ${paths[lib]}`);\n",
       "          s.src = paths[lib];\n",
       "        });\n",
       "    }\n",
       "\n",
       "    function showError(err) {\n",
       "      outputDiv.innerHTML = `<div class=\"error\" style=\"color:red;\">${err}</div>`;\n",
       "      throw err;\n",
       "    }\n",
       "\n",
       "    function displayChart(vegaEmbed) {\n",
       "      vegaEmbed(outputDiv, spec, embedOpt)\n",
       "        .catch(err => showError(`Javascript Error: ${err.message}<br>This usually means there's a typo in your chart specification. See the javascript console for the full traceback.`));\n",
       "    }\n",
       "\n",
       "    if(typeof define === \"function\" && define.amd) {\n",
       "      requirejs.config({paths});\n",
       "      let deps = [\"vega-embed\"];\n",
       "      require(deps, displayChart, err => showError(`Error loading script: ${err.message}`));\n",
       "    } else {\n",
       "      maybeLoadScript(\"vega\", \"5\")\n",
       "        .then(() => maybeLoadScript(\"vega-lite\", \"5.20.1\"))\n",
       "        .then(() => maybeLoadScript(\"vega-embed\", \"6\"))\n",
       "        .catch(showError)\n",
       "        .then(() => displayChart(vegaEmbed));\n",
       "    }\n",
       "  })({\"config\": {\"view\": {\"continuousWidth\": 300, \"continuousHeight\": 300}}, \"data\": {\"name\": \"data-0b454ce08ddce97cfd46440b4bc6290a\"}, \"mark\": {\"type\": \"circle\"}, \"encoding\": {\"x\": {\"field\": \"Midterm 2\", \"type\": \"quantitative\"}, \"y\": {\"field\": \"Final exam\", \"type\": \"quantitative\"}}, \"$schema\": \"https://vega.github.io/schema/vega-lite/v5.20.1.json\", \"datasets\": {\"data-0b454ce08ddce97cfd46440b4bc6290a\": [{\"Student_id\": 93619, \"Quiz 1\": 0, \"Quiz 2\": 40, \"Midterm 1\": 68, \"Quiz 3\": 100, \"Quiz 4\": 80, \"Midterm 2\": 88, \"Quiz 5\": 80, \"Final exam\": 39, \"Webwork\": 43, \"Total\": \"F\"}, {\"Student_id\": 63723, \"Quiz 1\": 0, \"Quiz 2\": 70, \"Midterm 1\": 60, \"Quiz 3\": 0, \"Quiz 4\": 90, \"Midterm 2\": 76, \"Quiz 5\": 60, \"Final exam\": 46, \"Webwork\": 32, \"Total\": \"F\"}, {\"Student_id\": 70693, \"Quiz 1\": 80, \"Quiz 2\": 70, \"Midterm 1\": 64, \"Quiz 3\": 100, \"Quiz 4\": 80, \"Midterm 2\": 76, \"Quiz 5\": 30, \"Final exam\": 37, \"Webwork\": 46, \"Total\": \"F\"}, {\"Student_id\": 93643, \"Quiz 1\": 60, \"Quiz 2\": 40, \"Midterm 1\": 50, \"Quiz 3\": 60, \"Quiz 4\": 50, \"Midterm 2\": 78, \"Quiz 5\": 70, \"Final exam\": 31, \"Webwork\": 91, \"Total\": \"F\"}, {\"Student_id\": 81308, \"Quiz 1\": 80, \"Quiz 2\": 50, \"Midterm 1\": 52, \"Quiz 3\": 80, \"Quiz 4\": 70, \"Midterm 2\": 78, \"Quiz 5\": 0, \"Final exam\": 40, \"Webwork\": 74, \"Total\": \"F\"}, {\"Student_id\": 93904, \"Quiz 1\": 100, \"Quiz 2\": 30, \"Midterm 1\": 46, \"Quiz 3\": 0, \"Quiz 4\": 60, \"Midterm 2\": 82, \"Quiz 5\": 0, \"Final exam\": 33, \"Webwork\": 27, \"Total\": \"F\"}]}}, {\"mode\": \"vega-lite\"});\n",
       "</script>"
      ],
      "text/plain": [
       "alt.Chart(...)"
      ]
     },
     "execution_count": 4,
     "metadata": {},
     "output_type": "execute_result"
    }
   ],
   "source": [
    "alt.Chart(df_sub).mark_circle().encode(x = \"Midterm 2\", y = \"Final exam\")"
   ]
  },
  {
   "cell_type": "markdown",
   "metadata": {
    "cell_id": "fb9640c5685a451fa53e3a7ec9c6c488",
    "deepnote_cell_type": "markdown"
   },
   "source": [
    "* Based on the chart, how many rows do you expect are in `df_sub`?  Explain your answer in a markdown cell, and check your answer using pandas.\n",
    "\n",
    "(This approach isn't guaranteed to be correct, because hypothetically two points might be on top of each other, or a row could contain missing data.)"
   ]
  },
  {
   "cell_type": "markdown",
   "metadata": {},
   "source": [
    "As there are 6 points, we can expect 6 rows in `df_sub`"
   ]
  },
  {
   "cell_type": "code",
   "execution_count": 5,
   "metadata": {},
   "outputs": [
    {
     "name": "stdout",
     "output_type": "stream",
     "text": [
      "There are 6 rows in `df_sub`\n"
     ]
    }
   ],
   "source": [
    "print(f\"There are {df_sub.shape[0]} rows in `df_sub`\")"
   ]
  },
  {
   "cell_type": "markdown",
   "metadata": {
    "cell_id": "98259d4e843647a98f4bdab41a31f14f",
    "deepnote_cell_type": "markdown"
   },
   "source": [
    "Add one or more additional visual channels (don't use `tooltip` here) to the chart (but not changing the `x` or `y` definitions) so that you can tell which of these students had the lowest score on Quiz 4.\n",
    "\n",
    "Some options:\n",
    "* `color` (you might want to use the encoding data type `:O` or `:N` to make the colors more distinct [Reference](https://altair-viz.github.io/user_guide/encoding.html#encoding-data-types)).\n",
    "* `size`\n",
    "* If you change to `mark_point`, you can use the `shape` visual channel.  I don't think `shape` works with quantitative data, so you need to use an encoding data type like `:N` in this case.  I personally prefer using `mark_point(filled=True)` over `mark_point()`."
   ]
  },
  {
   "cell_type": "code",
   "execution_count": 6,
   "metadata": {},
   "outputs": [
    {
     "data": {
      "text/html": [
       "\n",
       "<style>\n",
       "  #altair-viz-3a985ba5feb3446c9aa592be6eaba930.vega-embed {\n",
       "    width: 100%;\n",
       "    display: flex;\n",
       "  }\n",
       "\n",
       "  #altair-viz-3a985ba5feb3446c9aa592be6eaba930.vega-embed details,\n",
       "  #altair-viz-3a985ba5feb3446c9aa592be6eaba930.vega-embed details summary {\n",
       "    position: relative;\n",
       "  }\n",
       "</style>\n",
       "<div id=\"altair-viz-3a985ba5feb3446c9aa592be6eaba930\"></div>\n",
       "<script type=\"text/javascript\">\n",
       "  var VEGA_DEBUG = (typeof VEGA_DEBUG == \"undefined\") ? {} : VEGA_DEBUG;\n",
       "  (function(spec, embedOpt){\n",
       "    let outputDiv = document.currentScript.previousElementSibling;\n",
       "    if (outputDiv.id !== \"altair-viz-3a985ba5feb3446c9aa592be6eaba930\") {\n",
       "      outputDiv = document.getElementById(\"altair-viz-3a985ba5feb3446c9aa592be6eaba930\");\n",
       "    }\n",
       "\n",
       "    const paths = {\n",
       "      \"vega\": \"https://cdn.jsdelivr.net/npm/vega@5?noext\",\n",
       "      \"vega-lib\": \"https://cdn.jsdelivr.net/npm/vega-lib?noext\",\n",
       "      \"vega-lite\": \"https://cdn.jsdelivr.net/npm/vega-lite@5.20.1?noext\",\n",
       "      \"vega-embed\": \"https://cdn.jsdelivr.net/npm/vega-embed@6?noext\",\n",
       "    };\n",
       "\n",
       "    function maybeLoadScript(lib, version) {\n",
       "      var key = `${lib.replace(\"-\", \"\")}_version`;\n",
       "      return (VEGA_DEBUG[key] == version) ?\n",
       "        Promise.resolve(paths[lib]) :\n",
       "        new Promise(function(resolve, reject) {\n",
       "          var s = document.createElement('script');\n",
       "          document.getElementsByTagName(\"head\")[0].appendChild(s);\n",
       "          s.async = true;\n",
       "          s.onload = () => {\n",
       "            VEGA_DEBUG[key] = version;\n",
       "            return resolve(paths[lib]);\n",
       "          };\n",
       "          s.onerror = () => reject(`Error loading script: ${paths[lib]}`);\n",
       "          s.src = paths[lib];\n",
       "        });\n",
       "    }\n",
       "\n",
       "    function showError(err) {\n",
       "      outputDiv.innerHTML = `<div class=\"error\" style=\"color:red;\">${err}</div>`;\n",
       "      throw err;\n",
       "    }\n",
       "\n",
       "    function displayChart(vegaEmbed) {\n",
       "      vegaEmbed(outputDiv, spec, embedOpt)\n",
       "        .catch(err => showError(`Javascript Error: ${err.message}<br>This usually means there's a typo in your chart specification. See the javascript console for the full traceback.`));\n",
       "    }\n",
       "\n",
       "    if(typeof define === \"function\" && define.amd) {\n",
       "      requirejs.config({paths});\n",
       "      let deps = [\"vega-embed\"];\n",
       "      require(deps, displayChart, err => showError(`Error loading script: ${err.message}`));\n",
       "    } else {\n",
       "      maybeLoadScript(\"vega\", \"5\")\n",
       "        .then(() => maybeLoadScript(\"vega-lite\", \"5.20.1\"))\n",
       "        .then(() => maybeLoadScript(\"vega-embed\", \"6\"))\n",
       "        .catch(showError)\n",
       "        .then(() => displayChart(vegaEmbed));\n",
       "    }\n",
       "  })({\"config\": {\"view\": {\"continuousWidth\": 300, \"continuousHeight\": 300}}, \"data\": {\"name\": \"data-0b454ce08ddce97cfd46440b4bc6290a\"}, \"mark\": {\"type\": \"circle\"}, \"encoding\": {\"color\": {\"field\": \"Quiz 4\", \"type\": \"nominal\"}, \"x\": {\"field\": \"Midterm 2\", \"type\": \"quantitative\"}, \"y\": {\"field\": \"Final exam\", \"type\": \"quantitative\"}}, \"$schema\": \"https://vega.github.io/schema/vega-lite/v5.20.1.json\", \"datasets\": {\"data-0b454ce08ddce97cfd46440b4bc6290a\": [{\"Student_id\": 93619, \"Quiz 1\": 0, \"Quiz 2\": 40, \"Midterm 1\": 68, \"Quiz 3\": 100, \"Quiz 4\": 80, \"Midterm 2\": 88, \"Quiz 5\": 80, \"Final exam\": 39, \"Webwork\": 43, \"Total\": \"F\"}, {\"Student_id\": 63723, \"Quiz 1\": 0, \"Quiz 2\": 70, \"Midterm 1\": 60, \"Quiz 3\": 0, \"Quiz 4\": 90, \"Midterm 2\": 76, \"Quiz 5\": 60, \"Final exam\": 46, \"Webwork\": 32, \"Total\": \"F\"}, {\"Student_id\": 70693, \"Quiz 1\": 80, \"Quiz 2\": 70, \"Midterm 1\": 64, \"Quiz 3\": 100, \"Quiz 4\": 80, \"Midterm 2\": 76, \"Quiz 5\": 30, \"Final exam\": 37, \"Webwork\": 46, \"Total\": \"F\"}, {\"Student_id\": 93643, \"Quiz 1\": 60, \"Quiz 2\": 40, \"Midterm 1\": 50, \"Quiz 3\": 60, \"Quiz 4\": 50, \"Midterm 2\": 78, \"Quiz 5\": 70, \"Final exam\": 31, \"Webwork\": 91, \"Total\": \"F\"}, {\"Student_id\": 81308, \"Quiz 1\": 80, \"Quiz 2\": 50, \"Midterm 1\": 52, \"Quiz 3\": 80, \"Quiz 4\": 70, \"Midterm 2\": 78, \"Quiz 5\": 0, \"Final exam\": 40, \"Webwork\": 74, \"Total\": \"F\"}, {\"Student_id\": 93904, \"Quiz 1\": 100, \"Quiz 2\": 30, \"Midterm 1\": 46, \"Quiz 3\": 0, \"Quiz 4\": 60, \"Midterm 2\": 82, \"Quiz 5\": 0, \"Final exam\": 33, \"Webwork\": 27, \"Total\": \"F\"}]}}, {\"mode\": \"vega-lite\"});\n",
       "</script>"
      ],
      "text/plain": [
       "alt.Chart(...)"
      ]
     },
     "execution_count": 6,
     "metadata": {},
     "output_type": "execute_result"
    }
   ],
   "source": [
    "alt.Chart(df_sub).mark_circle().encode(x = \"Midterm 2\", y = \"Final exam\", color=\"Quiz 4:N\")"
   ]
  },
  {
   "cell_type": "markdown",
   "metadata": {
    "cell_id": "b8f5b4f683c84465806927da6217f93c",
    "deepnote_cell_type": "markdown"
   },
   "source": [
    "* Explain in a markdown cell how you can tell from the chart which point has the lowest score on Quiz 4."
   ]
  },
  {
   "cell_type": "markdown",
   "metadata": {},
   "source": [
    "Using the color encoding of quiz 4 scores in the points, we can see that the lowest point has the lowest quiz 4 score"
   ]
  },
  {
   "cell_type": "markdown",
   "metadata": {
    "cell_id": "30bf0f7aa5d347aa8add70c09137694d",
    "deepnote_cell_type": "markdown"
   },
   "source": [
    "* Add a tooltip with \"Student_id\" so that you can find the student id of the corresponding student.\n",
    "\n",
    "Your code for this question will also be used at the end of this worksheet."
   ]
  },
  {
   "cell_type": "code",
   "execution_count": 7,
   "metadata": {},
   "outputs": [
    {
     "data": {
      "text/html": [
       "\n",
       "<style>\n",
       "  #altair-viz-287afa5d5c49475780645f66b90a78c5.vega-embed {\n",
       "    width: 100%;\n",
       "    display: flex;\n",
       "  }\n",
       "\n",
       "  #altair-viz-287afa5d5c49475780645f66b90a78c5.vega-embed details,\n",
       "  #altair-viz-287afa5d5c49475780645f66b90a78c5.vega-embed details summary {\n",
       "    position: relative;\n",
       "  }\n",
       "</style>\n",
       "<div id=\"altair-viz-287afa5d5c49475780645f66b90a78c5\"></div>\n",
       "<script type=\"text/javascript\">\n",
       "  var VEGA_DEBUG = (typeof VEGA_DEBUG == \"undefined\") ? {} : VEGA_DEBUG;\n",
       "  (function(spec, embedOpt){\n",
       "    let outputDiv = document.currentScript.previousElementSibling;\n",
       "    if (outputDiv.id !== \"altair-viz-287afa5d5c49475780645f66b90a78c5\") {\n",
       "      outputDiv = document.getElementById(\"altair-viz-287afa5d5c49475780645f66b90a78c5\");\n",
       "    }\n",
       "\n",
       "    const paths = {\n",
       "      \"vega\": \"https://cdn.jsdelivr.net/npm/vega@5?noext\",\n",
       "      \"vega-lib\": \"https://cdn.jsdelivr.net/npm/vega-lib?noext\",\n",
       "      \"vega-lite\": \"https://cdn.jsdelivr.net/npm/vega-lite@5.20.1?noext\",\n",
       "      \"vega-embed\": \"https://cdn.jsdelivr.net/npm/vega-embed@6?noext\",\n",
       "    };\n",
       "\n",
       "    function maybeLoadScript(lib, version) {\n",
       "      var key = `${lib.replace(\"-\", \"\")}_version`;\n",
       "      return (VEGA_DEBUG[key] == version) ?\n",
       "        Promise.resolve(paths[lib]) :\n",
       "        new Promise(function(resolve, reject) {\n",
       "          var s = document.createElement('script');\n",
       "          document.getElementsByTagName(\"head\")[0].appendChild(s);\n",
       "          s.async = true;\n",
       "          s.onload = () => {\n",
       "            VEGA_DEBUG[key] = version;\n",
       "            return resolve(paths[lib]);\n",
       "          };\n",
       "          s.onerror = () => reject(`Error loading script: ${paths[lib]}`);\n",
       "          s.src = paths[lib];\n",
       "        });\n",
       "    }\n",
       "\n",
       "    function showError(err) {\n",
       "      outputDiv.innerHTML = `<div class=\"error\" style=\"color:red;\">${err}</div>`;\n",
       "      throw err;\n",
       "    }\n",
       "\n",
       "    function displayChart(vegaEmbed) {\n",
       "      vegaEmbed(outputDiv, spec, embedOpt)\n",
       "        .catch(err => showError(`Javascript Error: ${err.message}<br>This usually means there's a typo in your chart specification. See the javascript console for the full traceback.`));\n",
       "    }\n",
       "\n",
       "    if(typeof define === \"function\" && define.amd) {\n",
       "      requirejs.config({paths});\n",
       "      let deps = [\"vega-embed\"];\n",
       "      require(deps, displayChart, err => showError(`Error loading script: ${err.message}`));\n",
       "    } else {\n",
       "      maybeLoadScript(\"vega\", \"5\")\n",
       "        .then(() => maybeLoadScript(\"vega-lite\", \"5.20.1\"))\n",
       "        .then(() => maybeLoadScript(\"vega-embed\", \"6\"))\n",
       "        .catch(showError)\n",
       "        .then(() => displayChart(vegaEmbed));\n",
       "    }\n",
       "  })({\"config\": {\"view\": {\"continuousWidth\": 300, \"continuousHeight\": 300}}, \"data\": {\"name\": \"data-0b454ce08ddce97cfd46440b4bc6290a\"}, \"mark\": {\"type\": \"circle\"}, \"encoding\": {\"color\": {\"field\": \"Quiz 4\", \"type\": \"nominal\"}, \"tooltip\": {\"field\": \"Student_id\", \"type\": \"quantitative\"}, \"x\": {\"field\": \"Midterm 2\", \"type\": \"quantitative\"}, \"y\": {\"field\": \"Final exam\", \"type\": \"quantitative\"}}, \"$schema\": \"https://vega.github.io/schema/vega-lite/v5.20.1.json\", \"datasets\": {\"data-0b454ce08ddce97cfd46440b4bc6290a\": [{\"Student_id\": 93619, \"Quiz 1\": 0, \"Quiz 2\": 40, \"Midterm 1\": 68, \"Quiz 3\": 100, \"Quiz 4\": 80, \"Midterm 2\": 88, \"Quiz 5\": 80, \"Final exam\": 39, \"Webwork\": 43, \"Total\": \"F\"}, {\"Student_id\": 63723, \"Quiz 1\": 0, \"Quiz 2\": 70, \"Midterm 1\": 60, \"Quiz 3\": 0, \"Quiz 4\": 90, \"Midterm 2\": 76, \"Quiz 5\": 60, \"Final exam\": 46, \"Webwork\": 32, \"Total\": \"F\"}, {\"Student_id\": 70693, \"Quiz 1\": 80, \"Quiz 2\": 70, \"Midterm 1\": 64, \"Quiz 3\": 100, \"Quiz 4\": 80, \"Midterm 2\": 76, \"Quiz 5\": 30, \"Final exam\": 37, \"Webwork\": 46, \"Total\": \"F\"}, {\"Student_id\": 93643, \"Quiz 1\": 60, \"Quiz 2\": 40, \"Midterm 1\": 50, \"Quiz 3\": 60, \"Quiz 4\": 50, \"Midterm 2\": 78, \"Quiz 5\": 70, \"Final exam\": 31, \"Webwork\": 91, \"Total\": \"F\"}, {\"Student_id\": 81308, \"Quiz 1\": 80, \"Quiz 2\": 50, \"Midterm 1\": 52, \"Quiz 3\": 80, \"Quiz 4\": 70, \"Midterm 2\": 78, \"Quiz 5\": 0, \"Final exam\": 40, \"Webwork\": 74, \"Total\": \"F\"}, {\"Student_id\": 93904, \"Quiz 1\": 100, \"Quiz 2\": 30, \"Midterm 1\": 46, \"Quiz 3\": 0, \"Quiz 4\": 60, \"Midterm 2\": 82, \"Quiz 5\": 0, \"Final exam\": 33, \"Webwork\": 27, \"Total\": \"F\"}]}}, {\"mode\": \"vega-lite\"});\n",
       "</script>"
      ],
      "text/plain": [
       "alt.Chart(...)"
      ]
     },
     "execution_count": 7,
     "metadata": {},
     "output_type": "execute_result"
    }
   ],
   "source": [
    "alt.Chart(df_sub).mark_circle().encode(x = \"Midterm 2\", y = \"Final exam\", color=\"Quiz 4:N\", tooltip=\"Student_id\")"
   ]
  },
  {
   "cell_type": "markdown",
   "metadata": {
    "cell_id": "e7ec84df46a74b60b9c4a74bccc78c1d",
    "deepnote_cell_type": "markdown",
    "tags": []
   },
   "source": [
    "* Here is a way to find that same student id using pandas.  Can you figure out how the following code works by breaking it up into pieces?  (There might be a question based on this code on the next quiz or on the midterm.) \n",
    "```\n",
    "df_sub.set_index(\"Student_id\")[\"Quiz 4\"].idxmin()\n",
    "```"
   ]
  },
  {
   "cell_type": "code",
   "execution_count": 8,
   "metadata": {},
   "outputs": [
    {
     "name": "stdout",
     "output_type": "stream",
     "text": [
      "93643\n"
     ]
    }
   ],
   "source": [
    "df_index = df_sub.set_index(\"Student_id\")\n",
    "df_quiz = df_index[\"Quiz 4\"]\n",
    "index = df_quiz.idxmin()\n",
    "print(index)"
   ]
  },
  {
   "cell_type": "markdown",
   "metadata": {},
   "source": [
    "This is first setting the index to be the student id. Secondly extracting the quiz 4 column. Finally getting the index of the minimum value, which is now the student id by step 1."
   ]
  },
  {
   "cell_type": "markdown",
   "metadata": {
    "cell_id": "8a4c4162a1cc4d3db8661f70b9d5f892",
    "deepnote_cell_type": "markdown",
    "tags": []
   },
   "source": [
    "* Why does the following code give a different answer?  (Hint.  Display `df_sub`.)\n",
    "```\n",
    "df_sub[\"Quiz 4\"].idxmin()\n",
    "```"
   ]
  },
  {
   "cell_type": "code",
   "execution_count": 9,
   "metadata": {},
   "outputs": [
    {
     "data": {
      "text/html": [
       "<div>\n",
       "<style scoped>\n",
       "    .dataframe tbody tr th:only-of-type {\n",
       "        vertical-align: middle;\n",
       "    }\n",
       "\n",
       "    .dataframe tbody tr th {\n",
       "        vertical-align: top;\n",
       "    }\n",
       "\n",
       "    .dataframe thead th {\n",
       "        text-align: right;\n",
       "    }\n",
       "</style>\n",
       "<table border=\"1\" class=\"dataframe\">\n",
       "  <thead>\n",
       "    <tr style=\"text-align: right;\">\n",
       "      <th></th>\n",
       "      <th>Student_id</th>\n",
       "      <th>Quiz 1</th>\n",
       "      <th>Quiz 2</th>\n",
       "      <th>Midterm 1</th>\n",
       "      <th>Quiz 3</th>\n",
       "      <th>Quiz 4</th>\n",
       "      <th>Midterm 2</th>\n",
       "      <th>Quiz 5</th>\n",
       "      <th>Final exam</th>\n",
       "      <th>Webwork</th>\n",
       "      <th>Total</th>\n",
       "    </tr>\n",
       "  </thead>\n",
       "  <tbody>\n",
       "    <tr>\n",
       "      <th>63</th>\n",
       "      <td>93619</td>\n",
       "      <td>0</td>\n",
       "      <td>40</td>\n",
       "      <td>68</td>\n",
       "      <td>100</td>\n",
       "      <td>80</td>\n",
       "      <td>88</td>\n",
       "      <td>80</td>\n",
       "      <td>39</td>\n",
       "      <td>43</td>\n",
       "      <td>F</td>\n",
       "    </tr>\n",
       "    <tr>\n",
       "      <th>122</th>\n",
       "      <td>63723</td>\n",
       "      <td>0</td>\n",
       "      <td>70</td>\n",
       "      <td>60</td>\n",
       "      <td>0</td>\n",
       "      <td>90</td>\n",
       "      <td>76</td>\n",
       "      <td>60</td>\n",
       "      <td>46</td>\n",
       "      <td>32</td>\n",
       "      <td>F</td>\n",
       "    </tr>\n",
       "    <tr>\n",
       "      <th>150</th>\n",
       "      <td>70693</td>\n",
       "      <td>80</td>\n",
       "      <td>70</td>\n",
       "      <td>64</td>\n",
       "      <td>100</td>\n",
       "      <td>80</td>\n",
       "      <td>76</td>\n",
       "      <td>30</td>\n",
       "      <td>37</td>\n",
       "      <td>46</td>\n",
       "      <td>F</td>\n",
       "    </tr>\n",
       "    <tr>\n",
       "      <th>154</th>\n",
       "      <td>93643</td>\n",
       "      <td>60</td>\n",
       "      <td>40</td>\n",
       "      <td>50</td>\n",
       "      <td>60</td>\n",
       "      <td>50</td>\n",
       "      <td>78</td>\n",
       "      <td>70</td>\n",
       "      <td>31</td>\n",
       "      <td>91</td>\n",
       "      <td>F</td>\n",
       "    </tr>\n",
       "    <tr>\n",
       "      <th>200</th>\n",
       "      <td>81308</td>\n",
       "      <td>80</td>\n",
       "      <td>50</td>\n",
       "      <td>52</td>\n",
       "      <td>80</td>\n",
       "      <td>70</td>\n",
       "      <td>78</td>\n",
       "      <td>0</td>\n",
       "      <td>40</td>\n",
       "      <td>74</td>\n",
       "      <td>F</td>\n",
       "    </tr>\n",
       "  </tbody>\n",
       "</table>\n",
       "</div>"
      ],
      "text/plain": [
       "     Student_id  Quiz 1  Quiz 2  Midterm 1  Quiz 3  Quiz 4  Midterm 2  Quiz 5  \\\n",
       "63        93619       0      40         68     100      80         88      80   \n",
       "122       63723       0      70         60       0      90         76      60   \n",
       "150       70693      80      70         64     100      80         76      30   \n",
       "154       93643      60      40         50      60      50         78      70   \n",
       "200       81308      80      50         52      80      70         78       0   \n",
       "\n",
       "     Final exam  Webwork Total  \n",
       "63           39       43     F  \n",
       "122          46       32     F  \n",
       "150          37       46     F  \n",
       "154          31       91     F  \n",
       "200          40       74     F  "
      ]
     },
     "execution_count": 9,
     "metadata": {},
     "output_type": "execute_result"
    }
   ],
   "source": [
    "df_sub.head()"
   ]
  },
  {
   "cell_type": "markdown",
   "metadata": {},
   "source": [
    "This is getting the row in df_sub, which is still labedled using the row numbers from df, not using the student id as the index"
   ]
  },
  {
   "cell_type": "markdown",
   "metadata": {
    "cell_id": "3a3de694583c40cd96ad167a40ce81f6",
    "deepnote_cell_type": "markdown",
    "tags": []
   },
   "source": [
    "* What changes if we use `argmin` instead of `idxmin`?  What is the difference between these two methods?  How does this correspond to what you see in `df_sub`?  Answer in a markdown cell."
   ]
  },
  {
   "cell_type": "markdown",
   "metadata": {},
   "source": [
    "Using `argmin` gives us the deafault index going from 0 - len(df) - 1. Using `idxmin` gives us the index from the index column in the data frame."
   ]
  },
  {
   "cell_type": "markdown",
   "metadata": {
    "cell_id": "95281e737bb7468797e32f87fc0b6b74",
    "deepnote_cell_type": "markdown"
   },
   "source": [
    "* If you were to encode the \"Student_id\" value in one of these channels, why would `\"Student_id:N\"` make much more sense than `\"Student_id:Q\"` or `\"Student_id:O\"`?  Explain in a markdown cell."
   ]
  },
  {
   "cell_type": "markdown",
   "metadata": {},
   "source": [
    "Since student ids are discrete not continuous, using `Student_id:Q` doesn't really make sense. In addition, having different colors makes it easier to differentiate students, especially in the case where two students overlap. Therefore `Student_id:N` is a better choice than `Student_id:O`."
   ]
  },
  {
   "cell_type": "markdown",
   "metadata": {
    "cell_id": "6d33905d9f164e058a526394406d0f13",
    "deepnote_cell_type": "markdown"
   },
   "source": [
    "Take your same Altair chart code above (the one where you found the student id using the `tooltip`) and make the following changes to it.\n",
    "* Change from `df_sub` to the full DataFrame `df`.\n",
    "* Add `column=\"Total\"` to the encoding."
   ]
  },
  {
   "cell_type": "markdown",
   "metadata": {
    "cell_id": "d9cd4344d2c7446087cd148470f9c135",
    "deepnote_cell_type": "markdown"
   },
   "source": [
    "* For the student whose student id you found above, where is the corresponding point located in this facet chart?  Explain in a markdown cell where is this point and how you can tell.  (You should be able to check that you are correct using the tooltip.)"
   ]
  },
  {
   "cell_type": "code",
   "execution_count": 10,
   "metadata": {},
   "outputs": [
    {
     "data": {
      "text/html": [
       "\n",
       "<style>\n",
       "  #altair-viz-f8efc5fa1bb745d4b5bcdd42c26a705e.vega-embed {\n",
       "    width: 100%;\n",
       "    display: flex;\n",
       "  }\n",
       "\n",
       "  #altair-viz-f8efc5fa1bb745d4b5bcdd42c26a705e.vega-embed details,\n",
       "  #altair-viz-f8efc5fa1bb745d4b5bcdd42c26a705e.vega-embed details summary {\n",
       "    position: relative;\n",
       "  }\n",
       "</style>\n",
       "<div id=\"altair-viz-f8efc5fa1bb745d4b5bcdd42c26a705e\"></div>\n",
       "<script type=\"text/javascript\">\n",
       "  var VEGA_DEBUG = (typeof VEGA_DEBUG == \"undefined\") ? {} : VEGA_DEBUG;\n",
       "  (function(spec, embedOpt){\n",
       "    let outputDiv = document.currentScript.previousElementSibling;\n",
       "    if (outputDiv.id !== \"altair-viz-f8efc5fa1bb745d4b5bcdd42c26a705e\") {\n",
       "      outputDiv = document.getElementById(\"altair-viz-f8efc5fa1bb745d4b5bcdd42c26a705e\");\n",
       "    }\n",
       "\n",
       "    const paths = {\n",
       "      \"vega\": \"https://cdn.jsdelivr.net/npm/vega@5?noext\",\n",
       "      \"vega-lib\": \"https://cdn.jsdelivr.net/npm/vega-lib?noext\",\n",
       "      \"vega-lite\": \"https://cdn.jsdelivr.net/npm/vega-lite@5.20.1?noext\",\n",
       "      \"vega-embed\": \"https://cdn.jsdelivr.net/npm/vega-embed@6?noext\",\n",
       "    };\n",
       "\n",
       "    function maybeLoadScript(lib, version) {\n",
       "      var key = `${lib.replace(\"-\", \"\")}_version`;\n",
       "      return (VEGA_DEBUG[key] == version) ?\n",
       "        Promise.resolve(paths[lib]) :\n",
       "        new Promise(function(resolve, reject) {\n",
       "          var s = document.createElement('script');\n",
       "          document.getElementsByTagName(\"head\")[0].appendChild(s);\n",
       "          s.async = true;\n",
       "          s.onload = () => {\n",
       "            VEGA_DEBUG[key] = version;\n",
       "            return resolve(paths[lib]);\n",
       "          };\n",
       "          s.onerror = () => reject(`Error loading script: ${paths[lib]}`);\n",
       "          s.src = paths[lib];\n",
       "        });\n",
       "    }\n",
       "\n",
       "    function showError(err) {\n",
       "      outputDiv.innerHTML = `<div class=\"error\" style=\"color:red;\">${err}</div>`;\n",
       "      throw err;\n",
       "    }\n",
       "\n",
       "    function displayChart(vegaEmbed) {\n",
       "      vegaEmbed(outputDiv, spec, embedOpt)\n",
       "        .catch(err => showError(`Javascript Error: ${err.message}<br>This usually means there's a typo in your chart specification. See the javascript console for the full traceback.`));\n",
       "    }\n",
       "\n",
       "    if(typeof define === \"function\" && define.amd) {\n",
       "      requirejs.config({paths});\n",
       "      let deps = [\"vega-embed\"];\n",
       "      require(deps, displayChart, err => showError(`Error loading script: ${err.message}`));\n",
       "    } else {\n",
       "      maybeLoadScript(\"vega\", \"5\")\n",
       "        .then(() => maybeLoadScript(\"vega-lite\", \"5.20.1\"))\n",
       "        .then(() => maybeLoadScript(\"vega-embed\", \"6\"))\n",
       "        .catch(showError)\n",
       "        .then(() => displayChart(vegaEmbed));\n",
       "    }\n",
       "  })({\"config\": {\"view\": {\"continuousWidth\": 300, \"continuousHeight\": 300}}, \"data\": {\"name\": \"data-80a1bd05444fff4c8829a55c4cd814fd\"}, \"mark\": {\"type\": \"circle\"}, \"encoding\": {\"color\": {\"field\": \"Quiz 4\", \"type\": \"nominal\"}, \"column\": {\"field\": \"Total\", \"type\": \"nominal\"}, \"tooltip\": {\"field\": \"Student_id\", \"type\": \"quantitative\"}, \"x\": {\"field\": \"Midterm 2\", \"type\": \"quantitative\"}, \"y\": {\"field\": \"Final exam\", \"type\": \"quantitative\"}}, \"$schema\": \"https://vega.github.io/schema/vega-lite/v5.20.1.json\", \"datasets\": {\"data-80a1bd05444fff4c8829a55c4cd814fd\": [{\"Student_id\": 38649, \"Quiz 1\": 70, \"Quiz 2\": 30, \"Midterm 1\": 58, \"Quiz 3\": 50, \"Quiz 4\": 70, \"Midterm 2\": 44, \"Quiz 5\": 60, \"Final exam\": 26, \"Webwork\": 39, \"Total\": \"F\"}, {\"Student_id\": 10732, \"Quiz 1\": 70, \"Quiz 2\": 100, \"Midterm 1\": 86, \"Quiz 3\": 100, \"Quiz 4\": 100, \"Midterm 2\": 82, \"Quiz 5\": 90, \"Final exam\": 68, \"Webwork\": 97, \"Total\": \"B\"}, {\"Student_id\": 91531, \"Quiz 1\": 80, \"Quiz 2\": 70, \"Midterm 1\": 64, \"Quiz 3\": 90, \"Quiz 4\": 90, \"Midterm 2\": 84, \"Quiz 5\": 80, \"Final exam\": 63, \"Webwork\": 89, \"Total\": \"C\"}, {\"Student_id\": 61384, \"Quiz 1\": 100, \"Quiz 2\": 100, \"Midterm 1\": 94, \"Quiz 3\": 100, \"Quiz 4\": 100, \"Midterm 2\": 94, \"Quiz 5\": 90, \"Final exam\": 90, \"Webwork\": 100, \"Total\": \"A\"}, {\"Student_id\": 23583, \"Quiz 1\": 80, \"Quiz 2\": 80, \"Midterm 1\": 84, \"Quiz 3\": 100, \"Quiz 4\": 90, \"Midterm 2\": 92, \"Quiz 5\": 70, \"Final exam\": 73, \"Webwork\": 99, \"Total\": \"B\"}, {\"Student_id\": 54467, \"Quiz 1\": 40, \"Quiz 2\": 50, \"Midterm 1\": 70, \"Quiz 3\": 100, \"Quiz 4\": 80, \"Midterm 2\": 48, \"Quiz 5\": 90, \"Final exam\": 40, \"Webwork\": 99, \"Total\": \"F\"}, {\"Student_id\": 77628, \"Quiz 1\": 70, \"Quiz 2\": 70, \"Midterm 1\": 62, \"Quiz 3\": 100, \"Quiz 4\": 90, \"Midterm 2\": 74, \"Quiz 5\": 70, \"Final exam\": 58, \"Webwork\": 96, \"Total\": \"D\"}, {\"Student_id\": 13148, \"Quiz 1\": 60, \"Quiz 2\": 60, \"Midterm 1\": 78, \"Quiz 3\": 70, \"Quiz 4\": 40, \"Midterm 2\": 88, \"Quiz 5\": 70, \"Final exam\": 60, \"Webwork\": 78, \"Total\": \"C\"}, {\"Student_id\": 62068, \"Quiz 1\": 100, \"Quiz 2\": 70, \"Midterm 1\": 86, \"Quiz 3\": 0, \"Quiz 4\": 70, \"Midterm 2\": 78, \"Quiz 5\": 80, \"Final exam\": 72, \"Webwork\": 97, \"Total\": \"C\"}, {\"Student_id\": 40236, \"Quiz 1\": 100, \"Quiz 2\": 100, \"Midterm 1\": 92, \"Quiz 3\": 100, \"Quiz 4\": 100, \"Midterm 2\": 90, \"Quiz 5\": 80, \"Final exam\": 93, \"Webwork\": 100, \"Total\": \"A\"}, {\"Student_id\": 94492, \"Quiz 1\": 80, \"Quiz 2\": 30, \"Midterm 1\": 72, \"Quiz 3\": 90, \"Quiz 4\": 30, \"Midterm 2\": 76, \"Quiz 5\": 50, \"Final exam\": 61, \"Webwork\": 53, \"Total\": \"D\"}, {\"Student_id\": 85741, \"Quiz 1\": 50, \"Quiz 2\": 40, \"Midterm 1\": 48, \"Quiz 3\": 50, \"Quiz 4\": 90, \"Midterm 2\": 56, \"Quiz 5\": 0, \"Final exam\": 50, \"Webwork\": 75, \"Total\": \"F\"}, {\"Student_id\": 89151, \"Quiz 1\": 100, \"Quiz 2\": 100, \"Midterm 1\": 86, \"Quiz 3\": 100, \"Quiz 4\": 100, \"Midterm 2\": 86, \"Quiz 5\": 100, \"Final exam\": 100, \"Webwork\": 100, \"Total\": \"A\"}, {\"Student_id\": 10004, \"Quiz 1\": 20, \"Quiz 2\": 60, \"Midterm 1\": 66, \"Quiz 3\": 90, \"Quiz 4\": 60, \"Midterm 2\": 84, \"Quiz 5\": 80, \"Final exam\": 59, \"Webwork\": 100, \"Total\": \"C\"}, {\"Student_id\": 28598, \"Quiz 1\": 90, \"Quiz 2\": 40, \"Midterm 1\": 68, \"Quiz 3\": 40, \"Quiz 4\": 0, \"Midterm 2\": 60, \"Quiz 5\": 100, \"Final exam\": 54, \"Webwork\": 80, \"Total\": \"D\"}, {\"Student_id\": 85221, \"Quiz 1\": 70, \"Quiz 2\": 100, \"Midterm 1\": 60, \"Quiz 3\": 100, \"Quiz 4\": 100, \"Midterm 2\": 80, \"Quiz 5\": 90, \"Final exam\": 71, \"Webwork\": 93, \"Total\": \"C\"}, {\"Student_id\": 25702, \"Quiz 1\": 80, \"Quiz 2\": 60, \"Midterm 1\": 84, \"Quiz 3\": 90, \"Quiz 4\": 90, \"Midterm 2\": 84, \"Quiz 5\": 50, \"Final exam\": 58, \"Webwork\": 95, \"Total\": \"C\"}, {\"Student_id\": 82363, \"Quiz 1\": 90, \"Quiz 2\": 60, \"Midterm 1\": 82, \"Quiz 3\": 60, \"Quiz 4\": 40, \"Midterm 2\": 90, \"Quiz 5\": 80, \"Final exam\": 67, \"Webwork\": 95, \"Total\": \"C\"}, {\"Student_id\": 33625, \"Quiz 1\": 0, \"Quiz 2\": 100, \"Midterm 1\": 80, \"Quiz 3\": 100, \"Quiz 4\": 100, \"Midterm 2\": 80, \"Quiz 5\": 100, \"Final exam\": 58, \"Webwork\": 76, \"Total\": \"C\"}, {\"Student_id\": 21974, \"Quiz 1\": 40, \"Quiz 2\": 40, \"Midterm 1\": 54, \"Quiz 3\": 90, \"Quiz 4\": 0, \"Midterm 2\": 70, \"Quiz 5\": 90, \"Final exam\": 62, \"Webwork\": 17, \"Total\": \"F\"}, {\"Student_id\": 43772, \"Quiz 1\": 50, \"Quiz 2\": 0, \"Midterm 1\": 36, \"Quiz 3\": 0, \"Quiz 4\": 0, \"Midterm 2\": 0, \"Quiz 5\": 0, \"Final exam\": 0, \"Webwork\": 0, \"Total\": \"F\"}, {\"Student_id\": 62907, \"Quiz 1\": 100, \"Quiz 2\": 60, \"Midterm 1\": 100, \"Quiz 3\": 90, \"Quiz 4\": 100, \"Midterm 2\": 90, \"Quiz 5\": 100, \"Final exam\": 89, \"Webwork\": 100, \"Total\": \"A\"}, {\"Student_id\": 81984, \"Quiz 1\": 60, \"Quiz 2\": 40, \"Midterm 1\": 36, \"Quiz 3\": 80, \"Quiz 4\": 30, \"Midterm 2\": 62, \"Quiz 5\": 60, \"Final exam\": 63, \"Webwork\": 67, \"Total\": \"F\"}, {\"Student_id\": 76485, \"Quiz 1\": 80, \"Quiz 2\": 90, \"Midterm 1\": 76, \"Quiz 3\": 90, \"Quiz 4\": 90, \"Midterm 2\": 74, \"Quiz 5\": 100, \"Final exam\": 69, \"Webwork\": 83, \"Total\": \"C\"}, {\"Student_id\": 79472, \"Quiz 1\": 80, \"Quiz 2\": 100, \"Midterm 1\": 92, \"Quiz 3\": 100, \"Quiz 4\": 100, \"Midterm 2\": 92, \"Quiz 5\": 100, \"Final exam\": 84, \"Webwork\": 100, \"Total\": \"A\"}, {\"Student_id\": 22263, \"Quiz 1\": 0, \"Quiz 2\": 0, \"Midterm 1\": 40, \"Quiz 3\": 0, \"Quiz 4\": 0, \"Midterm 2\": 0, \"Quiz 5\": 0, \"Final exam\": 0, \"Webwork\": 17, \"Total\": \"F\"}, {\"Student_id\": 55760, \"Quiz 1\": 100, \"Quiz 2\": 30, \"Midterm 1\": 84, \"Quiz 3\": 100, \"Quiz 4\": 100, \"Midterm 2\": 76, \"Quiz 5\": 60, \"Final exam\": 60, \"Webwork\": 96, \"Total\": \"C\"}, {\"Student_id\": 62408, \"Quiz 1\": 40, \"Quiz 2\": 10, \"Midterm 1\": 18, \"Quiz 3\": 90, \"Quiz 4\": 30, \"Midterm 2\": 68, \"Quiz 5\": 40, \"Final exam\": 35, \"Webwork\": 61, \"Total\": \"F\"}, {\"Student_id\": 59923, \"Quiz 1\": 100, \"Quiz 2\": 60, \"Midterm 1\": 58, \"Quiz 3\": 100, \"Quiz 4\": 80, \"Midterm 2\": 80, \"Quiz 5\": 90, \"Final exam\": 69, \"Webwork\": 82, \"Total\": \"C\"}, {\"Student_id\": 93031, \"Quiz 1\": 100, \"Quiz 2\": 60, \"Midterm 1\": 58, \"Quiz 3\": 90, \"Quiz 4\": 90, \"Midterm 2\": 82, \"Quiz 5\": 80, \"Final exam\": 56, \"Webwork\": 76, \"Total\": \"D\"}, {\"Student_id\": 25687, \"Quiz 1\": 50, \"Quiz 2\": 60, \"Midterm 1\": 54, \"Quiz 3\": 90, \"Quiz 4\": 100, \"Midterm 2\": 70, \"Quiz 5\": 70, \"Final exam\": 62, \"Webwork\": 100, \"Total\": \"D\"}, {\"Student_id\": 69257, \"Quiz 1\": 70, \"Quiz 2\": 70, \"Midterm 1\": 72, \"Quiz 3\": 100, \"Quiz 4\": 0, \"Midterm 2\": 94, \"Quiz 5\": 100, \"Final exam\": 60, \"Webwork\": 88, \"Total\": \"C\"}, {\"Student_id\": 34449, \"Quiz 1\": 80, \"Quiz 2\": 100, \"Midterm 1\": 72, \"Quiz 3\": 90, \"Quiz 4\": 80, \"Midterm 2\": 86, \"Quiz 5\": 90, \"Final exam\": 69, \"Webwork\": 100, \"Total\": \"C\"}, {\"Student_id\": 79271, \"Quiz 1\": 90, \"Quiz 2\": 30, \"Midterm 1\": 76, \"Quiz 3\": 90, \"Quiz 4\": 100, \"Midterm 2\": 82, \"Quiz 5\": 60, \"Final exam\": 63, \"Webwork\": 100, \"Total\": \"C\"}, {\"Student_id\": 98921, \"Quiz 1\": 100, \"Quiz 2\": 100, \"Midterm 1\": 100, \"Quiz 3\": 100, \"Quiz 4\": 100, \"Midterm 2\": 96, \"Quiz 5\": 100, \"Final exam\": 98, \"Webwork\": 100, \"Total\": \"A\"}, {\"Student_id\": 70368, \"Quiz 1\": 100, \"Quiz 2\": 30, \"Midterm 1\": 76, \"Quiz 3\": 90, \"Quiz 4\": 100, \"Midterm 2\": 84, \"Quiz 5\": 60, \"Final exam\": 45, \"Webwork\": 96, \"Total\": \"D\"}, {\"Student_id\": 52059, \"Quiz 1\": 80, \"Quiz 2\": 80, \"Midterm 1\": 78, \"Quiz 3\": 100, \"Quiz 4\": 70, \"Midterm 2\": 90, \"Quiz 5\": 50, \"Final exam\": 58, \"Webwork\": 98, \"Total\": \"C\"}, {\"Student_id\": 76048, \"Quiz 1\": 60, \"Quiz 2\": 80, \"Midterm 1\": 84, \"Quiz 3\": 90, \"Quiz 4\": 90, \"Midterm 2\": 76, \"Quiz 5\": 100, \"Final exam\": 61, \"Webwork\": 77, \"Total\": \"C\"}, {\"Student_id\": 32879, \"Quiz 1\": 50, \"Quiz 2\": 30, \"Midterm 1\": 44, \"Quiz 3\": 70, \"Quiz 4\": 90, \"Midterm 2\": 72, \"Quiz 5\": 50, \"Final exam\": 48, \"Webwork\": 81, \"Total\": \"F\"}, {\"Student_id\": 80520, \"Quiz 1\": 50, \"Quiz 2\": 40, \"Midterm 1\": 64, \"Quiz 3\": 100, \"Quiz 4\": 70, \"Midterm 2\": 76, \"Quiz 5\": 60, \"Final exam\": 51, \"Webwork\": 86, \"Total\": \"D\"}, {\"Student_id\": 33450, \"Quiz 1\": 100, \"Quiz 2\": 70, \"Midterm 1\": 70, \"Quiz 3\": 90, \"Quiz 4\": 100, \"Midterm 2\": 82, \"Quiz 5\": 80, \"Final exam\": 79, \"Webwork\": 100, \"Total\": \"B\"}, {\"Student_id\": 42265, \"Quiz 1\": 100, \"Quiz 2\": 50, \"Midterm 1\": 68, \"Quiz 3\": 90, \"Quiz 4\": 70, \"Midterm 2\": 62, \"Quiz 5\": 100, \"Final exam\": 59, \"Webwork\": 46, \"Total\": \"D\"}, {\"Student_id\": 41338, \"Quiz 1\": 100, \"Quiz 2\": 80, \"Midterm 1\": 80, \"Quiz 3\": 100, \"Quiz 4\": 100, \"Midterm 2\": 100, \"Quiz 5\": 100, \"Final exam\": 68, \"Webwork\": 99, \"Total\": \"B\"}, {\"Student_id\": 94000, \"Quiz 1\": 100, \"Quiz 2\": 70, \"Midterm 1\": 52, \"Quiz 3\": 80, \"Quiz 4\": 70, \"Midterm 2\": 82, \"Quiz 5\": 90, \"Final exam\": 55, \"Webwork\": 83, \"Total\": \"D\"}, {\"Student_id\": 49666, \"Quiz 1\": 50, \"Quiz 2\": 20, \"Midterm 1\": 62, \"Quiz 3\": 40, \"Quiz 4\": 40, \"Midterm 2\": 54, \"Quiz 5\": 30, \"Final exam\": 45, \"Webwork\": 59, \"Total\": \"F\"}, {\"Student_id\": 92403, \"Quiz 1\": 100, \"Quiz 2\": 70, \"Midterm 1\": 88, \"Quiz 3\": 70, \"Quiz 4\": 100, \"Midterm 2\": 96, \"Quiz 5\": 90, \"Final exam\": 78, \"Webwork\": 87, \"Total\": \"B\"}, {\"Student_id\": 95964, \"Quiz 1\": 60, \"Quiz 2\": 90, \"Midterm 1\": 70, \"Quiz 3\": 90, \"Quiz 4\": 90, \"Midterm 2\": 92, \"Quiz 5\": 80, \"Final exam\": 88, \"Webwork\": 83, \"Total\": \"B\"}, {\"Student_id\": 71905, \"Quiz 1\": 100, \"Quiz 2\": 80, \"Midterm 1\": 96, \"Quiz 3\": 100, \"Quiz 4\": 100, \"Midterm 2\": 94, \"Quiz 5\": 100, \"Final exam\": 84, \"Webwork\": 100, \"Total\": \"A\"}, {\"Student_id\": 90590, \"Quiz 1\": 90, \"Quiz 2\": 50, \"Midterm 1\": 64, \"Quiz 3\": 90, \"Quiz 4\": 90, \"Midterm 2\": 80, \"Quiz 5\": 90, \"Final exam\": 80, \"Webwork\": 92, \"Total\": \"C\"}, {\"Student_id\": 26660, \"Quiz 1\": 100, \"Quiz 2\": 80, \"Midterm 1\": 74, \"Quiz 3\": 100, \"Quiz 4\": 100, \"Midterm 2\": 88, \"Quiz 5\": 80, \"Final exam\": 65, \"Webwork\": 99, \"Total\": \"C\"}, {\"Student_id\": 13676, \"Quiz 1\": 100, \"Quiz 2\": 80, \"Midterm 1\": 88, \"Quiz 3\": 80, \"Quiz 4\": 100, \"Midterm 2\": 76, \"Quiz 5\": 70, \"Final exam\": 57, \"Webwork\": 77, \"Total\": \"C\"}, {\"Student_id\": 25952, \"Quiz 1\": 70, \"Quiz 2\": 70, \"Midterm 1\": 74, \"Quiz 3\": 90, \"Quiz 4\": 80, \"Midterm 2\": 74, \"Quiz 5\": 100, \"Final exam\": 66, \"Webwork\": 63, \"Total\": \"C\"}, {\"Student_id\": 90158, \"Quiz 1\": 100, \"Quiz 2\": 100, \"Midterm 1\": 94, \"Quiz 3\": 100, \"Quiz 4\": 100, \"Midterm 2\": 92, \"Quiz 5\": 80, \"Final exam\": 81, \"Webwork\": 100, \"Total\": \"A\"}, {\"Student_id\": 96730, \"Quiz 1\": 80, \"Quiz 2\": 80, \"Midterm 1\": 62, \"Quiz 3\": 100, \"Quiz 4\": 100, \"Midterm 2\": 80, \"Quiz 5\": 0, \"Final exam\": 60, \"Webwork\": 92, \"Total\": \"C\"}, {\"Student_id\": 92343, \"Quiz 1\": 100, \"Quiz 2\": 40, \"Midterm 1\": 94, \"Quiz 3\": 30, \"Quiz 4\": 100, \"Midterm 2\": 96, \"Quiz 5\": 0, \"Final exam\": 78, \"Webwork\": 88, \"Total\": \"B\"}, {\"Student_id\": 59512, \"Quiz 1\": 50, \"Quiz 2\": 100, \"Midterm 1\": 94, \"Quiz 3\": 100, \"Quiz 4\": 100, \"Midterm 2\": 94, \"Quiz 5\": 100, \"Final exam\": 92, \"Webwork\": 100, \"Total\": \"A\"}, {\"Student_id\": 84257, \"Quiz 1\": 100, \"Quiz 2\": 50, \"Midterm 1\": 66, \"Quiz 3\": 70, \"Quiz 4\": 100, \"Midterm 2\": 72, \"Quiz 5\": 0, \"Final exam\": 37, \"Webwork\": 47, \"Total\": \"F\"}, {\"Student_id\": 15160, \"Quiz 1\": 70, \"Quiz 2\": 50, \"Midterm 1\": 68, \"Quiz 3\": 80, \"Quiz 4\": 70, \"Midterm 2\": 90, \"Quiz 5\": 80, \"Final exam\": 74, \"Webwork\": 100, \"Total\": \"C\"}, {\"Student_id\": 26173, \"Quiz 1\": 100, \"Quiz 2\": 100, \"Midterm 1\": 100, \"Quiz 3\": 100, \"Quiz 4\": 100, \"Midterm 2\": 86, \"Quiz 5\": 100, \"Final exam\": 93, \"Webwork\": 100, \"Total\": \"A\"}, {\"Student_id\": 35132, \"Quiz 1\": 100, \"Quiz 2\": 100, \"Midterm 1\": 100, \"Quiz 3\": 90, \"Quiz 4\": 100, \"Midterm 2\": 96, \"Quiz 5\": 100, \"Final exam\": 88, \"Webwork\": 100, \"Total\": \"A\"}, {\"Student_id\": 93730, \"Quiz 1\": 80, \"Quiz 2\": 90, \"Midterm 1\": 76, \"Quiz 3\": 40, \"Quiz 4\": 100, \"Midterm 2\": 90, \"Quiz 5\": 100, \"Final exam\": 63, \"Webwork\": 88, \"Total\": \"C\"}, {\"Student_id\": 28266, \"Quiz 1\": 100, \"Quiz 2\": 100, \"Midterm 1\": 100, \"Quiz 3\": 100, \"Quiz 4\": 100, \"Midterm 2\": 94, \"Quiz 5\": 100, \"Final exam\": 91, \"Webwork\": 98, \"Total\": \"A\"}, {\"Student_id\": 72153, \"Quiz 1\": 80, \"Quiz 2\": 50, \"Midterm 1\": 88, \"Quiz 3\": 100, \"Quiz 4\": 100, \"Midterm 2\": 94, \"Quiz 5\": 100, \"Final exam\": 71, \"Webwork\": 100, \"Total\": \"B\"}, {\"Student_id\": 93619, \"Quiz 1\": 0, \"Quiz 2\": 40, \"Midterm 1\": 68, \"Quiz 3\": 100, \"Quiz 4\": 80, \"Midterm 2\": 88, \"Quiz 5\": 80, \"Final exam\": 39, \"Webwork\": 43, \"Total\": \"F\"}, {\"Student_id\": 35077, \"Quiz 1\": 60, \"Quiz 2\": 0, \"Midterm 1\": 94, \"Quiz 3\": 100, \"Quiz 4\": 90, \"Midterm 2\": 96, \"Quiz 5\": 90, \"Final exam\": 75, \"Webwork\": 92, \"Total\": \"B\"}, {\"Student_id\": 43711, \"Quiz 1\": 100, \"Quiz 2\": 100, \"Midterm 1\": 92, \"Quiz 3\": 100, \"Quiz 4\": 80, \"Midterm 2\": 94, \"Quiz 5\": 70, \"Final exam\": 85, \"Webwork\": 93, \"Total\": \"A\"}, {\"Student_id\": 27010, \"Quiz 1\": 70, \"Quiz 2\": 80, \"Midterm 1\": 100, \"Quiz 3\": 80, \"Quiz 4\": 90, \"Midterm 2\": 86, \"Quiz 5\": 100, \"Final exam\": 91, \"Webwork\": 100, \"Total\": \"A\"}, {\"Student_id\": 60478, \"Quiz 1\": 50, \"Quiz 2\": 30, \"Midterm 1\": 62, \"Quiz 3\": 80, \"Quiz 4\": 60, \"Midterm 2\": 72, \"Quiz 5\": 90, \"Final exam\": 63, \"Webwork\": 89, \"Total\": \"D\"}, {\"Student_id\": 94633, \"Quiz 1\": 100, \"Quiz 2\": 100, \"Midterm 1\": 100, \"Quiz 3\": 90, \"Quiz 4\": 90, \"Midterm 2\": 92, \"Quiz 5\": 90, \"Final exam\": 70, \"Webwork\": 83, \"Total\": \"B\"}, {\"Student_id\": 21726, \"Quiz 1\": 100, \"Quiz 2\": 100, \"Midterm 1\": 96, \"Quiz 3\": 40, \"Quiz 4\": 80, \"Midterm 2\": 82, \"Quiz 5\": 90, \"Final exam\": 77, \"Webwork\": 80, \"Total\": \"B\"}, {\"Student_id\": 25355, \"Quiz 1\": 100, \"Quiz 2\": 100, \"Midterm 1\": 86, \"Quiz 3\": 80, \"Quiz 4\": 100, \"Midterm 2\": 90, \"Quiz 5\": 60, \"Final exam\": 78, \"Webwork\": 100, \"Total\": \"B\"}, {\"Student_id\": 46116, \"Quiz 1\": 100, \"Quiz 2\": 100, \"Midterm 1\": 100, \"Quiz 3\": 100, \"Quiz 4\": 100, \"Midterm 2\": 88, \"Quiz 5\": 100, \"Final exam\": 75, \"Webwork\": 100, \"Total\": \"B\"}, {\"Student_id\": 10905, \"Quiz 1\": 50, \"Quiz 2\": 40, \"Midterm 1\": 96, \"Quiz 3\": 90, \"Quiz 4\": 90, \"Midterm 2\": 96, \"Quiz 5\": 90, \"Final exam\": 99, \"Webwork\": 81, \"Total\": \"A\"}, {\"Student_id\": 20771, \"Quiz 1\": 60, \"Quiz 2\": 70, \"Midterm 1\": 64, \"Quiz 3\": 100, \"Quiz 4\": 90, \"Midterm 2\": 82, \"Quiz 5\": 90, \"Final exam\": 56, \"Webwork\": 100, \"Total\": \"C\"}, {\"Student_id\": 38982, \"Quiz 1\": 100, \"Quiz 2\": 50, \"Midterm 1\": 60, \"Quiz 3\": 90, \"Quiz 4\": 100, \"Midterm 2\": 84, \"Quiz 5\": 80, \"Final exam\": 62, \"Webwork\": 66, \"Total\": \"D\"}, {\"Student_id\": 10228, \"Quiz 1\": 100, \"Quiz 2\": 100, \"Midterm 1\": 92, \"Quiz 3\": 100, \"Quiz 4\": 100, \"Midterm 2\": 96, \"Quiz 5\": 100, \"Final exam\": 88, \"Webwork\": 83, \"Total\": \"A\"}, {\"Student_id\": 75400, \"Quiz 1\": 100, \"Quiz 2\": 100, \"Midterm 1\": 70, \"Quiz 3\": 70, \"Quiz 4\": 100, \"Midterm 2\": 100, \"Quiz 5\": 100, \"Final exam\": 85, \"Webwork\": 100, \"Total\": \"B\"}, {\"Student_id\": 14425, \"Quiz 1\": 100, \"Quiz 2\": 50, \"Midterm 1\": 74, \"Quiz 3\": 100, \"Quiz 4\": 100, \"Midterm 2\": 88, \"Quiz 5\": 90, \"Final exam\": 62, \"Webwork\": 86, \"Total\": \"C\"}, {\"Student_id\": 26355, \"Quiz 1\": 100, \"Quiz 2\": 80, \"Midterm 1\": 92, \"Quiz 3\": 100, \"Quiz 4\": 100, \"Midterm 2\": 96, \"Quiz 5\": 100, \"Final exam\": 95, \"Webwork\": 100, \"Total\": \"A\"}, {\"Student_id\": 48682, \"Quiz 1\": 90, \"Quiz 2\": 70, \"Midterm 1\": 70, \"Quiz 3\": 70, \"Quiz 4\": 0, \"Midterm 2\": 84, \"Quiz 5\": 0, \"Final exam\": 57, \"Webwork\": 52, \"Total\": \"D\"}, {\"Student_id\": 60024, \"Quiz 1\": 80, \"Quiz 2\": 40, \"Midterm 1\": 76, \"Quiz 3\": 90, \"Quiz 4\": 90, \"Midterm 2\": 84, \"Quiz 5\": 100, \"Final exam\": 44, \"Webwork\": 100, \"Total\": \"D\"}, {\"Student_id\": 23306, \"Quiz 1\": 100, \"Quiz 2\": 50, \"Midterm 1\": 66, \"Quiz 3\": 90, \"Quiz 4\": 80, \"Midterm 2\": 92, \"Quiz 5\": 80, \"Final exam\": 68, \"Webwork\": 98, \"Total\": \"C\"}, {\"Student_id\": 50769, \"Quiz 1\": 90, \"Quiz 2\": 80, \"Midterm 1\": 82, \"Quiz 3\": 100, \"Quiz 4\": 100, \"Midterm 2\": 96, \"Quiz 5\": 100, \"Final exam\": 83, \"Webwork\": 100, \"Total\": \"B\"}, {\"Student_id\": 64659, \"Quiz 1\": 100, \"Quiz 2\": 50, \"Midterm 1\": 70, \"Quiz 3\": 70, \"Quiz 4\": 100, \"Midterm 2\": 84, \"Quiz 5\": 100, \"Final exam\": 63, \"Webwork\": 97, \"Total\": \"C\"}, {\"Student_id\": 88284, \"Quiz 1\": 100, \"Quiz 2\": 30, \"Midterm 1\": 86, \"Quiz 3\": 90, \"Quiz 4\": 60, \"Midterm 2\": 94, \"Quiz 5\": 100, \"Final exam\": 86, \"Webwork\": 100, \"Total\": \"B\"}, {\"Student_id\": 57895, \"Quiz 1\": 80, \"Quiz 2\": 40, \"Midterm 1\": 70, \"Quiz 3\": 50, \"Quiz 4\": 70, \"Midterm 2\": 72, \"Quiz 5\": 100, \"Final exam\": 41, \"Webwork\": 99, \"Total\": \"D\"}, {\"Student_id\": 21337, \"Quiz 1\": 100, \"Quiz 2\": 40, \"Midterm 1\": 48, \"Quiz 3\": 70, \"Quiz 4\": 80, \"Midterm 2\": 50, \"Quiz 5\": 30, \"Final exam\": 53, \"Webwork\": 64, \"Total\": \"F\"}, {\"Student_id\": 33098, \"Quiz 1\": 70, \"Quiz 2\": 50, \"Midterm 1\": 50, \"Quiz 3\": 90, \"Quiz 4\": 100, \"Midterm 2\": 86, \"Quiz 5\": 70, \"Final exam\": 59, \"Webwork\": 89, \"Total\": \"D\"}, {\"Student_id\": 13997, \"Quiz 1\": 70, \"Quiz 2\": 30, \"Midterm 1\": 68, \"Quiz 3\": 50, \"Quiz 4\": 50, \"Midterm 2\": 84, \"Quiz 5\": 70, \"Final exam\": 49, \"Webwork\": 93, \"Total\": \"D\"}, {\"Student_id\": 27533, \"Quiz 1\": 80, \"Quiz 2\": 100, \"Midterm 1\": 96, \"Quiz 3\": 90, \"Quiz 4\": 90, \"Midterm 2\": 80, \"Quiz 5\": 90, \"Final exam\": 82, \"Webwork\": 99, \"Total\": \"B\"}, {\"Student_id\": 84182, \"Quiz 1\": 80, \"Quiz 2\": 40, \"Midterm 1\": 86, \"Quiz 3\": 80, \"Quiz 4\": 100, \"Midterm 2\": 76, \"Quiz 5\": 80, \"Final exam\": 81, \"Webwork\": 100, \"Total\": \"B\"}, {\"Student_id\": 91477, \"Quiz 1\": 100, \"Quiz 2\": 80, \"Midterm 1\": 54, \"Quiz 3\": 70, \"Quiz 4\": 100, \"Midterm 2\": 80, \"Quiz 5\": 100, \"Final exam\": 45, \"Webwork\": 100, \"Total\": \"D\"}, {\"Student_id\": 89585, \"Quiz 1\": 100, \"Quiz 2\": 30, \"Midterm 1\": 30, \"Quiz 3\": 70, \"Quiz 4\": 60, \"Midterm 2\": 68, \"Quiz 5\": 40, \"Final exam\": 57, \"Webwork\": 98, \"Total\": \"F\"}, {\"Student_id\": 37282, \"Quiz 1\": 100, \"Quiz 2\": 0, \"Midterm 1\": 74, \"Quiz 3\": 100, \"Quiz 4\": 100, \"Midterm 2\": 100, \"Quiz 5\": 100, \"Final exam\": 71, \"Webwork\": 100, \"Total\": \"B\"}, {\"Student_id\": 17389, \"Quiz 1\": 100, \"Quiz 2\": 60, \"Midterm 1\": 24, \"Quiz 3\": 0, \"Quiz 4\": 70, \"Midterm 2\": 44, \"Quiz 5\": 0, \"Final exam\": 0, \"Webwork\": 31, \"Total\": \"F\"}, {\"Student_id\": 96756, \"Quiz 1\": 100, \"Quiz 2\": 100, \"Midterm 1\": 96, \"Quiz 3\": 90, \"Quiz 4\": 100, \"Midterm 2\": 80, \"Quiz 5\": 80, \"Final exam\": 84, \"Webwork\": 84, \"Total\": \"B\"}, {\"Student_id\": 93708, \"Quiz 1\": 70, \"Quiz 2\": 100, \"Midterm 1\": 94, \"Quiz 3\": 90, \"Quiz 4\": 70, \"Midterm 2\": 94, \"Quiz 5\": 100, \"Final exam\": 90, \"Webwork\": 100, \"Total\": \"A\"}, {\"Student_id\": 25769, \"Quiz 1\": 40, \"Quiz 2\": 30, \"Midterm 1\": 74, \"Quiz 3\": 100, \"Quiz 4\": 90, \"Midterm 2\": 60, \"Quiz 5\": 70, \"Final exam\": 51, \"Webwork\": 79, \"Total\": \"D\"}, {\"Student_id\": 78570, \"Quiz 1\": 90, \"Quiz 2\": 40, \"Midterm 1\": 88, \"Quiz 3\": 100, \"Quiz 4\": 100, \"Midterm 2\": 100, \"Quiz 5\": 100, \"Final exam\": 74, \"Webwork\": 100, \"Total\": \"B\"}, {\"Student_id\": 84697, \"Quiz 1\": 70, \"Quiz 2\": 40, \"Midterm 1\": 90, \"Quiz 3\": 80, \"Quiz 4\": 100, \"Midterm 2\": 80, \"Quiz 5\": 80, \"Final exam\": 74, \"Webwork\": 93, \"Total\": \"B\"}, {\"Student_id\": 90331, \"Quiz 1\": 100, \"Quiz 2\": 60, \"Midterm 1\": 84, \"Quiz 3\": 90, \"Quiz 4\": 100, \"Midterm 2\": 82, \"Quiz 5\": 80, \"Final exam\": 79, \"Webwork\": 62, \"Total\": \"B\"}, {\"Student_id\": 75173, \"Quiz 1\": 50, \"Quiz 2\": 0, \"Midterm 1\": 64, \"Quiz 3\": 50, \"Quiz 4\": 100, \"Midterm 2\": 92, \"Quiz 5\": 90, \"Final exam\": 73, \"Webwork\": 85, \"Total\": \"C\"}, {\"Student_id\": 47579, \"Quiz 1\": 70, \"Quiz 2\": 40, \"Midterm 1\": 54, \"Quiz 3\": 80, \"Quiz 4\": 60, \"Midterm 2\": 92, \"Quiz 5\": 50, \"Final exam\": 62, \"Webwork\": 85, \"Total\": \"D\"}, {\"Student_id\": 85232, \"Quiz 1\": 80, \"Quiz 2\": 0, \"Midterm 1\": 36, \"Quiz 3\": 0, \"Quiz 4\": 0, \"Midterm 2\": 38, \"Quiz 5\": 0, \"Final exam\": 21, \"Webwork\": 0, \"Total\": \"F\"}, {\"Student_id\": 90344, \"Quiz 1\": 80, \"Quiz 2\": 0, \"Midterm 1\": 66, \"Quiz 3\": 70, \"Quiz 4\": 50, \"Midterm 2\": 90, \"Quiz 5\": 80, \"Final exam\": 48, \"Webwork\": 100, \"Total\": \"D\"}, {\"Student_id\": 62729, \"Quiz 1\": 60, \"Quiz 2\": 0, \"Midterm 1\": 68, \"Quiz 3\": 0, \"Quiz 4\": 0, \"Midterm 2\": 0, \"Quiz 5\": 0, \"Final exam\": 0, \"Webwork\": 0, \"Total\": \"F\"}, {\"Student_id\": 45870, \"Quiz 1\": 50, \"Quiz 2\": 30, \"Midterm 1\": 64, \"Quiz 3\": 0, \"Quiz 4\": 10, \"Midterm 2\": 68, \"Quiz 5\": 70, \"Final exam\": 49, \"Webwork\": 71, \"Total\": \"F\"}, {\"Student_id\": 92188, \"Quiz 1\": 100, \"Quiz 2\": 100, \"Midterm 1\": 78, \"Quiz 3\": 100, \"Quiz 4\": 100, \"Midterm 2\": 96, \"Quiz 5\": 100, \"Final exam\": 84, \"Webwork\": 100, \"Total\": \"B\"}, {\"Student_id\": 89754, \"Quiz 1\": 100, \"Quiz 2\": 100, \"Midterm 1\": 94, \"Quiz 3\": 90, \"Quiz 4\": 100, \"Midterm 2\": 82, \"Quiz 5\": 100, \"Final exam\": 84, \"Webwork\": 100, \"Total\": \"B\"}, {\"Student_id\": 15103, \"Quiz 1\": 80, \"Quiz 2\": 90, \"Midterm 1\": 48, \"Quiz 3\": 100, \"Quiz 4\": 90, \"Midterm 2\": 60, \"Quiz 5\": 90, \"Final exam\": 63, \"Webwork\": 100, \"Total\": \"D\"}, {\"Student_id\": 50146, \"Quiz 1\": 100, \"Quiz 2\": 80, \"Midterm 1\": 84, \"Quiz 3\": 80, \"Quiz 4\": 90, \"Midterm 2\": 84, \"Quiz 5\": 90, \"Final exam\": 48, \"Webwork\": 73, \"Total\": \"D\"}, {\"Student_id\": 79694, \"Quiz 1\": 80, \"Quiz 2\": 60, \"Midterm 1\": 74, \"Quiz 3\": 100, \"Quiz 4\": 100, \"Midterm 2\": 84, \"Quiz 5\": 90, \"Final exam\": 44, \"Webwork\": 69, \"Total\": \"D\"}, {\"Student_id\": 62696, \"Quiz 1\": 100, \"Quiz 2\": 100, \"Midterm 1\": 74, \"Quiz 3\": 100, \"Quiz 4\": 100, \"Midterm 2\": 88, \"Quiz 5\": 100, \"Final exam\": 89, \"Webwork\": 100, \"Total\": \"B\"}, {\"Student_id\": 52227, \"Quiz 1\": 100, \"Quiz 2\": 90, \"Midterm 1\": 80, \"Quiz 3\": 100, \"Quiz 4\": 100, \"Midterm 2\": 88, \"Quiz 5\": 90, \"Final exam\": 84, \"Webwork\": 100, \"Total\": \"B\"}, {\"Student_id\": 85831, \"Quiz 1\": 100, \"Quiz 2\": 80, \"Midterm 1\": 68, \"Quiz 3\": 90, \"Quiz 4\": 100, \"Midterm 2\": 94, \"Quiz 5\": 70, \"Final exam\": 71, \"Webwork\": 79, \"Total\": \"C\"}, {\"Student_id\": 67177, \"Quiz 1\": 80, \"Quiz 2\": 80, \"Midterm 1\": 54, \"Quiz 3\": 0, \"Quiz 4\": 80, \"Midterm 2\": 80, \"Quiz 5\": 70, \"Final exam\": 62, \"Webwork\": 83, \"Total\": \"D\"}, {\"Student_id\": 41175, \"Quiz 1\": 80, \"Quiz 2\": 90, \"Midterm 1\": 60, \"Quiz 3\": 30, \"Quiz 4\": 90, \"Midterm 2\": 64, \"Quiz 5\": 0, \"Final exam\": 56, \"Webwork\": 15, \"Total\": \"F\"}, {\"Student_id\": 79017, \"Quiz 1\": 0, \"Quiz 2\": 30, \"Midterm 1\": 72, \"Quiz 3\": 60, \"Quiz 4\": 80, \"Midterm 2\": 78, \"Quiz 5\": 70, \"Final exam\": 59, \"Webwork\": 66, \"Total\": \"D\"}, {\"Student_id\": 29894, \"Quiz 1\": 100, \"Quiz 2\": 40, \"Midterm 1\": 64, \"Quiz 3\": 100, \"Quiz 4\": 100, \"Midterm 2\": 66, \"Quiz 5\": 90, \"Final exam\": 68, \"Webwork\": 89, \"Total\": \"C\"}, {\"Student_id\": 95206, \"Quiz 1\": 100, \"Quiz 2\": 100, \"Midterm 1\": 90, \"Quiz 3\": 80, \"Quiz 4\": 60, \"Midterm 2\": 76, \"Quiz 5\": 100, \"Final exam\": 53, \"Webwork\": 54, \"Total\": \"D\"}, {\"Student_id\": 37269, \"Quiz 1\": 90, \"Quiz 2\": 100, \"Midterm 1\": 88, \"Quiz 3\": 100, \"Quiz 4\": 100, \"Midterm 2\": 94, \"Quiz 5\": 80, \"Final exam\": 71, \"Webwork\": 100, \"Total\": \"B\"}, {\"Student_id\": 89195, \"Quiz 1\": 70, \"Quiz 2\": 100, \"Midterm 1\": 82, \"Quiz 3\": 100, \"Quiz 4\": 100, \"Midterm 2\": 90, \"Quiz 5\": 90, \"Final exam\": 65, \"Webwork\": 100, \"Total\": \"B\"}, {\"Student_id\": 63723, \"Quiz 1\": 0, \"Quiz 2\": 70, \"Midterm 1\": 60, \"Quiz 3\": 0, \"Quiz 4\": 90, \"Midterm 2\": 76, \"Quiz 5\": 60, \"Final exam\": 46, \"Webwork\": 32, \"Total\": \"F\"}, {\"Student_id\": 95952, \"Quiz 1\": 100, \"Quiz 2\": 50, \"Midterm 1\": 62, \"Quiz 3\": 80, \"Quiz 4\": 100, \"Midterm 2\": 64, \"Quiz 5\": 70, \"Final exam\": 55, \"Webwork\": 84, \"Total\": \"D\"}, {\"Student_id\": 86861, \"Quiz 1\": 40, \"Quiz 2\": 70, \"Midterm 1\": 92, \"Quiz 3\": 100, \"Quiz 4\": 90, \"Midterm 2\": 78, \"Quiz 5\": 100, \"Final exam\": 69, \"Webwork\": 79, \"Total\": \"C\"}, {\"Student_id\": 81597, \"Quiz 1\": 70, \"Quiz 2\": 100, \"Midterm 1\": 84, \"Quiz 3\": 90, \"Quiz 4\": 80, \"Midterm 2\": 76, \"Quiz 5\": 90, \"Final exam\": 85, \"Webwork\": 100, \"Total\": \"B\"}, {\"Student_id\": 34209, \"Quiz 1\": 60, \"Quiz 2\": 0, \"Midterm 1\": 56, \"Quiz 3\": 60, \"Quiz 4\": 90, \"Midterm 2\": 72, \"Quiz 5\": 90, \"Final exam\": 60, \"Webwork\": 100, \"Total\": \"D\"}, {\"Student_id\": 75505, \"Quiz 1\": 40, \"Quiz 2\": 70, \"Midterm 1\": 44, \"Quiz 3\": 90, \"Quiz 4\": 100, \"Midterm 2\": 78, \"Quiz 5\": 100, \"Final exam\": 60, \"Webwork\": 99, \"Total\": \"D\"}, {\"Student_id\": 26613, \"Quiz 1\": 90, \"Quiz 2\": 80, \"Midterm 1\": 82, \"Quiz 3\": 0, \"Quiz 4\": 70, \"Midterm 2\": 86, \"Quiz 5\": 80, \"Final exam\": 89, \"Webwork\": 69, \"Total\": \"B\"}, {\"Student_id\": 88388, \"Quiz 1\": 100, \"Quiz 2\": 80, \"Midterm 1\": 86, \"Quiz 3\": 90, \"Quiz 4\": 100, \"Midterm 2\": 94, \"Quiz 5\": 100, \"Final exam\": 94, \"Webwork\": 100, \"Total\": \"A\"}, {\"Student_id\": 11649, \"Quiz 1\": 100, \"Quiz 2\": 80, \"Midterm 1\": 78, \"Quiz 3\": 90, \"Quiz 4\": 100, \"Midterm 2\": 88, \"Quiz 5\": 90, \"Final exam\": 64, \"Webwork\": 89, \"Total\": \"C\"}, {\"Student_id\": 10086, \"Quiz 1\": 100, \"Quiz 2\": 100, \"Midterm 1\": 86, \"Quiz 3\": 90, \"Quiz 4\": 100, \"Midterm 2\": 88, \"Quiz 5\": 100, \"Final exam\": 87, \"Webwork\": 100, \"Total\": \"A\"}, {\"Student_id\": 85187, \"Quiz 1\": 100, \"Quiz 2\": 100, \"Midterm 1\": 84, \"Quiz 3\": 100, \"Quiz 4\": 100, \"Midterm 2\": 96, \"Quiz 5\": 100, \"Final exam\": 84, \"Webwork\": 99, \"Total\": \"A\"}, {\"Student_id\": 96292, \"Quiz 1\": 100, \"Quiz 2\": 70, \"Midterm 1\": 76, \"Quiz 3\": 90, \"Quiz 4\": 90, \"Midterm 2\": 84, \"Quiz 5\": 70, \"Final exam\": 44, \"Webwork\": 77, \"Total\": \"D\"}, {\"Student_id\": 31906, \"Quiz 1\": 90, \"Quiz 2\": 0, \"Midterm 1\": 54, \"Quiz 3\": 30, \"Quiz 4\": 0, \"Midterm 2\": 64, \"Quiz 5\": 0, \"Final exam\": 35, \"Webwork\": 6, \"Total\": \"F\"}, {\"Student_id\": 25889, \"Quiz 1\": 100, \"Quiz 2\": 70, \"Midterm 1\": 86, \"Quiz 3\": 100, \"Quiz 4\": 100, \"Midterm 2\": 84, \"Quiz 5\": 100, \"Final exam\": 69, \"Webwork\": 100, \"Total\": \"B\"}, {\"Student_id\": 52298, \"Quiz 1\": 70, \"Quiz 2\": 0, \"Midterm 1\": 96, \"Quiz 3\": 100, \"Quiz 4\": 100, \"Midterm 2\": 96, \"Quiz 5\": 90, \"Final exam\": 81, \"Webwork\": 96, \"Total\": \"A\"}, {\"Student_id\": 39129, \"Quiz 1\": 100, \"Quiz 2\": 40, \"Midterm 1\": 96, \"Quiz 3\": 100, \"Quiz 4\": 90, \"Midterm 2\": 100, \"Quiz 5\": 50, \"Final exam\": 68, \"Webwork\": 97, \"Total\": \"B\"}, {\"Student_id\": 34329, \"Quiz 1\": 70, \"Quiz 2\": 100, \"Midterm 1\": 100, \"Quiz 3\": 90, \"Quiz 4\": 100, \"Midterm 2\": 94, \"Quiz 5\": 100, \"Final exam\": 77, \"Webwork\": 95, \"Total\": \"B\"}, {\"Student_id\": 35783, \"Quiz 1\": 70, \"Quiz 2\": 40, \"Midterm 1\": 58, \"Quiz 3\": 90, \"Quiz 4\": 100, \"Midterm 2\": 86, \"Quiz 5\": 90, \"Final exam\": 63, \"Webwork\": 100, \"Total\": \"C\"}, {\"Student_id\": 60221, \"Quiz 1\": 80, \"Quiz 2\": 80, \"Midterm 1\": 88, \"Quiz 3\": 100, \"Quiz 4\": 100, \"Midterm 2\": 96, \"Quiz 5\": 100, \"Final exam\": 76, \"Webwork\": 100, \"Total\": \"B\"}, {\"Student_id\": 34508, \"Quiz 1\": 100, \"Quiz 2\": 60, \"Midterm 1\": 74, \"Quiz 3\": 50, \"Quiz 4\": 80, \"Midterm 2\": 86, \"Quiz 5\": 0, \"Final exam\": 63, \"Webwork\": 78, \"Total\": \"C\"}, {\"Student_id\": 81663, \"Quiz 1\": 70, \"Quiz 2\": 70, \"Midterm 1\": 62, \"Quiz 3\": 90, \"Quiz 4\": 90, \"Midterm 2\": 82, \"Quiz 5\": 80, \"Final exam\": 80, \"Webwork\": 84, \"Total\": \"C\"}, {\"Student_id\": 86529, \"Quiz 1\": 70, \"Quiz 2\": 70, \"Midterm 1\": 36, \"Quiz 3\": 80, \"Quiz 4\": 90, \"Midterm 2\": 70, \"Quiz 5\": 0, \"Final exam\": 40, \"Webwork\": 99, \"Total\": \"F\"}, {\"Student_id\": 11972, \"Quiz 1\": 100, \"Quiz 2\": 100, \"Midterm 1\": 74, \"Quiz 3\": 100, \"Quiz 4\": 100, \"Midterm 2\": 80, \"Quiz 5\": 70, \"Final exam\": 64, \"Webwork\": 91, \"Total\": \"C\"}, {\"Student_id\": 74993, \"Quiz 1\": 70, \"Quiz 2\": 80, \"Midterm 1\": 48, \"Quiz 3\": 80, \"Quiz 4\": 80, \"Midterm 2\": 72, \"Quiz 5\": 80, \"Final exam\": 34, \"Webwork\": 92, \"Total\": \"F\"}, {\"Student_id\": 93073, \"Quiz 1\": 100, \"Quiz 2\": 70, \"Midterm 1\": 66, \"Quiz 3\": 90, \"Quiz 4\": 90, \"Midterm 2\": 54, \"Quiz 5\": 60, \"Final exam\": 38, \"Webwork\": 77, \"Total\": \"F\"}, {\"Student_id\": 27453, \"Quiz 1\": 100, \"Quiz 2\": 70, \"Midterm 1\": 70, \"Quiz 3\": 80, \"Quiz 4\": 90, \"Midterm 2\": 84, \"Quiz 5\": 70, \"Final exam\": 65, \"Webwork\": 100, \"Total\": \"C\"}, {\"Student_id\": 57894, \"Quiz 1\": 80, \"Quiz 2\": 80, \"Midterm 1\": 80, \"Quiz 3\": 90, \"Quiz 4\": 100, \"Midterm 2\": 78, \"Quiz 5\": 70, \"Final exam\": 63, \"Webwork\": 83, \"Total\": \"C\"}, {\"Student_id\": 78451, \"Quiz 1\": 100, \"Quiz 2\": 100, \"Midterm 1\": 94, \"Quiz 3\": 0, \"Quiz 4\": 90, \"Midterm 2\": 86, \"Quiz 5\": 60, \"Final exam\": 75, \"Webwork\": 68, \"Total\": \"B\"}, {\"Student_id\": 70693, \"Quiz 1\": 80, \"Quiz 2\": 70, \"Midterm 1\": 64, \"Quiz 3\": 100, \"Quiz 4\": 80, \"Midterm 2\": 76, \"Quiz 5\": 30, \"Final exam\": 37, \"Webwork\": 46, \"Total\": \"F\"}, {\"Student_id\": 68734, \"Quiz 1\": 70, \"Quiz 2\": 30, \"Midterm 1\": 72, \"Quiz 3\": 80, \"Quiz 4\": 100, \"Midterm 2\": 60, \"Quiz 5\": 90, \"Final exam\": 82, \"Webwork\": 81, \"Total\": \"C\"}, {\"Student_id\": 47273, \"Quiz 1\": 80, \"Quiz 2\": 80, \"Midterm 1\": 72, \"Quiz 3\": 80, \"Quiz 4\": 90, \"Midterm 2\": 0, \"Quiz 5\": 80, \"Final exam\": 73, \"Webwork\": 91, \"Total\": \"D\"}, {\"Student_id\": 63256, \"Quiz 1\": 70, \"Quiz 2\": 90, \"Midterm 1\": 96, \"Quiz 3\": 50, \"Quiz 4\": 90, \"Midterm 2\": 94, \"Quiz 5\": 100, \"Final exam\": 92, \"Webwork\": 99, \"Total\": \"A\"}, {\"Student_id\": 93643, \"Quiz 1\": 60, \"Quiz 2\": 40, \"Midterm 1\": 50, \"Quiz 3\": 60, \"Quiz 4\": 50, \"Midterm 2\": 78, \"Quiz 5\": 70, \"Final exam\": 31, \"Webwork\": 91, \"Total\": \"F\"}, {\"Student_id\": 96916, \"Quiz 1\": 100, \"Quiz 2\": 50, \"Midterm 1\": 82, \"Quiz 3\": 100, \"Quiz 4\": 100, \"Midterm 2\": 88, \"Quiz 5\": 100, \"Final exam\": 70, \"Webwork\": 100, \"Total\": \"B\"}, {\"Student_id\": 42713, \"Quiz 1\": 100, \"Quiz 2\": 100, \"Midterm 1\": 100, \"Quiz 3\": 100, \"Quiz 4\": 100, \"Midterm 2\": 96, \"Quiz 5\": 100, \"Final exam\": 81, \"Webwork\": 100, \"Total\": \"A\"}, {\"Student_id\": 82096, \"Quiz 1\": 100, \"Quiz 2\": 80, \"Midterm 1\": 84, \"Quiz 3\": 100, \"Quiz 4\": 100, \"Midterm 2\": 82, \"Quiz 5\": 100, \"Final exam\": 92, \"Webwork\": 99, \"Total\": \"A\"}, {\"Student_id\": 63412, \"Quiz 1\": 100, \"Quiz 2\": 0, \"Midterm 1\": 40, \"Quiz 3\": 70, \"Quiz 4\": 50, \"Midterm 2\": 40, \"Quiz 5\": 70, \"Final exam\": 40, \"Webwork\": 16, \"Total\": \"F\"}, {\"Student_id\": 80687, \"Quiz 1\": 100, \"Quiz 2\": 60, \"Midterm 1\": 64, \"Quiz 3\": 70, \"Quiz 4\": 100, \"Midterm 2\": 76, \"Quiz 5\": 90, \"Final exam\": 44, \"Webwork\": 100, \"Total\": \"D\"}, {\"Student_id\": 58279, \"Quiz 1\": 60, \"Quiz 2\": 50, \"Midterm 1\": 80, \"Quiz 3\": 90, \"Quiz 4\": 100, \"Midterm 2\": 92, \"Quiz 5\": 90, \"Final exam\": 63, \"Webwork\": 99, \"Total\": \"C\"}, {\"Student_id\": 46658, \"Quiz 1\": 70, \"Quiz 2\": 100, \"Midterm 1\": 98, \"Quiz 3\": 90, \"Quiz 4\": 100, \"Midterm 2\": 94, \"Quiz 5\": 0, \"Final exam\": 60, \"Webwork\": 79, \"Total\": \"C\"}, {\"Student_id\": 27317, \"Quiz 1\": 100, \"Quiz 2\": 70, \"Midterm 1\": 68, \"Quiz 3\": 60, \"Quiz 4\": 100, \"Midterm 2\": 84, \"Quiz 5\": 70, \"Final exam\": 64, \"Webwork\": 100, \"Total\": \"C\"}, {\"Student_id\": 42041, \"Quiz 1\": 100, \"Quiz 2\": 100, \"Midterm 1\": 84, \"Quiz 3\": 100, \"Quiz 4\": 80, \"Midterm 2\": 84, \"Quiz 5\": 100, \"Final exam\": 79, \"Webwork\": 83, \"Total\": \"B\"}, {\"Student_id\": 66837, \"Quiz 1\": 10, \"Quiz 2\": 50, \"Midterm 1\": 34, \"Quiz 3\": 0, \"Quiz 4\": 0, \"Midterm 2\": 0, \"Quiz 5\": 0, \"Final exam\": 0, \"Webwork\": 9, \"Total\": \"F\"}, {\"Student_id\": 10946, \"Quiz 1\": 60, \"Quiz 2\": 50, \"Midterm 1\": 54, \"Quiz 3\": 100, \"Quiz 4\": 80, \"Midterm 2\": 72, \"Quiz 5\": 40, \"Final exam\": 44, \"Webwork\": 81, \"Total\": \"F\"}, {\"Student_id\": 93158, \"Quiz 1\": 100, \"Quiz 2\": 80, \"Midterm 1\": 48, \"Quiz 3\": 80, \"Quiz 4\": 90, \"Midterm 2\": 60, \"Quiz 5\": 90, \"Final exam\": 48, \"Webwork\": 91, \"Total\": \"F\"}, {\"Student_id\": 64182, \"Quiz 1\": 60, \"Quiz 2\": 100, \"Midterm 1\": 94, \"Quiz 3\": 90, \"Quiz 4\": 90, \"Midterm 2\": 90, \"Quiz 5\": 70, \"Final exam\": 87, \"Webwork\": 100, \"Total\": \"A\"}, {\"Student_id\": 47408, \"Quiz 1\": 80, \"Quiz 2\": 30, \"Midterm 1\": 64, \"Quiz 3\": 70, \"Quiz 4\": 80, \"Midterm 2\": 68, \"Quiz 5\": 60, \"Final exam\": 55, \"Webwork\": 47, \"Total\": \"D\"}, {\"Student_id\": 59801, \"Quiz 1\": 80, \"Quiz 2\": 70, \"Midterm 1\": 78, \"Quiz 3\": 90, \"Quiz 4\": 100, \"Midterm 2\": 82, \"Quiz 5\": 40, \"Final exam\": 57, \"Webwork\": 96, \"Total\": \"C\"}, {\"Student_id\": 23324, \"Quiz 1\": 100, \"Quiz 2\": 80, \"Midterm 1\": 88, \"Quiz 3\": 90, \"Quiz 4\": 100, \"Midterm 2\": 76, \"Quiz 5\": 100, \"Final exam\": 82, \"Webwork\": 94, \"Total\": \"B\"}, {\"Student_id\": 28275, \"Quiz 1\": 70, \"Quiz 2\": 30, \"Midterm 1\": 74, \"Quiz 3\": 70, \"Quiz 4\": 50, \"Midterm 2\": 84, \"Quiz 5\": 70, \"Final exam\": 44, \"Webwork\": 96, \"Total\": \"D\"}, {\"Student_id\": 66874, \"Quiz 1\": 100, \"Quiz 2\": 100, \"Midterm 1\": 94, \"Quiz 3\": 100, \"Quiz 4\": 100, \"Midterm 2\": 100, \"Quiz 5\": 80, \"Final exam\": 81, \"Webwork\": 99, \"Total\": \"A\"}, {\"Student_id\": 50321, \"Quiz 1\": 100, \"Quiz 2\": 50, \"Midterm 1\": 82, \"Quiz 3\": 90, \"Quiz 4\": 100, \"Midterm 2\": 80, \"Quiz 5\": 70, \"Final exam\": 63, \"Webwork\": 93, \"Total\": \"C\"}, {\"Student_id\": 99121, \"Quiz 1\": 0, \"Quiz 2\": 0, \"Midterm 1\": 68, \"Quiz 3\": 100, \"Quiz 4\": 100, \"Midterm 2\": 88, \"Quiz 5\": 90, \"Final exam\": 75, \"Webwork\": 54, \"Total\": \"C\"}, {\"Student_id\": 82071, \"Quiz 1\": 80, \"Quiz 2\": 100, \"Midterm 1\": 84, \"Quiz 3\": 100, \"Quiz 4\": 100, \"Midterm 2\": 90, \"Quiz 5\": 90, \"Final exam\": 77, \"Webwork\": 99, \"Total\": \"B\"}, {\"Student_id\": 13533, \"Quiz 1\": 100, \"Quiz 2\": 60, \"Midterm 1\": 76, \"Quiz 3\": 90, \"Quiz 4\": 100, \"Midterm 2\": 92, \"Quiz 5\": 0, \"Final exam\": 58, \"Webwork\": 95, \"Total\": \"C\"}, {\"Student_id\": 74818, \"Quiz 1\": 70, \"Quiz 2\": 30, \"Midterm 1\": 50, \"Quiz 3\": 90, \"Quiz 4\": 100, \"Midterm 2\": 80, \"Quiz 5\": 100, \"Final exam\": 61, \"Webwork\": 100, \"Total\": \"C\"}, {\"Student_id\": 64973, \"Quiz 1\": 100, \"Quiz 2\": 50, \"Midterm 1\": 60, \"Quiz 3\": 60, \"Quiz 4\": 90, \"Midterm 2\": 78, \"Quiz 5\": 0, \"Final exam\": 54, \"Webwork\": 66, \"Total\": \"D\"}, {\"Student_id\": 35915, \"Quiz 1\": 80, \"Quiz 2\": 80, \"Midterm 1\": 68, \"Quiz 3\": 100, \"Quiz 4\": 100, \"Midterm 2\": 96, \"Quiz 5\": 100, \"Final exam\": 64, \"Webwork\": 81, \"Total\": \"C\"}, {\"Student_id\": 67742, \"Quiz 1\": 100, \"Quiz 2\": 80, \"Midterm 1\": 98, \"Quiz 3\": 100, \"Quiz 4\": 100, \"Midterm 2\": 88, \"Quiz 5\": 70, \"Final exam\": 75, \"Webwork\": 92, \"Total\": \"B\"}, {\"Student_id\": 89198, \"Quiz 1\": 100, \"Quiz 2\": 100, \"Midterm 1\": 96, \"Quiz 3\": 90, \"Quiz 4\": 100, \"Midterm 2\": 100, \"Quiz 5\": 80, \"Final exam\": 97, \"Webwork\": 89, \"Total\": \"A\"}, {\"Student_id\": 79593, \"Quiz 1\": 70, \"Quiz 2\": 80, \"Midterm 1\": 90, \"Quiz 3\": 100, \"Quiz 4\": 100, \"Midterm 2\": 70, \"Quiz 5\": 100, \"Final exam\": 76, \"Webwork\": 100, \"Total\": \"B\"}, {\"Student_id\": 17956, \"Quiz 1\": 50, \"Quiz 2\": 10, \"Midterm 1\": 58, \"Quiz 3\": 100, \"Quiz 4\": 70, \"Midterm 2\": 72, \"Quiz 5\": 70, \"Final exam\": 51, \"Webwork\": 76, \"Total\": \"F\"}, {\"Student_id\": 92847, \"Quiz 1\": 70, \"Quiz 2\": 30, \"Midterm 1\": 54, \"Quiz 3\": 80, \"Quiz 4\": 80, \"Midterm 2\": 70, \"Quiz 5\": 90, \"Final exam\": 72, \"Webwork\": 100, \"Total\": \"C\"}, {\"Student_id\": 54125, \"Quiz 1\": 10, \"Quiz 2\": 0, \"Midterm 1\": 24, \"Quiz 3\": 60, \"Quiz 4\": 50, \"Midterm 2\": 66, \"Quiz 5\": 70, \"Final exam\": 38, \"Webwork\": 60, \"Total\": \"F\"}, {\"Student_id\": 86018, \"Quiz 1\": 70, \"Quiz 2\": 70, \"Midterm 1\": 88, \"Quiz 3\": 90, \"Quiz 4\": 100, \"Midterm 2\": 100, \"Quiz 5\": 90, \"Final exam\": 63, \"Webwork\": 100, \"Total\": \"B\"}, {\"Student_id\": 49131, \"Quiz 1\": 80, \"Quiz 2\": 40, \"Midterm 1\": 74, \"Quiz 3\": 30, \"Quiz 4\": 0, \"Midterm 2\": 70, \"Quiz 5\": 60, \"Final exam\": 46, \"Webwork\": 78, \"Total\": \"D\"}, {\"Student_id\": 24893, \"Quiz 1\": 60, \"Quiz 2\": 60, \"Midterm 1\": 100, \"Quiz 3\": 90, \"Quiz 4\": 100, \"Midterm 2\": 88, \"Quiz 5\": 100, \"Final exam\": 87, \"Webwork\": 99, \"Total\": \"A\"}, {\"Student_id\": 88373, \"Quiz 1\": 50, \"Quiz 2\": 70, \"Midterm 1\": 70, \"Quiz 3\": 50, \"Quiz 4\": 100, \"Midterm 2\": 86, \"Quiz 5\": 90, \"Final exam\": 54, \"Webwork\": 98, \"Total\": \"C\"}, {\"Student_id\": 48453, \"Quiz 1\": 100, \"Quiz 2\": 100, \"Midterm 1\": 100, \"Quiz 3\": 100, \"Quiz 4\": 100, \"Midterm 2\": 96, \"Quiz 5\": 90, \"Final exam\": 78, \"Webwork\": 100, \"Total\": \"A\"}, {\"Student_id\": 98083, \"Quiz 1\": 100, \"Quiz 2\": 100, \"Midterm 1\": 100, \"Quiz 3\": 90, \"Quiz 4\": 90, \"Midterm 2\": 96, \"Quiz 5\": 100, \"Final exam\": 90, \"Webwork\": 100, \"Total\": \"A\"}, {\"Student_id\": 78574, \"Quiz 1\": 70, \"Quiz 2\": 30, \"Midterm 1\": 58, \"Quiz 3\": 90, \"Quiz 4\": 90, \"Midterm 2\": 70, \"Quiz 5\": 40, \"Final exam\": 44, \"Webwork\": 98, \"Total\": \"D\"}, {\"Student_id\": 57816, \"Quiz 1\": 100, \"Quiz 2\": 90, \"Midterm 1\": 100, \"Quiz 3\": 50, \"Quiz 4\": 60, \"Midterm 2\": 86, \"Quiz 5\": 0, \"Final exam\": 83, \"Webwork\": 79, \"Total\": \"B\"}, {\"Student_id\": 97312, \"Quiz 1\": 70, \"Quiz 2\": 100, \"Midterm 1\": 86, \"Quiz 3\": 90, \"Quiz 4\": 100, \"Midterm 2\": 92, \"Quiz 5\": 100, \"Final exam\": 87, \"Webwork\": 100, \"Total\": \"A\"}, {\"Student_id\": 95528, \"Quiz 1\": 90, \"Quiz 2\": 80, \"Midterm 1\": 58, \"Quiz 3\": 100, \"Quiz 4\": 80, \"Midterm 2\": 74, \"Quiz 5\": 90, \"Final exam\": 59, \"Webwork\": 89, \"Total\": \"D\"}, {\"Student_id\": 38608, \"Quiz 1\": 70, \"Quiz 2\": 50, \"Midterm 1\": 52, \"Quiz 3\": 50, \"Quiz 4\": 80, \"Midterm 2\": 68, \"Quiz 5\": 70, \"Final exam\": 44, \"Webwork\": 65, \"Total\": \"F\"}, {\"Student_id\": 20490, \"Quiz 1\": 80, \"Quiz 2\": 70, \"Midterm 1\": 80, \"Quiz 3\": 90, \"Quiz 4\": 100, \"Midterm 2\": 86, \"Quiz 5\": 70, \"Final exam\": 85, \"Webwork\": 96, \"Total\": \"B\"}, {\"Student_id\": 64882, \"Quiz 1\": 70, \"Quiz 2\": 70, \"Midterm 1\": 88, \"Quiz 3\": 100, \"Quiz 4\": 80, \"Midterm 2\": 90, \"Quiz 5\": 80, \"Final exam\": 58, \"Webwork\": 95, \"Total\": \"C\"}, {\"Student_id\": 81220, \"Quiz 1\": 100, \"Quiz 2\": 100, \"Midterm 1\": 98, \"Quiz 3\": 90, \"Quiz 4\": 100, \"Midterm 2\": 96, \"Quiz 5\": 90, \"Final exam\": 73, \"Webwork\": 100, \"Total\": \"B\"}, {\"Student_id\": 81308, \"Quiz 1\": 80, \"Quiz 2\": 50, \"Midterm 1\": 52, \"Quiz 3\": 80, \"Quiz 4\": 70, \"Midterm 2\": 78, \"Quiz 5\": 0, \"Final exam\": 40, \"Webwork\": 74, \"Total\": \"F\"}, {\"Student_id\": 79774, \"Quiz 1\": 50, \"Quiz 2\": 30, \"Midterm 1\": 72, \"Quiz 3\": 100, \"Quiz 4\": 90, \"Midterm 2\": 80, \"Quiz 5\": 100, \"Final exam\": 78, \"Webwork\": 100, \"Total\": \"B\"}, {\"Student_id\": 67440, \"Quiz 1\": 100, \"Quiz 2\": 100, \"Midterm 1\": 94, \"Quiz 3\": 100, \"Quiz 4\": 100, \"Midterm 2\": 94, \"Quiz 5\": 90, \"Final exam\": 78, \"Webwork\": 95, \"Total\": \"B\"}, {\"Student_id\": 10292, \"Quiz 1\": 80, \"Quiz 2\": 100, \"Midterm 1\": 100, \"Quiz 3\": 100, \"Quiz 4\": 100, \"Midterm 2\": 88, \"Quiz 5\": 100, \"Final exam\": 79, \"Webwork\": 100, \"Total\": \"B\"}, {\"Student_id\": 93904, \"Quiz 1\": 100, \"Quiz 2\": 30, \"Midterm 1\": 46, \"Quiz 3\": 0, \"Quiz 4\": 60, \"Midterm 2\": 82, \"Quiz 5\": 0, \"Final exam\": 33, \"Webwork\": 27, \"Total\": \"F\"}, {\"Student_id\": 65699, \"Quiz 1\": 100, \"Quiz 2\": 80, \"Midterm 1\": 82, \"Quiz 3\": 100, \"Quiz 4\": 100, \"Midterm 2\": 94, \"Quiz 5\": 70, \"Final exam\": 81, \"Webwork\": 100, \"Total\": \"B\"}, {\"Student_id\": 22918, \"Quiz 1\": 100, \"Quiz 2\": 80, \"Midterm 1\": 86, \"Quiz 3\": 80, \"Quiz 4\": 100, \"Midterm 2\": 90, \"Quiz 5\": 100, \"Final exam\": 90, \"Webwork\": 100, \"Total\": \"B\"}, {\"Student_id\": 96288, \"Quiz 1\": 100, \"Quiz 2\": 50, \"Midterm 1\": 90, \"Quiz 3\": 100, \"Quiz 4\": 100, \"Midterm 2\": 94, \"Quiz 5\": 100, \"Final exam\": 78, \"Webwork\": 100, \"Total\": \"B\"}, {\"Student_id\": 22117, \"Quiz 1\": 70, \"Quiz 2\": 80, \"Midterm 1\": 78, \"Quiz 3\": 90, \"Quiz 4\": 100, \"Midterm 2\": 92, \"Quiz 5\": 100, \"Final exam\": 79, \"Webwork\": 99, \"Total\": \"B\"}, {\"Student_id\": 39278, \"Quiz 1\": 80, \"Quiz 2\": 0, \"Midterm 1\": 66, \"Quiz 3\": 80, \"Quiz 4\": 80, \"Midterm 2\": 90, \"Quiz 5\": 80, \"Final exam\": 57, \"Webwork\": 79, \"Total\": \"C\"}, {\"Student_id\": 89027, \"Quiz 1\": 70, \"Quiz 2\": 0, \"Midterm 1\": 56, \"Quiz 3\": 100, \"Quiz 4\": 90, \"Midterm 2\": 62, \"Quiz 5\": 70, \"Final exam\": 33, \"Webwork\": 78, \"Total\": \"F\"}, {\"Student_id\": 50329, \"Quiz 1\": 100, \"Quiz 2\": 40, \"Midterm 1\": 86, \"Quiz 3\": 100, \"Quiz 4\": 100, \"Midterm 2\": 74, \"Quiz 5\": 70, \"Final exam\": 61, \"Webwork\": 94, \"Total\": \"C\"}, {\"Student_id\": 39181, \"Quiz 1\": 100, \"Quiz 2\": 50, \"Midterm 1\": 30, \"Quiz 3\": 80, \"Quiz 4\": 90, \"Midterm 2\": 80, \"Quiz 5\": 70, \"Final exam\": 51, \"Webwork\": 87, \"Total\": \"D\"}, {\"Student_id\": 55180, \"Quiz 1\": 50, \"Quiz 2\": 40, \"Midterm 1\": 68, \"Quiz 3\": 100, \"Quiz 4\": 90, \"Midterm 2\": 78, \"Quiz 5\": 100, \"Final exam\": 72, \"Webwork\": 90, \"Total\": \"C\"}, {\"Student_id\": 57010, \"Quiz 1\": 100, \"Quiz 2\": 50, \"Midterm 1\": 60, \"Quiz 3\": 100, \"Quiz 4\": 100, \"Midterm 2\": 90, \"Quiz 5\": 90, \"Final exam\": 56, \"Webwork\": 78, \"Total\": \"C\"}, {\"Student_id\": 90712, \"Quiz 1\": 80, \"Quiz 2\": 50, \"Midterm 1\": 74, \"Quiz 3\": 100, \"Quiz 4\": 100, \"Midterm 2\": 92, \"Quiz 5\": 80, \"Final exam\": 76, \"Webwork\": 100, \"Total\": \"B\"}, {\"Student_id\": 93438, \"Quiz 1\": 80, \"Quiz 2\": 100, \"Midterm 1\": 98, \"Quiz 3\": 90, \"Quiz 4\": 90, \"Midterm 2\": 94, \"Quiz 5\": 90, \"Final exam\": 81, \"Webwork\": 100, \"Total\": \"A\"}, {\"Student_id\": 23676, \"Quiz 1\": 80, \"Quiz 2\": 50, \"Midterm 1\": 68, \"Quiz 3\": 90, \"Quiz 4\": 100, \"Midterm 2\": 88, \"Quiz 5\": 100, \"Final exam\": 83, \"Webwork\": 100, \"Total\": \"B\"}, {\"Student_id\": 57595, \"Quiz 1\": 50, \"Quiz 2\": 50, \"Midterm 1\": 58, \"Quiz 3\": 100, \"Quiz 4\": 0, \"Midterm 2\": 80, \"Quiz 5\": 90, \"Final exam\": 50, \"Webwork\": 91, \"Total\": \"D\"}, {\"Student_id\": 59261, \"Quiz 1\": 100, \"Quiz 2\": 70, \"Midterm 1\": 92, \"Quiz 3\": 80, \"Quiz 4\": 100, \"Midterm 2\": 76, \"Quiz 5\": 90, \"Final exam\": 86, \"Webwork\": 97, \"Total\": \"B\"}, {\"Student_id\": 15916, \"Quiz 1\": 100, \"Quiz 2\": 100, \"Midterm 1\": 92, \"Quiz 3\": 100, \"Quiz 4\": 100, \"Midterm 2\": 96, \"Quiz 5\": 100, \"Final exam\": 93, \"Webwork\": 100, \"Total\": \"A\"}, {\"Student_id\": 14608, \"Quiz 1\": 70, \"Quiz 2\": 60, \"Midterm 1\": 72, \"Quiz 3\": 100, \"Quiz 4\": 80, \"Midterm 2\": 86, \"Quiz 5\": 100, \"Final exam\": 62, \"Webwork\": 66, \"Total\": \"C\"}, {\"Student_id\": 59686, \"Quiz 1\": 100, \"Quiz 2\": 100, \"Midterm 1\": 82, \"Quiz 3\": 100, \"Quiz 4\": 100, \"Midterm 2\": 94, \"Quiz 5\": 100, \"Final exam\": 91, \"Webwork\": 98, \"Total\": \"A\"}, {\"Student_id\": 73727, \"Quiz 1\": 100, \"Quiz 2\": 80, \"Midterm 1\": 86, \"Quiz 3\": 70, \"Quiz 4\": 100, \"Midterm 2\": 88, \"Quiz 5\": 50, \"Final exam\": 69, \"Webwork\": 92, \"Total\": \"B\"}, {\"Student_id\": 28390, \"Quiz 1\": 100, \"Quiz 2\": 70, \"Midterm 1\": 70, \"Quiz 3\": 70, \"Quiz 4\": 90, \"Midterm 2\": 70, \"Quiz 5\": 70, \"Final exam\": 68, \"Webwork\": 59, \"Total\": \"D\"}, {\"Student_id\": 96662, \"Quiz 1\": 90, \"Quiz 2\": 100, \"Midterm 1\": 90, \"Quiz 3\": 90, \"Quiz 4\": 100, \"Midterm 2\": 100, \"Quiz 5\": 100, \"Final exam\": 98, \"Webwork\": 100, \"Total\": \"A\"}, {\"Student_id\": 94225, \"Quiz 1\": 90, \"Quiz 2\": 100, \"Midterm 1\": 92, \"Quiz 3\": 100, \"Quiz 4\": 90, \"Midterm 2\": 94, \"Quiz 5\": 100, \"Final exam\": 64, \"Webwork\": 84, \"Total\": \"B\"}, {\"Student_id\": 47028, \"Quiz 1\": 70, \"Quiz 2\": 80, \"Midterm 1\": 76, \"Quiz 3\": 30, \"Quiz 4\": 60, \"Midterm 2\": 78, \"Quiz 5\": 90, \"Final exam\": 47, \"Webwork\": 74, \"Total\": \"D\"}, {\"Student_id\": 16684, \"Quiz 1\": 100, \"Quiz 2\": 30, \"Midterm 1\": 46, \"Quiz 3\": 90, \"Quiz 4\": 70, \"Midterm 2\": 82, \"Quiz 5\": 70, \"Final exam\": 51, \"Webwork\": 100, \"Total\": \"D\"}, {\"Student_id\": 23671, \"Quiz 1\": 100, \"Quiz 2\": 100, \"Midterm 1\": 94, \"Quiz 3\": 100, \"Quiz 4\": 100, \"Midterm 2\": 96, \"Quiz 5\": 90, \"Final exam\": 94, \"Webwork\": 100, \"Total\": \"A\"}, {\"Student_id\": 51616, \"Quiz 1\": 70, \"Quiz 2\": 30, \"Midterm 1\": 58, \"Quiz 3\": 80, \"Quiz 4\": 80, \"Midterm 2\": 86, \"Quiz 5\": 20, \"Final exam\": 56, \"Webwork\": 92, \"Total\": \"D\"}, {\"Student_id\": 64407, \"Quiz 1\": 100, \"Quiz 2\": 100, \"Midterm 1\": 70, \"Quiz 3\": 100, \"Quiz 4\": 100, \"Midterm 2\": 64, \"Quiz 5\": 100, \"Final exam\": 51, \"Webwork\": 88, \"Total\": \"D\"}, {\"Student_id\": 21650, \"Quiz 1\": 100, \"Quiz 2\": 80, \"Midterm 1\": 82, \"Quiz 3\": 90, \"Quiz 4\": 100, \"Midterm 2\": 74, \"Quiz 5\": 0, \"Final exam\": 68, \"Webwork\": 92, \"Total\": \"C\"}, {\"Student_id\": 31983, \"Quiz 1\": 50, \"Quiz 2\": 40, \"Midterm 1\": 64, \"Quiz 3\": 80, \"Quiz 4\": 80, \"Midterm 2\": 84, \"Quiz 5\": 70, \"Final exam\": 53, \"Webwork\": 91, \"Total\": \"D\"}, {\"Student_id\": 81968, \"Quiz 1\": 100, \"Quiz 2\": 80, \"Midterm 1\": 46, \"Quiz 3\": 80, \"Quiz 4\": 80, \"Midterm 2\": 58, \"Quiz 5\": 20, \"Final exam\": 53, \"Webwork\": 95, \"Total\": \"D\"}, {\"Student_id\": 87583, \"Quiz 1\": 100, \"Quiz 2\": 40, \"Midterm 1\": 82, \"Quiz 3\": 90, \"Quiz 4\": 100, \"Midterm 2\": 76, \"Quiz 5\": 100, \"Final exam\": 78, \"Webwork\": 82, \"Total\": \"B\"}, {\"Student_id\": 98912, \"Quiz 1\": 100, \"Quiz 2\": 70, \"Midterm 1\": 66, \"Quiz 3\": 80, \"Quiz 4\": 100, \"Midterm 2\": 90, \"Quiz 5\": 70, \"Final exam\": 57, \"Webwork\": 94, \"Total\": \"C\"}, {\"Student_id\": 94472, \"Quiz 1\": 50, \"Quiz 2\": 60, \"Midterm 1\": 70, \"Quiz 3\": 80, \"Quiz 4\": 70, \"Midterm 2\": 86, \"Quiz 5\": 90, \"Final exam\": 75, \"Webwork\": 96, \"Total\": \"C\"}]}}, {\"mode\": \"vega-lite\"});\n",
       "</script>"
      ],
      "text/plain": [
       "alt.Chart(...)"
      ]
     },
     "execution_count": 10,
     "metadata": {},
     "output_type": "execute_result"
    }
   ],
   "source": [
    "alt.Chart(df).mark_circle().encode(x = \"Midterm 2\", y = \"Final exam\", color=\"Quiz 4:N\", tooltip=\"Student_id\", column=\"Total\")\n"
   ]
  },
  {
   "cell_type": "markdown",
   "metadata": {},
   "source": [
    "We can tell where the student is using 3 factors. \n",
    "1) The student should be in the \"F\" category as that was one of the filters we used when making `df_sub`. \n",
    "2) The student should have a midterm 2 score > 72 as that was the other filter for making `df_sub`. \n",
    "3) The `color` paramter shows us the students who got a 50 on quiz 4 in green, which allows us to find the studnt."
   ]
  },
  {
   "cell_type": "markdown",
   "metadata": {
    "cell_id": "f57959ba3446481187a23837f7953aa4",
    "deepnote_cell_type": "markdown",
    "tags": []
   },
   "source": [
    "## Submission\n",
    "\n",
    "* Reminder: everyone needs to make a submission on Canvas.\n",
    "* Reminder: include everyone's full name at the top, after **Names**.\n",
    "* Using the `Share` button at the top right, enable public sharing, and enable Comment privileges. Then submit the created link on Canvas."
   ]
  }
 ],
 "metadata": {
  "deepnote": {
   "is_reactive": false
  },
  "deepnote_execution_queue": [],
  "deepnote_notebook_id": "7dc3b2b82078438f98fea34b1459a1c8",
  "deepnote_persisted_session": {
   "createdAt": "2023-04-18T13:00:27.112Z"
  },
  "kernelspec": {
   "display_name": "Python 3",
   "language": "python",
   "name": "python3"
  },
  "language_info": {
   "codemirror_mode": {
    "name": "ipython",
    "version": 3
   },
   "file_extension": ".py",
   "mimetype": "text/x-python",
   "name": "python",
   "nbconvert_exporter": "python",
   "pygments_lexer": "ipython3",
   "version": "3.11.9"
  }
 },
 "nbformat": 4,
 "nbformat_minor": 4
}
