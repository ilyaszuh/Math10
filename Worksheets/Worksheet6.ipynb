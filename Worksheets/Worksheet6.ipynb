{
 "cells": [
  {
   "cell_type": "markdown",
   "metadata": {
    "cell_id": "a5055dc4add848d68945d8bd9f0fb021",
    "deepnote_cell_type": "markdown",
    "tags": []
   },
   "source": [
    "# Worksheet 6\n",
    "\n",
    "This worksheet is due Monday of next week.  You are encouraged to work in groups of up to 3 total students, but each student should make their own submission on Canvas.  (It's fine for everyone in the group to have the same submission.)"
   ]
  },
  {
   "cell_type": "markdown",
   "metadata": {
    "cell_id": "2798258cab344a5fa924b134f5475ec7",
    "deepnote_cell_type": "markdown"
   },
   "source": [
    "Put the **full names** of everyone in your group (even if you're working alone) here.  (This makes grading easier.)\n",
    "\n",
    "* **Names**: "
   ]
  },
  {
   "cell_type": "markdown",
   "metadata": {
    "cell_id": "409227f2da8048b58cd95bc28cc3854e",
    "deepnote_cell_type": "markdown",
    "tags": []
   },
   "source": [
    "* Import the attached \"Math2B_grades_clean.csv\" file, and name the DataFrame `df`."
   ]
  },
  {
   "cell_type": "markdown",
   "metadata": {
    "cell_id": "5ffd9d8a31af4c68b80eb162ffb862ab",
    "deepnote_cell_type": "markdown"
   },
   "source": [
    "* Using Boolean indexing, find the sub-DataFrame where the course grade (\"Total\") is \"F\" and where the Midterm 2 score is strictly greater than 72.  Name this sub-DataFrame `df_sub`."
   ]
  },
  {
   "cell_type": "markdown",
   "metadata": {
    "cell_id": "73eca2dbf3814d78938103a9fc8e6133",
    "deepnote_cell_type": "markdown",
    "tags": []
   },
   "source": [
    "* Using Altair, make a scatter plot using the data from `df_sub` for which the x-coordinate is \"Midterm 2\" and the y-coordinate is \"Final exam\"."
   ]
  },
  {
   "cell_type": "markdown",
   "metadata": {
    "cell_id": "fb9640c5685a451fa53e3a7ec9c6c488",
    "deepnote_cell_type": "markdown"
   },
   "source": [
    "* Based on the chart, how many rows do you expect are in `df_sub`?  Explain your answer in a markdown cell, and check your answer using pandas.\n",
    "\n",
    "(This approach isn't guaranteed to be correct, because hypothetically two points might be on top of each other, or a row could contain missing data.)"
   ]
  },
  {
   "cell_type": "markdown",
   "metadata": {
    "cell_id": "98259d4e843647a98f4bdab41a31f14f",
    "deepnote_cell_type": "markdown"
   },
   "source": [
    "Add one or more additional visual channels (don't use `tooltip` here) to the chart (but not changing the `x` or `y` definitions) so that you can tell which of these students had the lowest score on Quiz 4.\n",
    "\n",
    "Some options:\n",
    "* `color` (you might want to use the encoding data type `:O` or `:N` to make the colors more distinct [Reference](https://altair-viz.github.io/user_guide/encoding.html#encoding-data-types)).\n",
    "* `size`\n",
    "* If you change to `mark_point`, you can use the `shape` visual channel.  I don't think `shape` works with quantitative data, so you need to use an encoding data type like `:N` in this case.  I personally prefer using `mark_point(filled=True)` over `mark_point()`."
   ]
  },
  {
   "cell_type": "markdown",
   "metadata": {
    "cell_id": "b8f5b4f683c84465806927da6217f93c",
    "deepnote_cell_type": "markdown"
   },
   "source": [
    "* Explain in a markdown cell how you can tell from the chart which point has the lowest score on Quiz 4."
   ]
  },
  {
   "cell_type": "markdown",
   "metadata": {
    "cell_id": "30bf0f7aa5d347aa8add70c09137694d",
    "deepnote_cell_type": "markdown"
   },
   "source": [
    "* Add a tooltip with \"Student_id\" so that you can find the student id of the corresponding student.\n",
    "\n",
    "Your code for this question will also be used at the end of this worksheet."
   ]
  },
  {
   "cell_type": "markdown",
   "metadata": {
    "cell_id": "e7ec84df46a74b60b9c4a74bccc78c1d",
    "deepnote_cell_type": "markdown",
    "tags": []
   },
   "source": [
    "* Here is a way to find that same student id using pandas.  Can you figure out how the following code works by breaking it up into pieces?  (There might be a question based on this code on the next quiz or on the midterm.) \n",
    "```\n",
    "df_sub.set_index(\"Student_id\")[\"Quiz 4\"].idxmin()\n",
    "```"
   ]
  },
  {
   "cell_type": "markdown",
   "metadata": {
    "cell_id": "8a4c4162a1cc4d3db8661f70b9d5f892",
    "deepnote_cell_type": "markdown",
    "tags": []
   },
   "source": [
    "* Why does the following code give a different answer?  (Hint.  Display `df_sub`.)\n",
    "```\n",
    "df_sub[\"Quiz 4\"].idxmin()\n",
    "```"
   ]
  },
  {
   "cell_type": "markdown",
   "metadata": {
    "cell_id": "3a3de694583c40cd96ad167a40ce81f6",
    "deepnote_cell_type": "markdown",
    "tags": []
   },
   "source": [
    "* What changes if we use `argmin` instead of `idxmin`?  What is the difference between these two methods?  How does this correspond to what you see in `df_sub`?  Answer in a markdown cell."
   ]
  },
  {
   "cell_type": "markdown",
   "metadata": {
    "cell_id": "95281e737bb7468797e32f87fc0b6b74",
    "deepnote_cell_type": "markdown"
   },
   "source": [
    "* If you were to encode the \"Student_id\" value in one of these channels, why would `\"Student_id:N\"` make much more sense than `\"Student_id:Q\"` or `\"Student_id:O\"`?  Explain in a markdown cell."
   ]
  },
  {
   "cell_type": "markdown",
   "metadata": {
    "cell_id": "6d33905d9f164e058a526394406d0f13",
    "deepnote_cell_type": "markdown"
   },
   "source": [
    "Take your same Altair chart code above (the one where you found the student id using the `tooltip`) and make the following changes to it.\n",
    "* Change from `df_sub` to the full DataFrame `df`.\n",
    "* Add `column=\"Total\"` to the encoding."
   ]
  },
  {
   "cell_type": "markdown",
   "metadata": {
    "cell_id": "d9cd4344d2c7446087cd148470f9c135",
    "deepnote_cell_type": "markdown"
   },
   "source": [
    "* For the student whose student id you found above, where is the corresponding point located in this facet chart?  Explain in a markdown cell where is this point and how you can tell.  (You should be able to check that you are correct using the tooltip.)"
   ]
  },
  {
   "cell_type": "markdown",
   "metadata": {
    "cell_id": "f57959ba3446481187a23837f7953aa4",
    "deepnote_cell_type": "markdown",
    "tags": []
   },
   "source": [
    "## Submission\n",
    "\n",
    "* Reminder: everyone needs to make a submission on Canvas.\n",
    "* Reminder: include everyone's full name at the top, after **Names**.\n",
    "* Using the `Share` button at the top right, enable public sharing, and enable Comment privileges. Then submit the created link on Canvas."
   ]
  }
 ],
 "metadata": {
  "deepnote": {
   "is_reactive": false
  },
  "deepnote_execution_queue": [],
  "deepnote_notebook_id": "7dc3b2b82078438f98fea34b1459a1c8",
  "deepnote_persisted_session": {
   "createdAt": "2023-04-18T13:00:27.112Z"
  },
  "kernelspec": {
   "display_name": "Python 3 (ipykernel)",
   "language": "python",
   "name": "python3"
  },
  "language_info": {
   "codemirror_mode": {
    "name": "ipython",
    "version": 3
   },
   "file_extension": ".py",
   "mimetype": "text/x-python",
   "name": "python",
   "nbconvert_exporter": "python",
   "pygments_lexer": "ipython3",
   "version": "3.9.16"
  }
 },
 "nbformat": 4,
 "nbformat_minor": 4
}
