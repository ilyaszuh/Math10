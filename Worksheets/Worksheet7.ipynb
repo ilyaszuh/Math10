{
 "cells": [
  {
   "cell_type": "markdown",
   "metadata": {},
   "source": [
    "# Use df.map() instead of df.applymap()"
   ]
  },
  {
   "cell_type": "markdown",
   "metadata": {
    "cell_id": "b7c4995ed49b422b93de09f071211751",
    "deepnote_cell_type": "markdown",
    "tags": []
   },
   "source": [
    "# Worksheet 7\n",
    "\n",
    "You are encouraged to work in groups of up to 3 total students, but each student should make their own submission on Canvas.  (It's fine for everyone in the group to have the same upload.)"
   ]
  },
  {
   "cell_type": "code",
   "execution_count": 19,
   "metadata": {},
   "outputs": [],
   "source": [
    "import pandas as pd\n",
    "import altair as alt\n",
    "import numpy as np"
   ]
  },
  {
   "cell_type": "markdown",
   "metadata": {
    "cell_id": "f6455effb06a43d4931f42a1997e24ca",
    "deepnote_cell_type": "markdown",
    "tags": []
   },
   "source": [
    "## Preparing the data\n",
    "\n",
    "* Import the attached Spotify dataset as `df` using the pandas function `read_csv`."
   ]
  },
  {
   "cell_type": "code",
   "execution_count": 13,
   "metadata": {},
   "outputs": [
    {
     "data": {
      "text/html": [
       "<div>\n",
       "<style scoped>\n",
       "    .dataframe tbody tr th:only-of-type {\n",
       "        vertical-align: middle;\n",
       "    }\n",
       "\n",
       "    .dataframe tbody tr th {\n",
       "        vertical-align: top;\n",
       "    }\n",
       "\n",
       "    .dataframe thead th {\n",
       "        text-align: right;\n",
       "    }\n",
       "</style>\n",
       "<table border=\"1\" class=\"dataframe\">\n",
       "  <thead>\n",
       "    <tr style=\"text-align: right;\">\n",
       "      <th></th>\n",
       "      <th>Index</th>\n",
       "      <th>Highest Charting Position</th>\n",
       "      <th>Number of Times Charted</th>\n",
       "      <th>Week of Highest Charting</th>\n",
       "      <th>Song Name</th>\n",
       "      <th>Streams</th>\n",
       "      <th>Artist</th>\n",
       "      <th>Artist Followers</th>\n",
       "      <th>Song ID</th>\n",
       "      <th>Genre</th>\n",
       "      <th>...</th>\n",
       "      <th>Danceability</th>\n",
       "      <th>Energy</th>\n",
       "      <th>Loudness</th>\n",
       "      <th>Speechiness</th>\n",
       "      <th>Acousticness</th>\n",
       "      <th>Liveness</th>\n",
       "      <th>Tempo</th>\n",
       "      <th>Duration (ms)</th>\n",
       "      <th>Valence</th>\n",
       "      <th>Chord</th>\n",
       "    </tr>\n",
       "  </thead>\n",
       "  <tbody>\n",
       "    <tr>\n",
       "      <th>0</th>\n",
       "      <td>1</td>\n",
       "      <td>1</td>\n",
       "      <td>8</td>\n",
       "      <td>2021-07-23--2021-07-30</td>\n",
       "      <td>Beggin'</td>\n",
       "      <td>48,633,449</td>\n",
       "      <td>Måneskin</td>\n",
       "      <td>3377762</td>\n",
       "      <td>3Wrjm47oTz2sjIgck11l5e</td>\n",
       "      <td>['indie rock italiano', 'italian pop']</td>\n",
       "      <td>...</td>\n",
       "      <td>0.714</td>\n",
       "      <td>0.8</td>\n",
       "      <td>-4.808</td>\n",
       "      <td>0.0504</td>\n",
       "      <td>0.127</td>\n",
       "      <td>0.359</td>\n",
       "      <td>134.002</td>\n",
       "      <td>211560</td>\n",
       "      <td>0.589</td>\n",
       "      <td>B</td>\n",
       "    </tr>\n",
       "    <tr>\n",
       "      <th>1</th>\n",
       "      <td>2</td>\n",
       "      <td>2</td>\n",
       "      <td>3</td>\n",
       "      <td>2021-07-23--2021-07-30</td>\n",
       "      <td>STAY (with Justin Bieber)</td>\n",
       "      <td>47,248,719</td>\n",
       "      <td>The Kid LAROI</td>\n",
       "      <td>2230022</td>\n",
       "      <td>5HCyWlXZPP0y6Gqq8TgA20</td>\n",
       "      <td>['australian hip hop']</td>\n",
       "      <td>...</td>\n",
       "      <td>0.591</td>\n",
       "      <td>0.764</td>\n",
       "      <td>-5.484</td>\n",
       "      <td>0.0483</td>\n",
       "      <td>0.0383</td>\n",
       "      <td>0.103</td>\n",
       "      <td>169.928</td>\n",
       "      <td>141806</td>\n",
       "      <td>0.478</td>\n",
       "      <td>C#/Db</td>\n",
       "    </tr>\n",
       "    <tr>\n",
       "      <th>2</th>\n",
       "      <td>3</td>\n",
       "      <td>1</td>\n",
       "      <td>11</td>\n",
       "      <td>2021-06-25--2021-07-02</td>\n",
       "      <td>good 4 u</td>\n",
       "      <td>40,162,559</td>\n",
       "      <td>Olivia Rodrigo</td>\n",
       "      <td>6266514</td>\n",
       "      <td>4ZtFanR9U6ndgddUvNcjcG</td>\n",
       "      <td>['pop']</td>\n",
       "      <td>...</td>\n",
       "      <td>0.563</td>\n",
       "      <td>0.664</td>\n",
       "      <td>-5.044</td>\n",
       "      <td>0.154</td>\n",
       "      <td>0.335</td>\n",
       "      <td>0.0849</td>\n",
       "      <td>166.928</td>\n",
       "      <td>178147</td>\n",
       "      <td>0.688</td>\n",
       "      <td>A</td>\n",
       "    </tr>\n",
       "    <tr>\n",
       "      <th>3</th>\n",
       "      <td>4</td>\n",
       "      <td>3</td>\n",
       "      <td>5</td>\n",
       "      <td>2021-07-02--2021-07-09</td>\n",
       "      <td>Bad Habits</td>\n",
       "      <td>37,799,456</td>\n",
       "      <td>Ed Sheeran</td>\n",
       "      <td>83293380</td>\n",
       "      <td>6PQ88X9TkUIAUIZJHW2upE</td>\n",
       "      <td>['pop', 'uk pop']</td>\n",
       "      <td>...</td>\n",
       "      <td>0.808</td>\n",
       "      <td>0.897</td>\n",
       "      <td>-3.712</td>\n",
       "      <td>0.0348</td>\n",
       "      <td>0.0469</td>\n",
       "      <td>0.364</td>\n",
       "      <td>126.026</td>\n",
       "      <td>231041</td>\n",
       "      <td>0.591</td>\n",
       "      <td>B</td>\n",
       "    </tr>\n",
       "    <tr>\n",
       "      <th>4</th>\n",
       "      <td>5</td>\n",
       "      <td>5</td>\n",
       "      <td>1</td>\n",
       "      <td>2021-07-23--2021-07-30</td>\n",
       "      <td>INDUSTRY BABY (feat. Jack Harlow)</td>\n",
       "      <td>33,948,454</td>\n",
       "      <td>Lil Nas X</td>\n",
       "      <td>5473565</td>\n",
       "      <td>27NovPIUIRrOZoCHxABJwK</td>\n",
       "      <td>['lgbtq+ hip hop', 'pop rap']</td>\n",
       "      <td>...</td>\n",
       "      <td>0.736</td>\n",
       "      <td>0.704</td>\n",
       "      <td>-7.409</td>\n",
       "      <td>0.0615</td>\n",
       "      <td>0.0203</td>\n",
       "      <td>0.0501</td>\n",
       "      <td>149.995</td>\n",
       "      <td>212000</td>\n",
       "      <td>0.894</td>\n",
       "      <td>D#/Eb</td>\n",
       "    </tr>\n",
       "  </tbody>\n",
       "</table>\n",
       "<p>5 rows × 23 columns</p>\n",
       "</div>"
      ],
      "text/plain": [
       "   Index  Highest Charting Position  Number of Times Charted  \\\n",
       "0      1                          1                        8   \n",
       "1      2                          2                        3   \n",
       "2      3                          1                       11   \n",
       "3      4                          3                        5   \n",
       "4      5                          5                        1   \n",
       "\n",
       "  Week of Highest Charting                          Song Name     Streams  \\\n",
       "0   2021-07-23--2021-07-30                            Beggin'  48,633,449   \n",
       "1   2021-07-23--2021-07-30          STAY (with Justin Bieber)  47,248,719   \n",
       "2   2021-06-25--2021-07-02                           good 4 u  40,162,559   \n",
       "3   2021-07-02--2021-07-09                         Bad Habits  37,799,456   \n",
       "4   2021-07-23--2021-07-30  INDUSTRY BABY (feat. Jack Harlow)  33,948,454   \n",
       "\n",
       "           Artist Artist Followers                 Song ID  \\\n",
       "0        Måneskin          3377762  3Wrjm47oTz2sjIgck11l5e   \n",
       "1   The Kid LAROI          2230022  5HCyWlXZPP0y6Gqq8TgA20   \n",
       "2  Olivia Rodrigo          6266514  4ZtFanR9U6ndgddUvNcjcG   \n",
       "3      Ed Sheeran         83293380  6PQ88X9TkUIAUIZJHW2upE   \n",
       "4       Lil Nas X          5473565  27NovPIUIRrOZoCHxABJwK   \n",
       "\n",
       "                                    Genre  ... Danceability Energy Loudness  \\\n",
       "0  ['indie rock italiano', 'italian pop']  ...        0.714    0.8   -4.808   \n",
       "1                  ['australian hip hop']  ...        0.591  0.764   -5.484   \n",
       "2                                 ['pop']  ...        0.563  0.664   -5.044   \n",
       "3                       ['pop', 'uk pop']  ...        0.808  0.897   -3.712   \n",
       "4           ['lgbtq+ hip hop', 'pop rap']  ...        0.736  0.704   -7.409   \n",
       "\n",
       "  Speechiness Acousticness Liveness    Tempo Duration (ms) Valence  Chord  \n",
       "0      0.0504        0.127    0.359  134.002        211560   0.589      B  \n",
       "1      0.0483       0.0383    0.103  169.928        141806   0.478  C#/Db  \n",
       "2       0.154        0.335   0.0849  166.928        178147   0.688      A  \n",
       "3      0.0348       0.0469    0.364  126.026        231041   0.591      B  \n",
       "4      0.0615       0.0203   0.0501  149.995        212000   0.894  D#/Eb  \n",
       "\n",
       "[5 rows x 23 columns]"
      ]
     },
     "execution_count": 13,
     "metadata": {},
     "output_type": "execute_result"
    }
   ],
   "source": [
    "df = pd.read_csv(\"../Data/spotify_dataset.csv\")\n",
    "df.head()"
   ]
  },
  {
   "cell_type": "markdown",
   "metadata": {
    "cell_id": "add90dd8b5bf481388304c69c641a156",
    "deepnote_cell_type": "markdown"
   },
   "source": [
    "* Look at the first few rows in the DataFrame.  Which columns look like they *should* be numeric?"
   ]
  },
  {
   "cell_type": "markdown",
   "metadata": {},
   "source": [
    "The columns that look like they should be numeric are Highest Charting Position, Number of Times Charted, Streams, Artist Followers, Popularity, and the remainder Danceability though Valence."
   ]
  },
  {
   "cell_type": "markdown",
   "metadata": {
    "cell_id": "5cc9a36e3f754ec884f234b58146d634",
    "deepnote_cell_type": "markdown"
   },
   "source": [
    "* Evaluate `df.dtypes`, and notice that only a few of these columns are actually numeric."
   ]
  },
  {
   "cell_type": "code",
   "execution_count": 15,
   "metadata": {},
   "outputs": [
    {
     "data": {
      "text/plain": [
       "Index                         int64\n",
       "Highest Charting Position     int64\n",
       "Number of Times Charted       int64\n",
       "Week of Highest Charting     object\n",
       "Song Name                    object\n",
       "Streams                      object\n",
       "Artist                       object\n",
       "Artist Followers             object\n",
       "Song ID                      object\n",
       "Genre                        object\n",
       "Release Date                 object\n",
       "Weeks Charted                object\n",
       "Popularity                   object\n",
       "Danceability                 object\n",
       "Energy                       object\n",
       "Loudness                     object\n",
       "Speechiness                  object\n",
       "Acousticness                 object\n",
       "Liveness                     object\n",
       "Tempo                        object\n",
       "Duration (ms)                object\n",
       "Valence                      object\n",
       "Chord                        object\n",
       "dtype: object"
      ]
     },
     "execution_count": 15,
     "metadata": {},
     "output_type": "execute_result"
    }
   ],
   "source": [
    "df.dtypes"
   ]
  },
  {
   "cell_type": "markdown",
   "metadata": {
    "cell_id": "3183a251a87f4a7aa984b860c14ec2bb",
    "deepnote_cell_type": "markdown"
   },
   "source": [
    "The problem is that missing values are specified in an unusual way in this dataset, and pandas does not recognize them as missing.\n",
    "\n",
    "* Evaluate the function `pd.to_numeric` on the \"Energy\" column in `df`.  Look at the error message.  It is telling you what the problematic values are."
   ]
  },
  {
   "cell_type": "code",
   "execution_count": 21,
   "metadata": {},
   "outputs": [],
   "source": [
    "#pd.to_numeric(df[\"Energy\"])"
   ]
  },
  {
   "cell_type": "markdown",
   "metadata": {
    "cell_id": "b01613f1784a4a4c8cb7ea59f7b74851",
    "deepnote_cell_type": "markdown"
   },
   "source": [
    "(There is a better way to do this, using `df.replace`, but the approach suggested here gives some practice with `applymap`, with lambda functions, and with the Python operator `??? if ??? else ???`.)\n",
    "\n",
    "* Using the following template, replace these problematic values with the Not a Number value defined in NumPy.  If the input `x` is not missing, it should be left unchanged.\n",
    "```\n",
    "df2 = df.applymap(lambda x: ??? if x == ??? else ???)\n",
    "```"
   ]
  },
  {
   "cell_type": "markdown",
   "metadata": {
    "cell_id": "c79cdd5f38304a17b6f7676ac7e6bd85",
    "deepnote_cell_type": "markdown",
    "tags": []
   },
   "source": [
    "* Define `first_col = \"Popularity\"` and `last_col = \"Valence\"`."
   ]
  },
  {
   "cell_type": "code",
   "execution_count": 25,
   "metadata": {},
   "outputs": [],
   "source": [
    "df2 = df.map(lambda x: np.nan if x == \" \" else x)"
   ]
  },
  {
   "cell_type": "code",
   "execution_count": 18,
   "metadata": {},
   "outputs": [],
   "source": [
    "first_col = \"Popularity\"\n",
    "last_col = \"Valence\""
   ]
  },
  {
   "cell_type": "markdown",
   "metadata": {
    "cell_id": "9ede2c475fa24b71b27813c50684190d",
    "deepnote_cell_type": "markdown"
   },
   "source": [
    "* Using `apply` and a suitable `axis` argument, apply the `pd.to_numeric` function to each column from `first_col` to `last_col`.\n",
    "\n",
    "(Comment 0.  Use `df2.loc[???] = df2.loc[???].apply(???, axis=???)` so that the values in `df2` get changed.  Comment 1.  Slicing with `loc` is one of the few examples in Python where the right endpoint *is* included.  Comment 2.  Neither the column labels nor the row labels are getting changed in this case, so my explanation for whether to use `axis=0` or `axis=1` does not quite apply.  But imagine we were applying `sum` instead of `pd.to_numeric`, that would collapse the whole column down to a single number, and so the row labels would be changing.)"
   ]
  },
  {
   "cell_type": "code",
   "execution_count": 38,
   "metadata": {},
   "outputs": [],
   "source": [
    "cols = df2.loc[:, first_col:last_col].columns\n",
    "for col in cols:\n",
    "    df2[col] = pd.to_numeric(df2[col])"
   ]
  },
  {
   "cell_type": "markdown",
   "metadata": {
    "cell_id": "82da5128ea594c0fb607dde54d959650",
    "deepnote_cell_type": "markdown"
   },
   "source": [
    "* Import the `is_numeric_dtype` and `is_string_dtype` functions from `pandas.api.types`.  (You can do these both on the same line, separating the function names with commas.)"
   ]
  },
  {
   "cell_type": "code",
   "execution_count": 32,
   "metadata": {},
   "outputs": [],
   "source": [
    "from pandas.api.types import is_numeric_dtype, is_string_dtype"
   ]
  },
  {
   "cell_type": "markdown",
   "metadata": {
    "cell_id": "b347a99e02594a0b8213e16853ae65d3",
    "deepnote_cell_type": "markdown",
    "tags": []
   },
   "source": [
    "* Using list comprehension and the function `is_numeric_dtype`, make a list of all the column names in `df2` which have a numeric dtype now.  Name this list `num_list`.  (This list `num_list` should be a list of strings, not a list of pandas Series.)"
   ]
  },
  {
   "cell_type": "code",
   "execution_count": 44,
   "metadata": {},
   "outputs": [
    {
     "data": {
      "text/plain": [
       "['Index',\n",
       " 'Highest Charting Position',\n",
       " 'Number of Times Charted',\n",
       " 'Popularity',\n",
       " 'Danceability',\n",
       " 'Energy',\n",
       " 'Loudness',\n",
       " 'Speechiness',\n",
       " 'Acousticness',\n",
       " 'Liveness',\n",
       " 'Tempo',\n",
       " 'Duration (ms)',\n",
       " 'Valence']"
      ]
     },
     "execution_count": 44,
     "metadata": {},
     "output_type": "execute_result"
    }
   ],
   "source": [
    "num_list = [col for col in df2.columns if is_numeric_dtype(df2[col])]\n",
    "num_list"
   ]
  },
  {
   "cell_type": "markdown",
   "metadata": {
    "cell_id": "277f47f9d3934172b343d74075619501",
    "deepnote_cell_type": "markdown"
   },
   "source": [
    "* Check your answer: `num_list` should have length `13` and the `type` of `num_list[3]` should be `str`."
   ]
  },
  {
   "cell_type": "code",
   "execution_count": 46,
   "metadata": {},
   "outputs": [
    {
     "name": "stdout",
     "output_type": "stream",
     "text": [
      "13\n",
      "<class 'str'>\n"
     ]
    }
   ],
   "source": [
    "print(len(num_list))\n",
    "print(type(num_list[3]))"
   ]
  },
  {
   "cell_type": "markdown",
   "metadata": {
    "cell_id": "22749c8febe042c3b4ba48a410c3d4ee",
    "deepnote_cell_type": "markdown",
    "tags": []
   },
   "source": [
    "* Drop the rows which contain missing values, using the code `df3 = df2.dropna(axis=???)`."
   ]
  },
  {
   "cell_type": "code",
   "execution_count": 47,
   "metadata": {},
   "outputs": [],
   "source": [
    "df3 = df2.dropna(axis=0)"
   ]
  },
  {
   "cell_type": "markdown",
   "metadata": {
    "cell_id": "9b060943f6c0453ea0c9ad1f298d3489",
    "deepnote_cell_type": "markdown",
    "tags": []
   },
   "source": [
    "* Check your answer.  The DataFrame `df3` should have `1545` rows and `23` columns."
   ]
  },
  {
   "cell_type": "code",
   "execution_count": 48,
   "metadata": {},
   "outputs": [
    {
     "data": {
      "text/plain": [
       "(1545, 23)"
      ]
     },
     "execution_count": 48,
     "metadata": {},
     "output_type": "execute_result"
    }
   ],
   "source": [
    "df3.shape"
   ]
  },
  {
   "cell_type": "markdown",
   "metadata": {
    "cell_id": "30028da4db074dcea3d97ccd4c307095",
    "deepnote_cell_type": "markdown"
   },
   "source": [
    "## Plotting the data"
   ]
  },
  {
   "cell_type": "markdown",
   "metadata": {
    "cell_id": "c73263e247bc435bb7aaca258b04f8ae",
    "deepnote_cell_type": "markdown"
   },
   "source": [
    "* Write a function `make_chart` which takes as input the name of a column `c` in `df3`, and as output returns an Altair scatter plot chart using `\"Energy\"` for the x-axis, using column `c` for the y-axis, and using `\"Danceability\"` for color."
   ]
  },
  {
   "cell_type": "code",
   "execution_count": null,
   "metadata": {},
   "outputs": [],
   "source": [
    "def make_chart(c):\n",
    "    return alt.Chart(df3).mark_circle().encode(x = \"Energy\", y = c, color = \"Danceability\")\n"
   ]
  },
  {
   "cell_type": "markdown",
   "metadata": {
    "cell_id": "366a5375a63b46f5b97baee4ab046ec2",
    "deepnote_cell_type": "markdown"
   },
   "source": [
    "* Adjust the color scale to something more colorful in your definition of `make_chart`.  You can either use the old syntax `scale=alt.Scale(scheme=???)` or the new syntax `.scale(scheme=???)`, but if you want to use the new syntax, make sure you pip install the most recent version of Altair before importing Altair (you can always restart the notebook if you need to).  [Options for color scheme](https://vega.github.io/vega/docs/schemes/)"
   ]
  },
  {
   "cell_type": "code",
   "execution_count": 58,
   "metadata": {},
   "outputs": [],
   "source": [
    "def make_chart(c):\n",
    "    return alt.Chart(df3).mark_circle().encode(x = \"Energy\", y = c, color = alt.Scale(scheme=\"blues\"))  "
   ]
  },
  {
   "cell_type": "markdown",
   "metadata": {
    "cell_id": "e42ae4d90985403b8f0a17b80662c93d",
    "deepnote_cell_type": "markdown"
   },
   "source": [
    "* Using list comprehension and the list `num_list` you made above, make a new list `chart_list` which contains `make_chart(c)` for every `c` in `num_list`."
   ]
  },
  {
   "cell_type": "code",
   "execution_count": 60,
   "metadata": {},
   "outputs": [],
   "source": [
    "chart_list = [chart for chart in [make_chart(c) for c in num_list]]"
   ]
  },
  {
   "cell_type": "markdown",
   "metadata": {
    "cell_id": "ea166e0676094652a2c51f784a8a55e1",
    "deepnote_cell_type": "markdown"
   },
   "source": [
    "* Use the following code to make a new Altair chart, which has all of the previous charts vertically concatenated together.\n",
    "\n",
    "(Comment.  This `*` before `chart_list` is performing what is called \"list unpacking\".  Rather than giving `alt.vconcat` a single input value, a list, we are giving it 13 separate input values.  In other words, `alt.vconcat(*chart_list)` is the same as `alt.vconcat(chart_list[0], chart_list[1], ..., chart_list[12])`.)\n",
    "\n",
    "```\n",
    "total_chart = alt.vconcat(*chart_list)\n",
    "```"
   ]
  },
  {
   "cell_type": "markdown",
   "metadata": {
    "cell_id": "70484b4a64ba4725bf0b3bc4bf7a3165",
    "deepnote_cell_type": "markdown"
   },
   "source": [
    "* Display this `vconcat` chart (just evaluate `total_chart` in its own cell) and make sure it looks reasonable.  You should see 13 distinct Altair charts, arranged vertically."
   ]
  },
  {
   "cell_type": "markdown",
   "metadata": {
    "cell_id": "74883a9f1ee644759aab14fce46f1fc9",
    "deepnote_cell_type": "markdown"
   },
   "source": [
    "Sample quiz or midterm questions.  (You don't need to answer these, but they are good practice questions.) \n",
    "* Why does one of the charts show just a diagonal line?\n",
    "* Why do the colors in one of the charts look so much more regular than in the others?\n",
    "* If you wanted to know which song was represented at the very top-left of the \"Speechiness\" chart, how would you find it?\n",
    "* What is a major difference between the chart produced above and a facet chart?"
   ]
  },
  {
   "cell_type": "markdown",
   "metadata": {
    "cell_id": "5cfcb1e5322b464da38c977a6a16bcff",
    "deepnote_cell_type": "markdown"
   },
   "source": [
    "## Submission"
   ]
  },
  {
   "cell_type": "markdown",
   "metadata": {
    "cell_id": "91ab2340231445a0860e7892ebe1612e",
    "deepnote_cell_type": "markdown"
   },
   "source": [
    "* Save the chart as a json file using the following code and upload that json file to Canvas.\n",
    "```\n",
    "with open(\"total_chart_file.json\", \"w\") as f:\n",
    "    f.write(total_chart.to_json())\n",
    "```"
   ]
  },
  {
   "cell_type": "markdown",
   "metadata": {
    "cell_id": "408fb36600e747248c99d52908702346",
    "deepnote_cell_type": "markdown"
   },
   "source": [
    "* If you want to check that the json file is correct, open it locally on your computer (it is too big to open on Deepnote) and copy-paste the contents into the [Vega Editor](https://vega.github.io/editor/#/) then click `Run` at the top."
   ]
  },
  {
   "cell_type": "markdown",
   "metadata": {
    "cell_id": "82942227bd5a4636b0e99df79dd3c9ea",
    "deepnote_cell_type": "markdown",
    "tags": []
   },
   "source": [
    "## Reminder\n",
    "\n",
    "Every group member needs to submit this on Canvas (even if you all submit the same file)."
   ]
  }
 ],
 "metadata": {
  "deepnote": {},
  "deepnote_execution_queue": [],
  "deepnote_notebook_id": "572b9400ce1f4c6c9fe961e6af750453",
  "deepnote_persisted_session": {
   "createdAt": "2022-10-27T19:00:35.448Z"
  },
  "kernelspec": {
   "display_name": "base",
   "language": "python",
   "name": "python3"
  },
  "language_info": {
   "codemirror_mode": {
    "name": "ipython",
    "version": 3
   },
   "file_extension": ".py",
   "mimetype": "text/x-python",
   "name": "python",
   "nbconvert_exporter": "python",
   "pygments_lexer": "ipython3",
   "version": "3.13.5"
  }
 },
 "nbformat": 4,
 "nbformat_minor": 4
}
