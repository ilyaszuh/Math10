{
 "cells": [
  {
   "cell_type": "markdown",
   "metadata": {
    "cell_id": "b7c4995ed49b422b93de09f071211751",
    "deepnote_cell_type": "markdown",
    "tags": []
   },
   "source": [
    "# Worksheet 7\n",
    "\n",
    "You are encouraged to work in groups of up to 3 total students, but each student should make their own submission on Canvas.  (It's fine for everyone in the group to have the same upload.)"
   ]
  },
  {
   "cell_type": "markdown",
   "metadata": {
    "cell_id": "f6455effb06a43d4931f42a1997e24ca",
    "deepnote_cell_type": "markdown",
    "tags": []
   },
   "source": [
    "## Preparing the data\n",
    "\n",
    "* Import the attached Spotify dataset as `df` using the pandas function `read_csv`."
   ]
  },
  {
   "cell_type": "markdown",
   "metadata": {
    "cell_id": "add90dd8b5bf481388304c69c641a156",
    "deepnote_cell_type": "markdown"
   },
   "source": [
    "* Look at the first few rows in the DataFrame.  Which columns look like they *should* be numeric?"
   ]
  },
  {
   "cell_type": "markdown",
   "metadata": {
    "cell_id": "5cc9a36e3f754ec884f234b58146d634",
    "deepnote_cell_type": "markdown"
   },
   "source": [
    "* Evaluate `df.dtypes`, and notice that only a few of these columns are actually numeric."
   ]
  },
  {
   "cell_type": "markdown",
   "metadata": {
    "cell_id": "3183a251a87f4a7aa984b860c14ec2bb",
    "deepnote_cell_type": "markdown"
   },
   "source": [
    "The problem is that missing values are specified in an unusual way in this dataset, and pandas does not recognize them as missing.\n",
    "\n",
    "* Evaluate the function `pd.to_numeric` on the \"Energy\" column in `df`.  Look at the error message.  It is telling you what the problematic values are."
   ]
  },
  {
   "cell_type": "markdown",
   "metadata": {
    "cell_id": "b01613f1784a4a4c8cb7ea59f7b74851",
    "deepnote_cell_type": "markdown"
   },
   "source": [
    "(There is a better way to do this, using `df.replace`, but the approach suggested here gives some practice with `applymap`, with lambda functions, and with the Python operator `??? if ??? else ???`.)\n",
    "\n",
    "* Using the following template, replace these problematic values with the Not a Number value defined in NumPy.  If the input `x` is not missing, it should be left unchanged.\n",
    "```\n",
    "df2 = df.applymap(lambda x: ??? if x == ??? else ???)\n",
    "```"
   ]
  },
  {
   "cell_type": "markdown",
   "metadata": {
    "cell_id": "c79cdd5f38304a17b6f7676ac7e6bd85",
    "deepnote_cell_type": "markdown",
    "tags": []
   },
   "source": [
    "* Define `first_col = \"Popularity\"` and `last_col = \"Valence\"`."
   ]
  },
  {
   "cell_type": "markdown",
   "metadata": {
    "cell_id": "9ede2c475fa24b71b27813c50684190d",
    "deepnote_cell_type": "markdown"
   },
   "source": [
    "* Using `apply` and a suitable `axis` argument, apply the `pd.to_numeric` function to each column from `first_col` to `last_col`.\n",
    "\n",
    "(Comment 0.  Use `df2.loc[???] = df2.loc[???].apply(???, axis=???)` so that the values in `df2` get changed.  Comment 1.  Slicing with `loc` is one of the few examples in Python where the right endpoint *is* included.  Comment 2.  Neither the column labels nor the row labels are getting changed in this case, so my explanation for whether to use `axis=0` or `axis=1` does not quite apply.  But imagine we were applying `sum` instead of `pd.to_numeric`, that would collapse the whole column down to a single number, and so the row labels would be changing.)"
   ]
  },
  {
   "cell_type": "markdown",
   "metadata": {
    "cell_id": "82da5128ea594c0fb607dde54d959650",
    "deepnote_cell_type": "markdown"
   },
   "source": [
    "* Import the `is_numeric_dtype` and `is_string_dtype` functions from `pandas.api.types`.  (You can do these both on the same line, separating the function names with commas.)"
   ]
  },
  {
   "cell_type": "markdown",
   "metadata": {
    "cell_id": "b347a99e02594a0b8213e16853ae65d3",
    "deepnote_cell_type": "markdown",
    "tags": []
   },
   "source": [
    "* Using list comprehension and the function `is_numeric_dtype`, make a list of all the column names in `df2` which have a numeric dtype now.  Name this list `num_list`.  (This list `num_list` should be a list of strings, not a list of pandas Series.)"
   ]
  },
  {
   "cell_type": "markdown",
   "metadata": {
    "cell_id": "277f47f9d3934172b343d74075619501",
    "deepnote_cell_type": "markdown"
   },
   "source": [
    "* Check your answer: `num_list` should have length `13` and the `type` of `num_list[3]` should be `str`."
   ]
  },
  {
   "cell_type": "markdown",
   "metadata": {
    "cell_id": "22749c8febe042c3b4ba48a410c3d4ee",
    "deepnote_cell_type": "markdown",
    "tags": []
   },
   "source": [
    "* Drop the rows which contain missing values, using the code `df3 = df2.dropna(axis=???)`."
   ]
  },
  {
   "cell_type": "markdown",
   "metadata": {
    "cell_id": "9b060943f6c0453ea0c9ad1f298d3489",
    "deepnote_cell_type": "markdown",
    "tags": []
   },
   "source": [
    "* Check your answer.  The DataFrame `df3` should have `1545` rows and `23` columns."
   ]
  },
  {
   "cell_type": "markdown",
   "metadata": {
    "cell_id": "30028da4db074dcea3d97ccd4c307095",
    "deepnote_cell_type": "markdown"
   },
   "source": [
    "## Plotting the data"
   ]
  },
  {
   "cell_type": "markdown",
   "metadata": {
    "cell_id": "c73263e247bc435bb7aaca258b04f8ae",
    "deepnote_cell_type": "markdown"
   },
   "source": [
    "* Write a function `make_chart` which takes as input the name of a column `c` in `df3`, and as output returns an Altair scatter plot chart using `\"Energy\"` for the x-axis, using column `c` for the y-axis, and using `\"Danceability\"` for color."
   ]
  },
  {
   "cell_type": "markdown",
   "metadata": {
    "cell_id": "366a5375a63b46f5b97baee4ab046ec2",
    "deepnote_cell_type": "markdown"
   },
   "source": [
    "* Adjust the color scale to something more colorful in your definition of `make_chart`.  You can either use the old syntax `scale=alt.Scale(scheme=???)` or the new syntax `.scale(scheme=???)`, but if you want to use the new syntax, make sure you pip install the most recent version of Altair before importing Altair (you can always restart the notebook if you need to).  [Options for color scheme](https://vega.github.io/vega/docs/schemes/)"
   ]
  },
  {
   "cell_type": "markdown",
   "metadata": {
    "cell_id": "e42ae4d90985403b8f0a17b80662c93d",
    "deepnote_cell_type": "markdown"
   },
   "source": [
    "* Using list comprehension and the list `num_list` you made above, make a new list `chart_list` which contains `make_chart(c)` for every `c` in `num_list`."
   ]
  },
  {
   "cell_type": "markdown",
   "metadata": {
    "cell_id": "ea166e0676094652a2c51f784a8a55e1",
    "deepnote_cell_type": "markdown"
   },
   "source": [
    "* Use the following code to make a new Altair chart, which has all of the previous charts vertically concatenated together.\n",
    "\n",
    "(Comment.  This `*` before `chart_list` is performing what is called \"list unpacking\".  Rather than giving `alt.vconcat` a single input value, a list, we are giving it 13 separate input values.  In other words, `alt.vconcat(*chart_list)` is the same as `alt.vconcat(chart_list[0], chart_list[1], ..., chart_list[12])`.)\n",
    "\n",
    "```\n",
    "total_chart = alt.vconcat(*chart_list)\n",
    "```"
   ]
  },
  {
   "cell_type": "markdown",
   "metadata": {
    "cell_id": "70484b4a64ba4725bf0b3bc4bf7a3165",
    "deepnote_cell_type": "markdown"
   },
   "source": [
    "* Display this `vconcat` chart (just evaluate `total_chart` in its own cell) and make sure it looks reasonable.  You should see 13 distinct Altair charts, arranged vertically."
   ]
  },
  {
   "cell_type": "markdown",
   "metadata": {
    "cell_id": "74883a9f1ee644759aab14fce46f1fc9",
    "deepnote_cell_type": "markdown"
   },
   "source": [
    "Sample quiz or midterm questions.  (You don't need to answer these, but they are good practice questions.) \n",
    "* Why does one of the charts show just a diagonal line?\n",
    "* Why do the colors in one of the charts look so much more regular than in the others?\n",
    "* If you wanted to know which song was represented at the very top-left of the \"Speechiness\" chart, how would you find it?\n",
    "* What is a major difference between the chart produced above and a facet chart?"
   ]
  },
  {
   "cell_type": "markdown",
   "metadata": {
    "cell_id": "5cfcb1e5322b464da38c977a6a16bcff",
    "deepnote_cell_type": "markdown"
   },
   "source": [
    "## Submission"
   ]
  },
  {
   "cell_type": "markdown",
   "metadata": {
    "cell_id": "91ab2340231445a0860e7892ebe1612e",
    "deepnote_cell_type": "markdown"
   },
   "source": [
    "* Save the chart as a json file using the following code and upload that json file to Canvas.\n",
    "```\n",
    "with open(\"total_chart_file.json\", \"w\") as f:\n",
    "    f.write(total_chart.to_json())\n",
    "```"
   ]
  },
  {
   "cell_type": "markdown",
   "metadata": {
    "cell_id": "408fb36600e747248c99d52908702346",
    "deepnote_cell_type": "markdown"
   },
   "source": [
    "* If you want to check that the json file is correct, open it locally on your computer (it is too big to open on Deepnote) and copy-paste the contents into the [Vega Editor](https://vega.github.io/editor/#/) then click `Run` at the top."
   ]
  },
  {
   "cell_type": "markdown",
   "metadata": {
    "cell_id": "82942227bd5a4636b0e99df79dd3c9ea",
    "deepnote_cell_type": "markdown",
    "tags": []
   },
   "source": [
    "## Reminder\n",
    "\n",
    "Every group member needs to submit this on Canvas (even if you all submit the same file)."
   ]
  }
 ],
 "metadata": {
  "deepnote": {},
  "deepnote_execution_queue": [],
  "deepnote_notebook_id": "572b9400ce1f4c6c9fe961e6af750453",
  "deepnote_persisted_session": {
   "createdAt": "2022-10-27T19:00:35.448Z"
  },
  "kernelspec": {
   "display_name": "Python 3 (ipykernel)",
   "language": "python",
   "name": "python3"
  },
  "language_info": {
   "codemirror_mode": {
    "name": "ipython",
    "version": 3
   },
   "file_extension": ".py",
   "mimetype": "text/x-python",
   "name": "python",
   "nbconvert_exporter": "python",
   "pygments_lexer": "ipython3",
   "version": "3.9.16"
  }
 },
 "nbformat": 4,
 "nbformat_minor": 4
}
