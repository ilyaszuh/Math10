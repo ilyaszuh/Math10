{
 "cells": [
  {
   "cell_type": "markdown",
   "metadata": {
    "cell_id": "1a3519a12be44b2d881c289388371b0c",
    "deepnote_cell_type": "markdown",
    "tags": []
   },
   "source": [
    "# Worksheet 10\n",
    "\n",
    "You are encouraged to work in groups of up to 3 total students, but each student should make their own submission on Canvas.  (It's fine for everyone in the group to have the same upload.)"
   ]
  },
  {
   "cell_type": "markdown",
   "metadata": {
    "cell_id": "49fa936fd37a4f0685c0800fdc1ef8fb",
    "deepnote_cell_type": "markdown"
   },
   "source": [
    "Put the **full names** of everyone in your group (even if you're working alone) here.  (This makes grading easier.)\n",
    "\n",
    "* **Names**: "
   ]
  },
  {
   "cell_type": "markdown",
   "metadata": {
    "cell_id": "36c8862c10394777ad3facb137443cf6",
    "deepnote_cell_type": "markdown",
    "tags": []
   },
   "source": [
    "## Part 1: Predicting MPG using one feature"
   ]
  },
  {
   "cell_type": "markdown",
   "metadata": {
    "cell_id": "8799326fc6024a6a888ad4d8cb88730e",
    "deepnote_cell_type": "markdown"
   },
   "source": [
    "* Load the *mpg* dataset from Seaborn and store it with the variable name `df`."
   ]
  },
  {
   "cell_type": "markdown",
   "metadata": {
    "cell_id": "1282f7ec29f440c3961f5130fa619629",
    "deepnote_cell_type": "markdown"
   },
   "source": [
    "* Drop the rows that contain missing values from the dataset, using `df.dropna(axis=???)`.  Save the resulting DataFrame also as `df`, either using `df = df.dropna(axis=???)` or by using `df.dropna(axis=???, inplace=???)` (no `df=` in this second one)."
   ]
  },
  {
   "cell_type": "markdown",
   "metadata": {
    "cell_id": "8589473a9eac4cac8824df4234c1647d",
    "deepnote_cell_type": "markdown"
   },
   "source": [
    "* Using Altair, make a scatter plot with \"horsepower\" along the x-axis and with \"mpg\" along the y-axis."
   ]
  },
  {
   "cell_type": "markdown",
   "metadata": {
    "cell_id": "83ac3bce5d3d406ca29e7693134dd4a1",
    "deepnote_cell_type": "markdown"
   },
   "source": [
    "Based on this chart, answer the following questions in a markdown cell.\n",
    "\n",
    "1. In a line of best fit $\\text{mpg} \\approx m \\cdot \\text{horsepower} + b$, based on the above chart, what would you estimate for $m$ and $b$?  (Just a rough estimate is fine.)\n",
    "\n",
    "2.  In particular, does the chart suggest $m$ is positive or negative?  Does that make sense intuitively, from the real-world meaning of this data?\n",
    "\n",
    "3.  Does a straight line seem to be a good fit for this data?  Write about one sentence giving your opinion.  (I don't think there is a clear correct answer for this, just tell me how it seems to you.)\n",
    "\n",
    "Be sure you are answering in a markdown cell, not in a Python comment."
   ]
  },
  {
   "cell_type": "markdown",
   "metadata": {
    "cell_id": "96245c8b1eb44e0abbb1c8eb05d2f333",
    "deepnote_cell_type": "markdown"
   },
   "source": [
    "* Find values of $m$ and $b$ (in the notation above) using the `LinearRegression` class from `sklearn.linear_model`.  Assign these values to variables `m` and `b`."
   ]
  },
  {
   "cell_type": "markdown",
   "metadata": {
    "cell_id": "c3c5fd530b994279b5de7fe7fa3af2c0",
    "deepnote_cell_type": "markdown"
   },
   "source": [
    "* Verify that `m` is actually a float, not a NumPy array, using `type`.  If not, then fix it.\n",
    "\n",
    "Hint.  If `arr` is a NumPy array containing just a single element in it, you can access that single element using the `item` method.  Or you could just use `arr[0]`."
   ]
  },
  {
   "cell_type": "markdown",
   "metadata": {
    "cell_id": "8a81f603ccfc4b84a7f531501c4528c4",
    "deepnote_cell_type": "markdown"
   },
   "source": [
    "## Part 2: Predicting MPG using multiple features\n",
    "\n",
    "Now we will use four input variables rather than just one."
   ]
  },
  {
   "cell_type": "markdown",
   "metadata": {
    "cell_id": "737524a8c1764f0d975d7f28169593cf",
    "deepnote_cell_type": "markdown",
    "tags": []
   },
   "source": [
    "* Define a list `pred_cols` containing the names of the four input columns we will use.\n",
    "```\n",
    "pred_cols = [\"horsepower\", \"weight\", \"model_year\", \"cylinders\"]\n",
    "```"
   ]
  },
  {
   "cell_type": "markdown",
   "metadata": {
    "cell_id": "3ca7d415955c4932b528c4ae9d147f2c",
    "deepnote_cell_type": "markdown"
   },
   "source": [
    "* Fit a new `LinearRegression` object using these four columns as input features and again using \"mpg\" as the target value.  Store the resulting `LinearRegression` object with the variable name `reg2`."
   ]
  },
  {
   "cell_type": "markdown",
   "metadata": {
    "cell_id": "aea1f30a20b34b9ba48e539cb85e3ed7",
    "deepnote_cell_type": "markdown"
   },
   "source": [
    "* Evaluate `reg2.coef_`.  It is a little annoying that we can't immediately tell which number corresponds to which variable."
   ]
  },
  {
   "cell_type": "markdown",
   "metadata": {
    "cell_id": "4b9df979f6ec4a8c94b5f6f359e91c18",
    "deepnote_cell_type": "markdown"
   },
   "source": [
    "* Here is a nice way to group the feature names with the values in a pandas Series.  Execute the following code, after filling in an appropriate value for the `index`.\n",
    "```\n",
    "ser = pd.Series(reg2.coef_, index=???)\n",
    "```\n",
    "I'm expecting you to use `pred_cols`, but another option that might be more reliable is to use `reg2.feature_names_in_`."
   ]
  },
  {
   "cell_type": "markdown",
   "metadata": {
    "cell_id": "0a635a6d522d4c4abb7457389d55ac69",
    "deepnote_cell_type": "markdown"
   },
   "source": [
    "Examine the pandas Series you made above and answer the following questions in a markdown cell.\n",
    "\n",
    "1. Only one of the four coefficients is positive.  Explain why it makes sense that particular coefficient is positive, in terms of the real-world meaning of this data.\n",
    "\n",
    "2. Imagine a car from 1999 weighing 3800 pounds, with 200 horsepower, and with 4 cylinders.  What would our model estimate for the mpg for this car?  (Hint 1.  Notice that a year like `1974` is not written as `1974` in the DataFrame, so don't use `1999` as one of your inputs.  Hint 2.  Don't forget the bias/intercept.)\n",
    "\n",
    "3.  The horsepower coefficient you computed is quite different from the one computed in Part 1.  Why are these numbers so different?  (Idea: In Part 1, we are learning how mpg changes when horsepower increases.  In this part, we are learning how mpg changes when horsepower increases **and** these other values stay fixed.  Why would you expect that to make a difference?)"
   ]
  },
  {
   "cell_type": "markdown",
   "metadata": {
    "cell_id": "54c18f3948804e00a1e3c9ba0ab71746",
    "deepnote_cell_type": "markdown"
   },
   "source": [
    "## Part 3: Estimating MPG for a hypothetical car\n",
    "\n",
    "We will check if your computation above was correct for the 1999 car."
   ]
  },
  {
   "cell_type": "markdown",
   "metadata": {
    "cell_id": "7f70208ec7614b6e9fd844b59f987dbd",
    "deepnote_cell_type": "markdown"
   },
   "source": [
    "* Define `ser` to be a copy of the top row of `df`.  (In other words, get the top row of `df` however you normally would, and then call `.copy()` at the end of your code.  This way, you can make changes to this Series without affecting `df`.) "
   ]
  },
  {
   "cell_type": "markdown",
   "metadata": {
    "cell_id": "5f7edaa00fb2472f80bbc281a72e23be",
    "deepnote_cell_type": "markdown"
   },
   "source": [
    "* Define a length-4 Python dictionary `dct` with keys \"weight\", \"cylinders\", \"horsepower\", and \"model_year\" and with values matching what was used in the \"imagine a car\" question above.  For example,\n",
    "```\n",
    "dct = {\"weight\": 3800, ...}\n",
    "```"
   ]
  },
  {
   "cell_type": "markdown",
   "metadata": {
    "cell_id": "6db282ae34074cd58e4629321e4b3496",
    "deepnote_cell_type": "markdown"
   },
   "source": [
    "* Call the `update` method of `ser` and pass it `dct` as an argument."
   ]
  },
  {
   "cell_type": "markdown",
   "metadata": {
    "cell_id": "1f9a0d5116f64f3589f52cd586af914e",
    "deepnote_cell_type": "markdown"
   },
   "source": [
    "* Evaluate `ser`.  Notice that the values have been changed to match our hypothetical car."
   ]
  },
  {
   "cell_type": "markdown",
   "metadata": {
    "cell_id": "b6b29fb307064781835f5f50bf7f3bc1",
    "deepnote_cell_type": "markdown"
   },
   "source": [
    "* Make a length-1 list whose only element is the pandas Series `ser`."
   ]
  },
  {
   "cell_type": "markdown",
   "metadata": {
    "cell_id": "c312d8628b884d31bc3ae35b1d02c1ee",
    "deepnote_cell_type": "markdown"
   },
   "source": [
    "* Pass that length-1 list to `pd.DataFrame` to construct a one row DataFrame. Assign the result to the variable `df2`."
   ]
  },
  {
   "cell_type": "markdown",
   "metadata": {
    "cell_id": "39289d2c78cc4860b31a073b81abbd43",
    "deepnote_cell_type": "markdown"
   },
   "source": [
    "* Evaluate `df2`.  You should see a length-1 DataFrame, with values matching those of our hypothetical car (and some leftover columns from the original row)."
   ]
  },
  {
   "cell_type": "markdown",
   "metadata": {
    "cell_id": "a8014203e4d740a9ba00203dbc28f9b4",
    "deepnote_cell_type": "markdown"
   },
   "source": [
    "* Use `reg2.predict` to find the predicted mpg corresponding to this hypothetical car.\n",
    "\n",
    "Hint.  Remember that we are only using the columns from the list `pred_cols`."
   ]
  },
  {
   "cell_type": "markdown",
   "metadata": {
    "cell_id": "680a13548a46477d869b0a7e12f57689",
    "deepnote_cell_type": "markdown"
   },
   "source": [
    "* What error message do we get if you try to do the same thing but using `ser[pred_cols]` instead of `df2[pred_cols]`?"
   ]
  },
  {
   "cell_type": "markdown",
   "metadata": {
    "cell_id": "27e17fed68a940338148137a34ff307f",
    "deepnote_cell_type": "markdown"
   },
   "source": [
    "* What does the error message mean by \"2D array\" vs \"1D array\" in the context of these pandas objects?  Answer in a markdown cell."
   ]
  },
  {
   "cell_type": "markdown",
   "metadata": {
    "cell_id": "c71e793af9754de590a96fd276d59c81",
    "deepnote_cell_type": "markdown"
   },
   "source": [
    "## Submission\n",
    "\n",
    "* Reminder: everyone needs to make a submission on Canvas.\n",
    "* Reminder: Use markdown cells for text explanations, not Python comments.  The only exception is if it is a very brief explanation at the top of a code cell.\n",
    "* Reminder: include everyone's full name at the top, after **Names**.\n",
    "* Using the `Share` button at the top right, enable public sharing, and enable Comment privileges. Then submit the created link on Canvas."
   ]
  },
  {
   "cell_type": "markdown",
   "metadata": {
    "created_in_deepnote_cell": true,
    "deepnote_cell_type": "markdown"
   },
   "source": [
    "<a style='text-decoration:none;line-height:16px;display:flex;color:#5B5B62;padding:10px;justify-content:end;' href='https://deepnote.com?utm_source=created-in-deepnote-cell&projectId=7811b861-fc8f-4cd5-b09f-8da0e1f8eead' target=\"_blank\">\n",
    "<img alt='Created in deepnote.com' style='display:inline;max-height:16px;margin:0px;margin-right:7.5px;' src='data:image/svg+xml;base64,PD94bWwgdmVyc2lvbj0iMS4wIiBlbmNvZGluZz0iVVRGLTgiPz4KPHN2ZyB3aWR0aD0iODBweCIgaGVpZ2h0PSI4MHB4IiB2aWV3Qm94PSIwIDAgODAgODAiIHZlcnNpb249IjEuMSIgeG1sbnM9Imh0dHA6Ly93d3cudzMub3JnLzIwMDAvc3ZnIiB4bWxuczp4bGluaz0iaHR0cDovL3d3dy53My5vcmcvMTk5OS94bGluayI+CiAgICA8IS0tIEdlbmVyYXRvcjogU2tldGNoIDU0LjEgKDc2NDkwKSAtIGh0dHBzOi8vc2tldGNoYXBwLmNvbSAtLT4KICAgIDx0aXRsZT5Hcm91cCAzPC90aXRsZT4KICAgIDxkZXNjPkNyZWF0ZWQgd2l0aCBTa2V0Y2guPC9kZXNjPgogICAgPGcgaWQ9IkxhbmRpbmciIHN0cm9rZT0ibm9uZSIgc3Ryb2tlLXdpZHRoPSIxIiBmaWxsPSJub25lIiBmaWxsLXJ1bGU9ImV2ZW5vZGQiPgogICAgICAgIDxnIGlkPSJBcnRib2FyZCIgdHJhbnNmb3JtPSJ0cmFuc2xhdGUoLTEyMzUuMDAwMDAwLCAtNzkuMDAwMDAwKSI+CiAgICAgICAgICAgIDxnIGlkPSJHcm91cC0zIiB0cmFuc2Zvcm09InRyYW5zbGF0ZSgxMjM1LjAwMDAwMCwgNzkuMDAwMDAwKSI+CiAgICAgICAgICAgICAgICA8cG9seWdvbiBpZD0iUGF0aC0yMCIgZmlsbD0iIzAyNjVCNCIgcG9pbnRzPSIyLjM3NjIzNzYyIDgwIDM4LjA0NzY2NjcgODAgNTcuODIxNzgyMiA3My44MDU3NTkyIDU3LjgyMTc4MjIgMzIuNzU5MjczOSAzOS4xNDAyMjc4IDMxLjY4MzE2ODMiPjwvcG9seWdvbj4KICAgICAgICAgICAgICAgIDxwYXRoIGQ9Ik0zNS4wMDc3MTgsODAgQzQyLjkwNjIwMDcsNzYuNDU0OTM1OCA0Ny41NjQ5MTY3LDcxLjU0MjI2NzEgNDguOTgzODY2LDY1LjI2MTk5MzkgQzUxLjExMjI4OTksNTUuODQxNTg0MiA0MS42NzcxNzk1LDQ5LjIxMjIyODQgMjUuNjIzOTg0Niw0OS4yMTIyMjg0IEMyNS40ODQ5Mjg5LDQ5LjEyNjg0NDggMjkuODI2MTI5Niw0My4yODM4MjQ4IDM4LjY0NzU4NjksMzEuNjgzMTY4MyBMNzIuODcxMjg3MSwzMi41NTQ0MjUgTDY1LjI4MDk3Myw2Ny42NzYzNDIxIEw1MS4xMTIyODk5LDc3LjM3NjE0NCBMMzUuMDA3NzE4LDgwIFoiIGlkPSJQYXRoLTIyIiBmaWxsPSIjMDAyODY4Ij48L3BhdGg+CiAgICAgICAgICAgICAgICA8cGF0aCBkPSJNMCwzNy43MzA0NDA1IEwyNy4xMTQ1MzcsMC4yNTcxMTE0MzYgQzYyLjM3MTUxMjMsLTEuOTkwNzE3MDEgODAsMTAuNTAwMzkyNyA4MCwzNy43MzA0NDA1IEM4MCw2NC45NjA0ODgyIDY0Ljc3NjUwMzgsNzkuMDUwMzQxNCAzNC4zMjk1MTEzLDgwIEM0Ny4wNTUzNDg5LDc3LjU2NzA4MDggNTMuNDE4MjY3Nyw3MC4zMTM2MTAzIDUzLjQxODI2NzcsNTguMjM5NTg4NSBDNTMuNDE4MjY3Nyw0MC4xMjg1NTU3IDM2LjMwMzk1NDQsMzcuNzMwNDQwNSAyNS4yMjc0MTcsMzcuNzMwNDQwNSBDMTcuODQzMDU4NiwzNy43MzA0NDA1IDkuNDMzOTE5NjYsMzcuNzMwNDQwNSAwLDM3LjczMDQ0MDUgWiIgaWQ9IlBhdGgtMTkiIGZpbGw9IiMzNzkzRUYiPjwvcGF0aD4KICAgICAgICAgICAgPC9nPgogICAgICAgIDwvZz4KICAgIDwvZz4KPC9zdmc+' > </img>\n",
    "Created in <span style='font-weight:600;margin-left:4px;'>Deepnote</span></a>"
   ]
  }
 ],
 "metadata": {
  "deepnote": {},
  "deepnote_execution_queue": [],
  "deepnote_notebook_id": "0f72f6494962433aa393869e917e10f3",
  "kernelspec": {
   "display_name": "Python 3 (ipykernel)",
   "language": "python",
   "name": "python3"
  },
  "language_info": {
   "codemirror_mode": {
    "name": "ipython",
    "version": 3
   },
   "file_extension": ".py",
   "mimetype": "text/x-python",
   "name": "python",
   "nbconvert_exporter": "python",
   "pygments_lexer": "ipython3",
   "version": "3.9.16"
  }
 },
 "nbformat": 4,
 "nbformat_minor": 4
}
