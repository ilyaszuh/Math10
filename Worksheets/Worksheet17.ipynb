{
 "cells": [
  {
   "cell_type": "markdown",
   "metadata": {
    "cell_id": "2c191f061ebb4d099c9433a2f5564724",
    "deepnote_cell_type": "markdown",
    "owner_user_id": "02be19f8-8497-4212-b8d0-46ca9f1d48b9",
    "tags": []
   },
   "source": [
    "# Worksheet 17\n",
    "\n",
    "Author (use your full name): **BLANK**\n",
    "\n",
    "**This is the only worksheet that must be done individually, not in a group**\n",
    "\n",
    "The goal of this worksheet is to get you thinking about the Course Project.  Detailed instructions for the course project are in the [course notes](https://christopherdavisuci.github.io/UCI-Math-10-S23/Proj/CourseProject.html)."
   ]
  },
  {
   "cell_type": "markdown",
   "metadata": {
    "cell_id": "19b37c62f5d741639046670c658fa637",
    "deepnote_cell_type": "markdown",
    "tags": []
   },
   "source": [
    "## Question 1\n",
    "\n",
    "Look through the student projects from [Winter 22](https://christopherdavisuci.github.io/UCI-Math-10-W22/Proj/StudentProjects.html), from [Spring 22](https://christopherdavisuci.github.io/UCI-Math-10-S22/Proj/StudentProjects.html), and from [Fall 22](https://christopherdavisuci.github.io/UCI-Math-10-F22/Proj/StudentProjects.html).\n",
    "\n",
    "### Part a\n",
    "\n",
    "What is an example of one of these projects that you like?  (Focus on what was done in the project, and how clear the project is, not just whether it's an interesting topic/dataset or not.)  In a markdown cell, give a link to that project and explain in about two sentences what you like about it."
   ]
  },
  {
   "cell_type": "markdown",
   "metadata": {
    "cell_id": "33afcae880954a629a3d9b08297a0f5c",
    "deepnote_cell_type": "markdown"
   },
   "source": [
    "### Part b\n",
    "\n",
    "It's important that you reference material taken from outside sources as clearly as possible.  Ideally the references are given in the middle of the project, not just at the end.  (For example, \"The following code was adapted from *link*\".)  What is an example of one of the student projects that you think did a good job providing references?  In a markdown cell, give a link to that project and explain briefly why you think they did a good job with references."
   ]
  },
  {
   "cell_type": "markdown",
   "metadata": {
    "cell_id": "ae8c1c4ea4654dca9df1c70f64c60d46",
    "deepnote_cell_type": "markdown",
    "tags": []
   },
   "source": [
    "## Question 2\n",
    "\n",
    "Find a potential dataset to use for your project, upload it to this Deepnote project, and then import it to this notebook using pandas.  (This should be a dataset that was not used by us in Math 10.  See the project instructions for more details.  I don't think Deepnote allows us to upload a file larger than 100mb.)  In a markdown cell, briefly explain what this dataset contains and say where it comes from.  (It's fine to later choose a different dataset for your actual course project.)"
   ]
  },
  {
   "cell_type": "markdown",
   "metadata": {
    "cell_id": "b09ca24e627d4616a2709d571e2aef69",
    "deepnote_cell_type": "markdown",
    "tags": []
   },
   "source": [
    "## Question 3\n",
    "\n",
    "Do you have an idea for the focus of your project?  Is there a specific question you want to investigate related to the dataset?  (It's very fine to change your mind later.)"
   ]
  },
  {
   "cell_type": "markdown",
   "metadata": {
    "cell_id": "b3cfc2b132534ec08544e7b8a0fc59c1",
    "deepnote_cell_type": "markdown",
    "tags": []
   },
   "source": [
    "## Question 4\n",
    "\n",
    "What are you considering for the “Extra” portion of the project?  (Again, it's fine to change your mind later.  The point of these questions is to get you thinking about these decisions early.)"
   ]
  },
  {
   "cell_type": "markdown",
   "metadata": {
    "cell_id": "93eb103e044746fc980ed762bac83df2",
    "deepnote_cell_type": "markdown",
    "tags": []
   },
   "source": [
    "## Question 5\n",
    "\n",
    "Do you already know any References/Tutorials you are planning to use? If so, list them here."
   ]
  },
  {
   "cell_type": "markdown",
   "metadata": {
    "cell_id": "a0006f1108344b81ab5850ae46c5ed95",
    "deepnote_cell_type": "markdown",
    "tags": []
   },
   "source": [
    "## Question 6\n",
    "\n",
    "Do you have any questions for us regarding the project?"
   ]
  },
  {
   "cell_type": "markdown",
   "metadata": {
    "cell_id": "c0bebfcae5eb4ded8d61e127e5ed2018",
    "deepnote_cell_type": "markdown",
    "tags": []
   },
   "source": [
    "## Submission\n",
    "\n",
    "* Using the `Share` button at the top right, enable public sharing, and enable Comment privileges. Then submit the created link on Canvas."
   ]
  },
  {
   "cell_type": "markdown",
   "metadata": {
    "created_in_deepnote_cell": true,
    "deepnote_cell_type": "markdown"
   },
   "source": [
    "<a style='text-decoration:none;line-height:16px;display:flex;color:#5B5B62;padding:10px;justify-content:end;' href='https://deepnote.com?utm_source=created-in-deepnote-cell&projectId=94d98f9d-4052-471b-a255-4a9637f1e2fd' target=\"_blank\">\n",
    "<img alt='Created in deepnote.com' style='display:inline;max-height:16px;margin:0px;margin-right:7.5px;' src='data:image/svg+xml;base64,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' > </img>\n",
    "Created in <span style='font-weight:600;margin-left:4px;'>Deepnote</span></a>"
   ]
  }
 ],
 "metadata": {
  "deepnote": {},
  "deepnote_execution_queue": [],
  "deepnote_notebook_id": "2e74039a83e841c9b7d133fc4e6fdeba",
  "kernelspec": {
   "display_name": "Python 3 (ipykernel)",
   "language": "python",
   "name": "python3"
  },
  "language_info": {
   "codemirror_mode": {
    "name": "ipython",
    "version": 3
   },
   "file_extension": ".py",
   "mimetype": "text/x-python",
   "name": "python",
   "nbconvert_exporter": "python",
   "pygments_lexer": "ipython3",
   "version": "3.9.16"
  }
 },
 "nbformat": 4,
 "nbformat_minor": 4
}
