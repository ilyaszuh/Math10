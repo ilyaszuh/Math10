{
 "cells": [
  {
   "cell_type": "markdown",
   "metadata": {
    "cell_id": "be7ff3fef44d436e82666d12543cd1c9",
    "deepnote_cell_type": "markdown"
   },
   "source": [
    "# Worksheet 5\n",
    "\n",
    "This worksheet is due Monday night of the following week.  You are encouraged to work in groups of up to 3 total students, but each student should submit their own file.  (It's fine for everyone in the group to upload the same file.)\n",
    "\n",
    "These questions refer to the attached vending machines csv file, `data_groups.csv`.  This is a very nice (artificial) dataset for demonstrating the usefulness of data visualization."
   ]
  },
  {
   "cell_type": "markdown",
   "metadata": {
    "cell_id": "5e881f5176b24d56ab3beed843b699e9",
    "deepnote_cell_type": "markdown"
   },
   "source": [
    "Put the full names of everyone in your group (even if you're working alone) here.  (This makes grading easier.)\n",
    "\n",
    "* **Names**: "
   ]
  },
  {
   "cell_type": "markdown",
   "metadata": {
    "cell_id": "6917e9f6a5104cfe8b06fe1c16d716f2",
    "deepnote_cell_type": "markdown"
   },
   "source": [
    "## Part 1 - Without data visualization\n",
    "\n",
    "* Load the data using pandas as a DataFrame stored as `df` and look at the first few rows."
   ]
  },
  {
   "cell_type": "markdown",
   "metadata": {
    "cell_id": "c73e6b6c29204cf3862b7a4358ddd900",
    "deepnote_cell_type": "markdown"
   },
   "source": [
    "* Look over the following code (and its output).  (You don't need to write anything here, but for a quiz or midterm, you should be able to understand this kind of code.)"
   ]
  },
  {
   "cell_type": "code",
   "execution_count": 43,
   "metadata": {
    "cell_id": "f05601ad392e499e8cd78afb53d6c57a",
    "deepnote_cell_type": "code",
    "deepnote_to_be_reexecuted": false,
    "execution_millis": 1,
    "execution_start": 1681680571758,
    "output_cleared": true,
    "source_hash": "e6794e41"
   },
   "outputs": [],
   "source": [
    "groups = sorted(df[\"grouping\"].unique())\n",
    "\n",
    "for gp in groups:\n",
    "    df_sub = df[df[\"grouping\"] == gp]\n",
    "    print(\"The group is\", gp) # if you know f-strings, those could be used instead\n",
    "    print(\"The mean of x is\", df_sub[\"x\"].mean(), \n",
    "            \"The standard deviation of x is\", df_sub[\"x\"].std())\n",
    "    print(\"The mean of y is\", df_sub[\"y\"].mean(), \n",
    "            \"The standard deviation of y is\", df_sub[\"y\"].std())\n",
    "    print()\n"
   ]
  },
  {
   "cell_type": "markdown",
   "metadata": {
    "cell_id": "91ba4be979324664956b6b90b5e53f45",
    "deepnote_cell_type": "markdown"
   },
   "source": [
    "* Here is another way to get the same `mean` information.  Look over this code and its output and the output above, and see how they're related.  (Again, you don't need to write anything for this part.)"
   ]
  },
  {
   "cell_type": "code",
   "execution_count": 41,
   "metadata": {
    "cell_id": "956a795fa23e4f87be2cf0d500acc319",
    "deepnote_cell_type": "code",
    "deepnote_to_be_reexecuted": false,
    "execution_millis": 25,
    "execution_start": 1681680527373,
    "output_cleared": true,
    "source_hash": "dc2d46e2"
   },
   "outputs": [],
   "source": [
    "df.groupby(\"grouping\").mean()"
   ]
  },
  {
   "cell_type": "markdown",
   "metadata": {
    "cell_id": "b340fa1c4a1d43b2a9e5a8988bcdbc21",
    "deepnote_cell_type": "markdown"
   },
   "source": [
    "* How do you think you get the same standard deviation information using `groupby`?  Try it, and check that the information does match what we got using the for loop."
   ]
  },
  {
   "cell_type": "markdown",
   "metadata": {
    "cell_id": "9b42ab3670c44b4d89475f143f17faa2",
    "deepnote_cell_type": "markdown"
   },
   "source": [
    "* In a markdown cell, describe, what is the main takeaway from the above outputs, in terms of what they tell you about the dataset?  Feel free to make more computations if they are helpful."
   ]
  },
  {
   "cell_type": "markdown",
   "metadata": {
    "cell_id": "3bb27bdab09f4cefb1f7ebfbf12dba0b",
    "deepnote_cell_type": "markdown"
   },
   "source": [
    "## Part 2: Visualizing the data all at once"
   ]
  },
  {
   "cell_type": "markdown",
   "metadata": {
    "cell_id": "83ca8e12c665495eac8c77ac85b0ca65",
    "deepnote_cell_type": "markdown"
   },
   "source": [
    "* Using Altair, plot the data in `df` using a scatter plot (`mark_circle`).  Encode the \"x\" column in the x-axis, the \"y\" column in the y-axis, and the \"grouping\" in the color.  Use `:N` after specifying \"grouping\" to tell Altair that these groupings are categories, not quantitative values.\n",
    "\n",
    "(The resulting plot should look like a mess.)"
   ]
  },
  {
   "cell_type": "markdown",
   "metadata": {
    "cell_id": "3ae8737a9115424f8fb884dba563071f",
    "deepnote_cell_type": "markdown"
   },
   "source": [
    "## Part 3: Visualizing the 13 groupings individually\n",
    "\n",
    "We will see that these 13 groups of data are fundamentally different by plotting them separately.  We don't have to do this by hand.  Altair, Seaborn, and Plotly Express all have their own way to do this separate plotting automatically."
   ]
  },
  {
   "cell_type": "markdown",
   "metadata": {
    "cell_id": "83647e15ff784552b0a77537f6599cfd",
    "deepnote_cell_type": "markdown"
   },
   "source": [
    "### Using Altair\n",
    "\n",
    "* Make a facet chart in Altair by taking the same `Chart` definition as above, and including `row=\"grouping:N\"` within the encoding.  This tells Altair to put each grouping in its own row. [Reference 1](https://altair-viz.github.io/user_guide/compound_charts.html#faceted-charts) (but don't look at the first for loop example, scroll below that).  [Reference 2](https://altair-viz.github.io/gallery/beckers_barley_wrapped_facet.html)"
   ]
  },
  {
   "cell_type": "markdown",
   "metadata": {
    "cell_id": "b82ee73b06f04c59b72feb71fd678814",
    "deepnote_cell_type": "markdown"
   },
   "source": [
    "### Using Seaborn\n",
    "\n",
    "* Make the same facet chart, but using Seaborn.  [Reference 1](https://seaborn.pydata.org/generated/seaborn.FacetGrid.html) (Scroll down to the example... `tips` is the name of their DataFrame, so you should use `df` instead of `tips`.  It seems like the `hue` keyword argument should be used with `sns.FacetGrid`, while the `x` and `y` arguments should be used with `map`).  [Reference 2](https://seaborn.pydata.org/tutorial/axis_grids.html#conditional-small-multiples)"
   ]
  },
  {
   "cell_type": "markdown",
   "metadata": {
    "cell_id": "bad95579c16b45a98bf922dad7d2c6d5",
    "deepnote_cell_type": "markdown"
   },
   "source": [
    "### Using Plotly Express"
   ]
  },
  {
   "cell_type": "markdown",
   "metadata": {
    "cell_id": "abebed23de8c487db886efc4b1b5dc21",
    "deepnote_cell_type": "markdown"
   },
   "source": [
    "* Make the same facet chart using Plotly Express.  [Reference](https://plotly.com/python/facet-plots/) (To get it to look similar to the Altair and Seaborn versions, I added the keyword argument `height=4000` to the `px.scatter` function.)"
   ]
  },
  {
   "cell_type": "markdown",
   "metadata": {
    "cell_id": "ae36180bb7a1433cb3e1f48146a34c5a",
    "deepnote_cell_type": "markdown"
   },
   "source": [
    "## Submission\n",
    "\n",
    "* Using the `Share` button at the top right, enable public sharing, and enable Comment privileges. Then submit the created link on Canvas."
   ]
  }
 ],
 "metadata": {
  "deepnote": {},
  "deepnote_execution_queue": [],
  "deepnote_notebook_id": "59a57b194b1e49dea0a09731645b0db7",
  "deepnote_persisted_session": {
   "createdAt": "2023-04-16T22:13:41.230Z"
  },
  "kernelspec": {
   "display_name": "Python 3 (ipykernel)",
   "language": "python",
   "name": "python3"
  },
  "language_info": {
   "codemirror_mode": {
    "name": "ipython",
    "version": 3
   },
   "file_extension": ".py",
   "mimetype": "text/x-python",
   "name": "python",
   "nbconvert_exporter": "python",
   "pygments_lexer": "ipython3",
   "version": "3.9.16"
  }
 },
 "nbformat": 4,
 "nbformat_minor": 4
}
