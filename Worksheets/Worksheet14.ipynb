{
 "cells": [
  {
   "cell_type": "markdown",
   "metadata": {
    "cell_id": "d9df87a8da6b446a925a6ac84fd32529",
    "deepnote_cell_type": "markdown",
    "tags": []
   },
   "source": [
    "# Worksheet 14\n",
    "\n",
    "You are encouraged to work in groups of up to 3 total students, but each student should make their own submission on Canvas.  (It's fine for everyone in the group to have the same upload.)"
   ]
  },
  {
   "cell_type": "markdown",
   "metadata": {
    "cell_id": "5a54f1f9c7e5456ea225b0e4660a6a53",
    "deepnote_cell_type": "markdown"
   },
   "source": [
    "Put the **full names** of everyone in your group (even if you're working alone) here.  (This makes grading easier.)\n",
    "\n",
    "* **Names**: "
   ]
  },
  {
   "cell_type": "markdown",
   "metadata": {
    "cell_id": "9acfb56549d04d15b2d9c009553576e1",
    "deepnote_cell_type": "markdown"
   },
   "source": [
    "## Introduction\n",
    "\n",
    "Our goal in this worksheet is to use Logistic Regression to predict the artist of a song in the Spotify dataset using the \"Loudness\" and the \"Valence\" of that song."
   ]
  },
  {
   "cell_type": "markdown",
   "metadata": {
    "cell_id": "f542e2ea97dd4237b214a5d4fb8c1465",
    "deepnote_cell_type": "markdown"
   },
   "source": [
    "* Load the attached Spotify dataset, specifying that missing values correspond to an empty space `\" \"` using the `na_values` keyword argument to `read_csv`.\n",
    "* Drop the rows with missing values.  Name the result `df_pre`."
   ]
  },
  {
   "cell_type": "markdown",
   "metadata": {
    "cell_id": "faa3ae2839b24e45879866e9922dc58a",
    "deepnote_cell_type": "markdown"
   },
   "source": [
    "* Check your answer: there should be `1545` rows, and many of the columns (for example, \"Loudness\" and \"Valence\") should have numeric data types automatically.  (You can use the `dtypes` attribute of `df_pre`.)"
   ]
  },
  {
   "cell_type": "markdown",
   "metadata": {
    "cell_id": "f3eb2780052c4680a3a7548c321fbec3",
    "deepnote_cell_type": "markdown"
   },
   "source": [
    "## The Series method `isin`"
   ]
  },
  {
   "cell_type": "markdown",
   "metadata": {
    "cell_id": "3abae2f29c7f4df2acff96cc6e5282cc",
    "deepnote_cell_type": "markdown"
   },
   "source": [
    "* Figure out how the following code is working, especially the `isin` method.  (You don't have to write anything, but you need to use `isin` in the next part.  This is also a good sample quiz or midterm question.)\n",
    "\n",
    "```\n",
    "df_temp = pd.DataFrame([[2, \"A\"], [3, \"B\"], [4, \"A\"], [2, \"C\"], [2, \"B\"]])\n",
    "df_temp[df_temp[1].isin([\"A\", \"C\"])]\n",
    "```"
   ]
  },
  {
   "cell_type": "markdown",
   "metadata": {
    "cell_id": "b265129df1d8475f848662d8f25cc63a",
    "deepnote_cell_type": "markdown"
   },
   "source": [
    "## The most frequently occurring artists"
   ]
  },
  {
   "cell_type": "markdown",
   "metadata": {
    "cell_id": "16265be45f974c91a0ed28322660ac46",
    "deepnote_cell_type": "markdown"
   },
   "source": [
    "* Define `df` to be the sub-DataFrame of `df_pre` containing only songs by the 7 most common artists in the dataset.  (Hints.  You can use `df_pre[\"Artist\"].value_counts()`, and then the first `7` values in the `index` will be the most common artists.  Now use the `isin` method as above.)"
   ]
  },
  {
   "cell_type": "markdown",
   "metadata": {
    "cell_id": "5e6e48b2b83e46b4b7b20441658b3fa2",
    "deepnote_cell_type": "markdown"
   },
   "source": [
    "* Check your answer: the DataFrame `df` should have `232` rows and `23` columns."
   ]
  },
  {
   "cell_type": "markdown",
   "metadata": {
    "cell_id": "37bfced80fea401189c68d20f484027d",
    "deepnote_cell_type": "markdown"
   },
   "source": [
    "## Logistic regression for predicting artists"
   ]
  },
  {
   "cell_type": "markdown",
   "metadata": {
    "cell_id": "8699cdd528844ad980963b34301b0da3",
    "deepnote_cell_type": "markdown"
   },
   "source": [
    "* Define a Logistic Regression classifier to `df` using scikit-learn, and fit it using \"Loudness\" and \"Valence\" for the input features, and using \"Artist\" for the target."
   ]
  },
  {
   "cell_type": "markdown",
   "metadata": {
    "cell_id": "7d0caec80c1945959b577077f31aa7b0",
    "deepnote_cell_type": "markdown"
   },
   "source": [
    "* One of the seven artists is never predicted.  Which one?  (Find a programmatic way to find this artist... don't just look at the artists and write out the answer.)"
   ]
  },
  {
   "cell_type": "markdown",
   "metadata": {
    "cell_id": "bb6a9664f09e4f72a3eb194460a58f4d",
    "deepnote_cell_type": "markdown"
   },
   "source": [
    "* Using `clf.score`, what proportion of artist predictions are correct?"
   ]
  },
  {
   "cell_type": "markdown",
   "metadata": {
    "cell_id": "28d6f9564da647b5b231b00b23a560d1",
    "deepnote_cell_type": "markdown"
   },
   "source": [
    "* How does that number compare to 1/7, which is the proportion we would expect to get correct by random guessing."
   ]
  },
  {
   "cell_type": "markdown",
   "metadata": {
    "cell_id": "467d49f12d1241899c99c26b87ae7116",
    "deepnote_cell_type": "markdown"
   },
   "source": [
    "* How does that number compare to always guessing the most commonly occuring artist?"
   ]
  },
  {
   "cell_type": "markdown",
   "metadata": {
    "cell_id": "0964c08f80cc4fae8cc2029d381b4e06",
    "deepnote_cell_type": "markdown"
   },
   "source": [
    "Use the `coef_` attribute to answer the following question.\n",
    "\n",
    "* As \"Loudness\" increases, is the song more or less likely to be a Justin Bieber song, according to our model?  What about \"Valence\"?  Answer in a markdown cell (not a Python comment.)"
   ]
  },
  {
   "cell_type": "markdown",
   "metadata": {
    "cell_id": "e7946813376a4cc683e534114a41e5d1",
    "deepnote_cell_type": "markdown"
   },
   "source": [
    "* What artist is predicted by our logistic regression classifier for a song with loudness `-4` and valence `0.6`?"
   ]
  },
  {
   "cell_type": "markdown",
   "metadata": {
    "cell_id": "60da35a83ba447bb95c7d32ba55a2c49",
    "deepnote_cell_type": "markdown"
   },
   "source": [
    "* Using the `predict_proba` method, what is the confidence of our classifier in this prediction?  You should use the `classes_` attribute to see what entries correspond to what artists."
   ]
  },
  {
   "cell_type": "markdown",
   "metadata": {
    "cell_id": "a0b4d7a7f46940f894f6e2277469415e",
    "deepnote_cell_type": "markdown"
   },
   "source": [
    "* Make an Altair bar chart (use `mark_bar`) with these seven artist names along the x-axis, and with the heights of the bars given by the probabilities from the `predict_proba` method (still for this song with loudness `-4` and valence `0.6`.)"
   ]
  },
  {
   "cell_type": "markdown",
   "metadata": {
    "cell_id": "6b7720030de5415c94db9cc5c824a32d",
    "deepnote_cell_type": "markdown"
   },
   "source": [
    "* What three artists does our classifier think are most likely for this (imaginary) song?"
   ]
  },
  {
   "cell_type": "markdown",
   "metadata": {
    "cell_id": "aff5c2d82ef34f30808a4fb90cee5ff6",
    "deepnote_cell_type": "markdown"
   },
   "source": [
    "## Illustrating the decision boundary"
   ]
  },
  {
   "cell_type": "markdown",
   "metadata": {
    "cell_id": "6265d9d64a6941d99a7e5e77a3c37dec",
    "deepnote_cell_type": "markdown"
   },
   "source": [
    "* Using `default_rng` from NumPy, make a 5000x2 NumPy array `arr` of random real numbers between 0 and 1.\n",
    "\n",
    "* Use one of your student id numbers as a `seed` when you instantiate the random number generator so you get consistent results."
   ]
  },
  {
   "cell_type": "markdown",
   "metadata": {
    "cell_id": "c96d4e62b3b247178d9e9883bb36e9e1",
    "deepnote_cell_type": "markdown"
   },
   "source": [
    "* Convert `arr` to a pandas DataFrame `df_art` (\"art\" is for \"artificial\"), and name the columns \"Loudness\" and \"Valence\"."
   ]
  },
  {
   "cell_type": "markdown",
   "metadata": {
    "cell_id": "34c4628550a549f78787ba6ebbaa261e",
    "deepnote_cell_type": "markdown"
   },
   "source": [
    "* Rescale the \"Loudness\" column in `df_art` so that its values range from approximately `-15` to `-3`.  The point of this is to approximately match the values in the original \"Loudness\" column.  (I am just picturing multiplying this column by a value, and then adding or subtracting a constant.)"
   ]
  },
  {
   "cell_type": "markdown",
   "metadata": {
    "cell_id": "0cd5c2025ffb43f99ae2e0b438f0be14",
    "deepnote_cell_type": "markdown"
   },
   "source": [
    "* Add a new column called \"pred\" (for \"prediction\") to `df_art`, corresponding to the predicted artist values, according to our logistic regression classifier."
   ]
  },
  {
   "cell_type": "markdown",
   "metadata": {
    "cell_id": "8ec30f31d5464212a79295fde6c0ce10",
    "deepnote_cell_type": "markdown"
   },
   "source": [
    "* Make an Altair scatter plot from `df_art` with \"Loudness\" along the x-axis, with \"Valence\" along the y-axis, and with the points colored using the prediction column."
   ]
  },
  {
   "cell_type": "markdown",
   "metadata": {
    "cell_id": "40998d49c893430baab98067e6bd7670",
    "deepnote_cell_type": "markdown"
   },
   "source": [
    "* Recall our question above about whether a song is more or less likely to be a Justin Bieber song as the \"Valence\" increases.  Does your answer seem believable in terms of the above chart?"
   ]
  },
  {
   "cell_type": "markdown",
   "metadata": {
    "cell_id": "5c199da8e4094130aaf5bac0b55b9b23",
    "deepnote_cell_type": "markdown"
   },
   "source": [
    "* Look for the area of the chart corresponding to our loudness `-4` and valence `0.6` values from the previous section.  Recall that we found the three most likely artists for those values.  Does this chart seem to agree with those three most likely artists?  (In other words, does the way this chart looks seem to agree with the three artists we found above using `predict_proba`?)  Answer in a markdown cell (not as a Python comment.)"
   ]
  },
  {
   "cell_type": "markdown",
   "metadata": {
    "cell_id": "bcce43f30a734eb39273c3ae4440d901",
    "deepnote_cell_type": "markdown"
   },
   "source": [
    "* In terms of our scatter plot, do you see why the `LogisticRegression` class lives in the `linear_model` library in scikit-learn?  What seems \"linear\" about this plot?  Use the phrase \"decision boundary\" in your answer."
   ]
  },
  {
   "cell_type": "markdown",
   "metadata": {
    "cell_id": "a5e0ac785cb740978a94ea819eab7bc1",
    "deepnote_cell_type": "markdown"
   },
   "source": [
    "## Submission\n",
    "\n",
    "* Reminder: everyone needs to make a submission on Canvas.\n",
    "* Reminder: include everyone's full name at the top, after **Names**.\n",
    "* Using the `Share` button at the top right, enable public sharing, and enable Comment privileges. Then submit the created link on Canvas."
   ]
  }
 ],
 "metadata": {
  "deepnote": {},
  "deepnote_execution_queue": [],
  "deepnote_notebook_id": "c13b7583fd92437da6ef554a9303d7b5",
  "kernelspec": {
   "display_name": "Python 3 (ipykernel)",
   "language": "python",
   "name": "python3"
  },
  "language_info": {
   "codemirror_mode": {
    "name": "ipython",
    "version": 3
   },
   "file_extension": ".py",
   "mimetype": "text/x-python",
   "name": "python",
   "nbconvert_exporter": "python",
   "pygments_lexer": "ipython3",
   "version": "3.9.16"
  }
 },
 "nbformat": 4,
 "nbformat_minor": 4
}
