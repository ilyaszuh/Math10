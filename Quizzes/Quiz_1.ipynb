{
 "cells": [
  {
   "cell_type": "code",
   "execution_count": 1,
   "id": "6544ffea",
   "metadata": {},
   "outputs": [
    {
     "name": "stdout",
     "output_type": "stream",
     "text": [
      "-4\n",
      "[ 3  1  0 -3 -2 -5 -5 -5 -4  3  1  4  0  1  4  2  1  0  0  4 -3  3  1 -5\n",
      " -2  3  0 -5  2  2]\n",
      "[-1.         -0.52272727 -0.04545455  0.43181818  0.90909091  1.38636364\n",
      "  1.86363636  2.34090909  2.81818182  3.29545455  3.77272727  4.25\n",
      "  4.72727273  5.20454545  5.68181818  6.15909091  6.63636364  7.11363636\n",
      "  7.59090909  8.06818182  8.54545455  9.02272727  9.5         9.97727273\n",
      " 10.45454545 10.93181818 11.40909091 11.88636364 12.36363636 12.84090909\n",
      " 13.31818182 13.79545455 14.27272727 14.75       15.22727273 15.70454545\n",
      " 16.18181818 16.65909091 17.13636364 17.61363636 18.09090909 18.56818182\n",
      " 19.04545455 19.52272727 20.        ]\n",
      "88.25\n"
     ]
    }
   ],
   "source": [
    "import numpy as np\n",
    "rng = np.random.default_rng(0)\n",
    "\n",
    "a = rng.integers(-5, 5, 30)\n",
    "print(a.sum())\n",
    "print(a)\n",
    "\n",
    "a = np.linspace(-1, 20, 45)\n",
    "print(a)\n",
    "print(np.sum(a[0:22]))"
   ]
  },
  {
   "cell_type": "code",
   "execution_count": null,
   "id": "4df499d6",
   "metadata": {},
   "outputs": [],
   "source": []
  },
  {
   "cell_type": "code",
   "execution_count": null,
   "id": "7fe7acda",
   "metadata": {},
   "outputs": [],
   "source": []
  }
 ],
 "metadata": {
  "kernelspec": {
   "display_name": "base",
   "language": "python",
   "name": "python3"
  },
  "language_info": {
   "codemirror_mode": {
    "name": "ipython",
    "version": 3
   },
   "file_extension": ".py",
   "mimetype": "text/x-python",
   "name": "python",
   "nbconvert_exporter": "python",
   "pygments_lexer": "ipython3",
   "version": "3.13.5"
  }
 },
 "nbformat": 4,
 "nbformat_minor": 5
}
